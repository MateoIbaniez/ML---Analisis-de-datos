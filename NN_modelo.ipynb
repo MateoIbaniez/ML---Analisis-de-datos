{
  "cells": [
    {
      "cell_type": "markdown",
      "metadata": {
        "id": "view-in-github",
        "colab_type": "text"
      },
      "source": [
        "<a href=\"https://colab.research.google.com/github/MateoIbaniez/ML---Analisis-de-datos/blob/main/NN_modelo.ipynb\" target=\"_parent\"><img src=\"https://colab.research.google.com/assets/colab-badge.svg\" alt=\"Open In Colab\"/></a>"
      ]
    },
    {
      "cell_type": "markdown",
      "source": [
        "Aclaraciones:\n",
        "\n",
        "No se puede correr todo el notebook de una. Se debe correr todo hasta despues de haber agragado la segunda nueva feature (que esta en el apartado nuevas features), alli se guarda lo ya obtenido y se reinicia el entorno. Se continua (cargando lo guardado) y se termina con las nuevas features. Por las dudas conviene aca volver a guardar, reiniciar y cargar. Contiunuar con el shodan, el split entre train y validation el encodeo y por ultimo normalizar. Una vez aqui ya se esta listo para buscar hiper parametros y predecir\n"
      ],
      "metadata": {
        "id": "wv0EoNrckvPq"
      }
    },
    {
      "cell_type": "markdown",
      "source": [
        "¿cómo conviene elegir los datos de validación respecto de los de train?:\n",
        "\n",
        "A los datos conviene elegirlos separando por ip. Siendo que por ej, el 20% de las ips vayan a valid y el 80% a train. Y las ips de train no estan en valid y viceversa. A su vez lo que hice fue siempre dejar en validation un distribucion como la de la data que nosa dan, 98% ips de label 0 y 2% ips del label 1.\n"
      ],
      "metadata": {
        "id": "cGHizP8aEtgz"
      }
    },
    {
      "cell_type": "markdown",
      "metadata": {
        "id": "0zYDZe50fIiI"
      },
      "source": [
        "#imports\n"
      ]
    },
    {
      "cell_type": "code",
      "execution_count": null,
      "metadata": {
        "colab": {
          "base_uri": "https://localhost:8080/"
        },
        "id": "V9igRWydi0v8",
        "outputId": "7396ffe4-065d-4d36-b2df-82ec044f40f6"
      },
      "outputs": [
        {
          "output_type": "stream",
          "name": "stdout",
          "text": [
            "Mounted at /content/drive\n"
          ]
        }
      ],
      "source": [
        "from google.colab import drive\n",
        "drive.mount(\"/content/drive\")"
      ]
    },
    {
      "cell_type": "code",
      "execution_count": null,
      "metadata": {
        "id": "_6eE7tLFi10B"
      },
      "outputs": [],
      "source": [
        "import numpy as np\n",
        "import scipy as sc"
      ]
    },
    {
      "cell_type": "code",
      "execution_count": null,
      "metadata": {
        "id": "2jSqZC7OwPZe"
      },
      "outputs": [],
      "source": [
        "from lightgbm import LGBMClassifier"
      ]
    },
    {
      "cell_type": "code",
      "execution_count": null,
      "metadata": {
        "colab": {
          "base_uri": "https://localhost:8080/"
        },
        "id": "6iy0YwvI1umW",
        "outputId": "7cae6475-b622-413f-b0ac-00e93877c120"
      },
      "outputs": [
        {
          "output_type": "stream",
          "name": "stdout",
          "text": [
            "Python 3.10.12\n"
          ]
        }
      ],
      "source": [
        "!python --version"
      ]
    },
    {
      "cell_type": "code",
      "execution_count": null,
      "metadata": {
        "colab": {
          "base_uri": "https://localhost:8080/",
          "height": 356
        },
        "id": "AqRWHF-Qqxcd",
        "outputId": "0680e6b8-f1e4-45c5-b5b2-e23d500b16fb"
      },
      "outputs": [
        {
          "output_type": "stream",
          "name": "stdout",
          "text": [
            "Requirement already satisfied: scikit-learn in /usr/local/lib/python3.10/dist-packages (1.2.2)\n",
            "Collecting scikit-learn\n",
            "  Downloading scikit_learn-1.3.2-cp310-cp310-manylinux_2_17_x86_64.manylinux2014_x86_64.whl (10.8 MB)\n",
            "\u001b[2K     \u001b[90m━━━━━━━━━━━━━━━━━━━━━━━━━━━━━━━━━━━━━━━━\u001b[0m \u001b[32m10.8/10.8 MB\u001b[0m \u001b[31m27.7 MB/s\u001b[0m eta \u001b[36m0:00:00\u001b[0m\n",
            "\u001b[?25hRequirement already satisfied: numpy<2.0,>=1.17.3 in /usr/local/lib/python3.10/dist-packages (from scikit-learn) (1.23.5)\n",
            "Requirement already satisfied: scipy>=1.5.0 in /usr/local/lib/python3.10/dist-packages (from scikit-learn) (1.11.4)\n",
            "Requirement already satisfied: joblib>=1.1.1 in /usr/local/lib/python3.10/dist-packages (from scikit-learn) (1.3.2)\n",
            "Requirement already satisfied: threadpoolctl>=2.0.0 in /usr/local/lib/python3.10/dist-packages (from scikit-learn) (3.2.0)\n",
            "Installing collected packages: scikit-learn\n",
            "  Attempting uninstall: scikit-learn\n",
            "    Found existing installation: scikit-learn 1.2.2\n",
            "    Uninstalling scikit-learn-1.2.2:\n",
            "      Successfully uninstalled scikit-learn-1.2.2\n",
            "Successfully installed scikit-learn-1.3.2\n"
          ]
        },
        {
          "output_type": "display_data",
          "data": {
            "application/vnd.colab-display-data+json": {
              "pip_warning": {
                "packages": [
                  "sklearn"
                ]
              }
            }
          },
          "metadata": {}
        }
      ],
      "source": [
        "pip install -U scikit-learn"
      ]
    },
    {
      "cell_type": "code",
      "execution_count": null,
      "metadata": {
        "id": "wj75njFsq00U",
        "colab": {
          "base_uri": "https://localhost:8080/",
          "height": 175
        },
        "outputId": "6bd8b732-4605-4a82-82f3-94134e0ec736"
      },
      "outputs": [
        {
          "output_type": "error",
          "ename": "ImportError",
          "evalue": "ignored",
          "traceback": [
            "\u001b[0;31m---------------------------------------------------------------------------\u001b[0m",
            "\u001b[0;31mImportError\u001b[0m                               Traceback (most recent call last)",
            "\u001b[0;32m<ipython-input-6-093ac4325e86>\u001b[0m in \u001b[0;36m<cell line: 1>\u001b[0;34m()\u001b[0m\n\u001b[0;32m----> 1\u001b[0;31m \u001b[0;32mfrom\u001b[0m \u001b[0msklearn\u001b[0m\u001b[0;34m.\u001b[0m\u001b[0mpreprocessing\u001b[0m \u001b[0;32mimport\u001b[0m \u001b[0mTargetEncoder\u001b[0m\u001b[0;34m\u001b[0m\u001b[0;34m\u001b[0m\u001b[0m\n\u001b[0m",
            "\u001b[0;31mImportError\u001b[0m: cannot import name 'TargetEncoder' from 'sklearn.preprocessing' (/usr/local/lib/python3.10/dist-packages/sklearn/preprocessing/__init__.py)"
          ]
        }
      ],
      "source": [
        "from sklearn.preprocessing import TargetEncoder"
      ]
    },
    {
      "cell_type": "code",
      "execution_count": null,
      "metadata": {
        "id": "Lkum2AmFi9XD"
      },
      "outputs": [],
      "source": [
        "pip install category_encoders"
      ]
    },
    {
      "cell_type": "code",
      "execution_count": null,
      "metadata": {
        "id": "khLYGnmhjDVs"
      },
      "outputs": [],
      "source": [
        "import pandas as pd\n",
        "from sklearn.linear_model import Perceptron\n",
        "from sklearn.model_selection import train_test_split\n",
        "from sklearn.metrics import mean_squared_error, mean_absolute_error\n",
        "from sklearn.model_selection import RandomizedSearchCV\n",
        "import sklearn as sk\n",
        "import re\n",
        "from sklearn.neural_network import MLPClassifier"
      ]
    },
    {
      "cell_type": "code",
      "execution_count": null,
      "metadata": {
        "id": "UfFTiT0CbtAU"
      },
      "outputs": [],
      "source": [
        "import category_encoders as ce"
      ]
    },
    {
      "cell_type": "markdown",
      "metadata": {
        "id": "2z9gb5iKKAu3"
      },
      "source": [
        "#Carga de los datos y drop"
      ]
    },
    {
      "cell_type": "code",
      "execution_count": null,
      "metadata": {
        "id": "CU6zywvglItD"
      },
      "outputs": [],
      "source": [
        "data = pd.read_parquet('/content/drive/MyDrive/data tp ml/train.parq')"
      ]
    },
    {
      "cell_type": "markdown",
      "metadata": {
        "id": "E1EFGuI1SsV0"
      },
      "source": [
        "Dado a que el \"watcher_as_name\" y \"watcher_as_num\" (lo mismo con attacker), representan ambos al dato AS (Autonomous System), pero uno como string y el otro como numero, procedo a dropear, las columnas \"watcher_as_name\" y \"attacker_as_name\". Explicacion de que es AS: Un sistema autónomo (AS) es una red o grupo de redes muy grande con una única política de enrutamiento. A cada AS se le asigna un único ASN, que es un número que identifica al AS. (explicacionn obtenida del sitio de cloudflare)."
      ]
    },
    {
      "cell_type": "code",
      "execution_count": null,
      "metadata": {
        "id": "s8fC71A6TV7f"
      },
      "outputs": [],
      "source": [
        "data.drop(axis=1, columns=['attacker_as_num', \"watcher_as_num\"], inplace=True)"
      ]
    },
    {
      "cell_type": "markdown",
      "metadata": {
        "id": "NBBA_XkqBoJD"
      },
      "source": [
        "Vemos si hay filas duplicadas. En caso de que todos los elementos de la fila sean repetidos"
      ]
    },
    {
      "cell_type": "code",
      "execution_count": null,
      "metadata": {
        "id": "oE75_W28CaWD"
      },
      "outputs": [],
      "source": [
        "data.drop_duplicates(inplace=True)"
      ]
    },
    {
      "cell_type": "code",
      "execution_count": null,
      "metadata": {
        "id": "H_D8oHuOEfxm"
      },
      "outputs": [],
      "source": [
        "data"
      ]
    },
    {
      "cell_type": "code",
      "execution_count": null,
      "metadata": {
        "id": "dnGoS9OXSUtL"
      },
      "outputs": [],
      "source": [
        "#data.dropna(how = 'any', inplace=True)\n",
        "columnas = data.columns\n",
        "dicc = {}\n",
        "\n",
        "for col in columnas:\n",
        "  dicc[col] = data[col].isnull().values.any()\n",
        "\n",
        "dicc\n"
      ]
    },
    {
      "cell_type": "code",
      "execution_count": null,
      "metadata": {
        "id": "naJGLnQ-asiD"
      },
      "outputs": [],
      "source": [
        "data.watcher_country = data.watcher_country.astype('object')\n",
        "data.attacker_country = data.attacker_country.astype('object')\n",
        "\n",
        "data.watcher_country.fillna ( 'nan', inplace = True)\n",
        "data.attacker_country.fillna('nan', inplace = True)\n",
        "\n",
        "data.watcher_country = data.watcher_country.astype('category')\n",
        "data.attacker_country = data.attacker_country.astype('category')\n"
      ]
    },
    {
      "cell_type": "markdown",
      "metadata": {
        "id": "79sLc57NCL_v"
      },
      "source": [
        "Veo cuantas cosas distintas hay en cada categoria. No me fijo cuantos attackt_time hay xq es obvio que muchos."
      ]
    },
    {
      "cell_type": "code",
      "execution_count": null,
      "metadata": {
        "id": "fwTZfGqpLHk-"
      },
      "outputs": [],
      "source": [
        "#categorias = {}\n",
        "\n",
        "#categorias['watcher_country'] = len(list(data.watcher_country.unique()))\n",
        "# categorias['attacker_country'] = len(list(data.attacker_country.unique()))\n",
        "# categorias['attack_type'] = len(list(data.attack_type.unique()))\n",
        "# categorias['attacker_as_num'] = len(list(data.attacker_as_num.unique()))\n",
        "# categorias['watcher_as_num'] = len(list(data.watcher_as_num.unique()))\n",
        "\n",
        "# categorias"
      ]
    },
    {
      "cell_type": "markdown",
      "metadata": {
        "id": "9CwImxYwEPeI"
      },
      "source": [
        "#Acomodar la data\n"
      ]
    },
    {
      "cell_type": "markdown",
      "metadata": {
        "id": "NJsb-LLiIy7g"
      },
      "source": [
        "Con lo analizado pasamos los tipos de ataque de 15 a 6\n",
        "\n",
        "*   http:spam\n",
        "*   http:scan\n",
        "*   http:exploit\n",
        "*   ssh:bruteforce\n",
        "*   http:bruteforce\n",
        "*   otro"
      ]
    },
    {
      "cell_type": "code",
      "execution_count": null,
      "metadata": {
        "colab": {
          "base_uri": "https://localhost:8080/"
        },
        "id": "hSVzLijODtzo",
        "outputId": "68138693-f149-461a-8228-f5b5386db048"
      },
      "outputs": [
        {
          "data": {
            "text/html": [
              "\n",
              "  <div id=\"df-860e1651-820b-4b9e-90d4-e64d676e2580\" class=\"colab-df-container\">\n",
              "    <div>\n",
              "<style scoped>\n",
              "    .dataframe tbody tr th:only-of-type {\n",
              "        vertical-align: middle;\n",
              "    }\n",
              "\n",
              "    .dataframe tbody tr th {\n",
              "        vertical-align: top;\n",
              "    }\n",
              "\n",
              "    .dataframe thead th {\n",
              "        text-align: right;\n",
              "    }\n",
              "</style>\n",
              "<table border=\"1\" class=\"dataframe\">\n",
              "  <thead>\n",
              "    <tr style=\"text-align: right;\">\n",
              "      <th></th>\n",
              "      <th>tipo</th>\n",
              "      <th>cantidad</th>\n",
              "    </tr>\n",
              "  </thead>\n",
              "  <tbody>\n",
              "    <tr>\n",
              "      <th>0</th>\n",
              "      <td>http:spam</td>\n",
              "      <td>12971937</td>\n",
              "    </tr>\n",
              "    <tr>\n",
              "      <th>1</th>\n",
              "      <td>http:scan</td>\n",
              "      <td>9378467</td>\n",
              "    </tr>\n",
              "    <tr>\n",
              "      <th>2</th>\n",
              "      <td>http:exploit</td>\n",
              "      <td>7191852</td>\n",
              "    </tr>\n",
              "    <tr>\n",
              "      <th>3</th>\n",
              "      <td>ssh:bruteforce</td>\n",
              "      <td>4533447</td>\n",
              "    </tr>\n",
              "    <tr>\n",
              "      <th>4</th>\n",
              "      <td>http:bruteforce</td>\n",
              "      <td>4220069</td>\n",
              "    </tr>\n",
              "    <tr>\n",
              "      <th>5</th>\n",
              "      <td>windows:bruteforce</td>\n",
              "      <td>568301</td>\n",
              "    </tr>\n",
              "    <tr>\n",
              "      <th>6</th>\n",
              "      <td>pop3/imap:bruteforce</td>\n",
              "      <td>440027</td>\n",
              "    </tr>\n",
              "    <tr>\n",
              "      <th>7</th>\n",
              "      <td>tcp:scan</td>\n",
              "      <td>334790</td>\n",
              "    </tr>\n",
              "    <tr>\n",
              "      <th>8</th>\n",
              "      <td>unknown:unknown</td>\n",
              "      <td>323418</td>\n",
              "    </tr>\n",
              "    <tr>\n",
              "      <th>9</th>\n",
              "      <td>sip:bruteforce</td>\n",
              "      <td>224943</td>\n",
              "    </tr>\n",
              "    <tr>\n",
              "      <th>10</th>\n",
              "      <td>http:crawl</td>\n",
              "      <td>86820</td>\n",
              "    </tr>\n",
              "    <tr>\n",
              "      <th>11</th>\n",
              "      <td>smb:bruteforce</td>\n",
              "      <td>12436</td>\n",
              "    </tr>\n",
              "    <tr>\n",
              "      <th>12</th>\n",
              "      <td>telnet:bruteforce</td>\n",
              "      <td>2395</td>\n",
              "    </tr>\n",
              "    <tr>\n",
              "      <th>13</th>\n",
              "      <td>ftp:bruteforce</td>\n",
              "      <td>953</td>\n",
              "    </tr>\n",
              "    <tr>\n",
              "      <th>14</th>\n",
              "      <td>database:bruteforce</td>\n",
              "      <td>453</td>\n",
              "    </tr>\n",
              "  </tbody>\n",
              "</table>\n",
              "</div>\n",
              "    <div class=\"colab-df-buttons\">\n",
              "\n",
              "  <div class=\"colab-df-container\">\n",
              "    <button class=\"colab-df-convert\" onclick=\"convertToInteractive('df-860e1651-820b-4b9e-90d4-e64d676e2580')\"\n",
              "            title=\"Convert this dataframe to an interactive table.\"\n",
              "            style=\"display:none;\">\n",
              "\n",
              "  <svg xmlns=\"http://www.w3.org/2000/svg\" height=\"24px\" viewBox=\"0 -960 960 960\">\n",
              "    <path d=\"M120-120v-720h720v720H120Zm60-500h600v-160H180v160Zm220 220h160v-160H400v160Zm0 220h160v-160H400v160ZM180-400h160v-160H180v160Zm440 0h160v-160H620v160ZM180-180h160v-160H180v160Zm440 0h160v-160H620v160Z\"/>\n",
              "  </svg>\n",
              "    </button>\n",
              "\n",
              "  <style>\n",
              "    .colab-df-container {\n",
              "      display:flex;\n",
              "      gap: 12px;\n",
              "    }\n",
              "\n",
              "    .colab-df-convert {\n",
              "      background-color: #E8F0FE;\n",
              "      border: none;\n",
              "      border-radius: 50%;\n",
              "      cursor: pointer;\n",
              "      display: none;\n",
              "      fill: #1967D2;\n",
              "      height: 32px;\n",
              "      padding: 0 0 0 0;\n",
              "      width: 32px;\n",
              "    }\n",
              "\n",
              "    .colab-df-convert:hover {\n",
              "      background-color: #E2EBFA;\n",
              "      box-shadow: 0px 1px 2px rgba(60, 64, 67, 0.3), 0px 1px 3px 1px rgba(60, 64, 67, 0.15);\n",
              "      fill: #174EA6;\n",
              "    }\n",
              "\n",
              "    .colab-df-buttons div {\n",
              "      margin-bottom: 4px;\n",
              "    }\n",
              "\n",
              "    [theme=dark] .colab-df-convert {\n",
              "      background-color: #3B4455;\n",
              "      fill: #D2E3FC;\n",
              "    }\n",
              "\n",
              "    [theme=dark] .colab-df-convert:hover {\n",
              "      background-color: #434B5C;\n",
              "      box-shadow: 0px 1px 3px 1px rgba(0, 0, 0, 0.15);\n",
              "      filter: drop-shadow(0px 1px 2px rgba(0, 0, 0, 0.3));\n",
              "      fill: #FFFFFF;\n",
              "    }\n",
              "  </style>\n",
              "\n",
              "    <script>\n",
              "      const buttonEl =\n",
              "        document.querySelector('#df-860e1651-820b-4b9e-90d4-e64d676e2580 button.colab-df-convert');\n",
              "      buttonEl.style.display =\n",
              "        google.colab.kernel.accessAllowed ? 'block' : 'none';\n",
              "\n",
              "      async function convertToInteractive(key) {\n",
              "        const element = document.querySelector('#df-860e1651-820b-4b9e-90d4-e64d676e2580');\n",
              "        const dataTable =\n",
              "          await google.colab.kernel.invokeFunction('convertToInteractive',\n",
              "                                                    [key], {});\n",
              "        if (!dataTable) return;\n",
              "\n",
              "        const docLinkHtml = 'Like what you see? Visit the ' +\n",
              "          '<a target=\"_blank\" href=https://colab.research.google.com/notebooks/data_table.ipynb>data table notebook</a>'\n",
              "          + ' to learn more about interactive tables.';\n",
              "        element.innerHTML = '';\n",
              "        dataTable['output_type'] = 'display_data';\n",
              "        await google.colab.output.renderOutput(dataTable, element);\n",
              "        const docLink = document.createElement('div');\n",
              "        docLink.innerHTML = docLinkHtml;\n",
              "        element.appendChild(docLink);\n",
              "      }\n",
              "    </script>\n",
              "  </div>\n",
              "\n",
              "\n",
              "<div id=\"df-c3f7aa49-4109-49f3-8427-af0f76866503\">\n",
              "  <button class=\"colab-df-quickchart\" onclick=\"quickchart('df-c3f7aa49-4109-49f3-8427-af0f76866503')\"\n",
              "            title=\"Suggest charts\"\n",
              "            style=\"display:none;\">\n",
              "\n",
              "<svg xmlns=\"http://www.w3.org/2000/svg\" height=\"24px\"viewBox=\"0 0 24 24\"\n",
              "     width=\"24px\">\n",
              "    <g>\n",
              "        <path d=\"M19 3H5c-1.1 0-2 .9-2 2v14c0 1.1.9 2 2 2h14c1.1 0 2-.9 2-2V5c0-1.1-.9-2-2-2zM9 17H7v-7h2v7zm4 0h-2V7h2v10zm4 0h-2v-4h2v4z\"/>\n",
              "    </g>\n",
              "</svg>\n",
              "  </button>\n",
              "\n",
              "<style>\n",
              "  .colab-df-quickchart {\n",
              "      --bg-color: #E8F0FE;\n",
              "      --fill-color: #1967D2;\n",
              "      --hover-bg-color: #E2EBFA;\n",
              "      --hover-fill-color: #174EA6;\n",
              "      --disabled-fill-color: #AAA;\n",
              "      --disabled-bg-color: #DDD;\n",
              "  }\n",
              "\n",
              "  [theme=dark] .colab-df-quickchart {\n",
              "      --bg-color: #3B4455;\n",
              "      --fill-color: #D2E3FC;\n",
              "      --hover-bg-color: #434B5C;\n",
              "      --hover-fill-color: #FFFFFF;\n",
              "      --disabled-bg-color: #3B4455;\n",
              "      --disabled-fill-color: #666;\n",
              "  }\n",
              "\n",
              "  .colab-df-quickchart {\n",
              "    background-color: var(--bg-color);\n",
              "    border: none;\n",
              "    border-radius: 50%;\n",
              "    cursor: pointer;\n",
              "    display: none;\n",
              "    fill: var(--fill-color);\n",
              "    height: 32px;\n",
              "    padding: 0;\n",
              "    width: 32px;\n",
              "  }\n",
              "\n",
              "  .colab-df-quickchart:hover {\n",
              "    background-color: var(--hover-bg-color);\n",
              "    box-shadow: 0 1px 2px rgba(60, 64, 67, 0.3), 0 1px 3px 1px rgba(60, 64, 67, 0.15);\n",
              "    fill: var(--button-hover-fill-color);\n",
              "  }\n",
              "\n",
              "  .colab-df-quickchart-complete:disabled,\n",
              "  .colab-df-quickchart-complete:disabled:hover {\n",
              "    background-color: var(--disabled-bg-color);\n",
              "    fill: var(--disabled-fill-color);\n",
              "    box-shadow: none;\n",
              "  }\n",
              "\n",
              "  .colab-df-spinner {\n",
              "    border: 2px solid var(--fill-color);\n",
              "    border-color: transparent;\n",
              "    border-bottom-color: var(--fill-color);\n",
              "    animation:\n",
              "      spin 1s steps(1) infinite;\n",
              "  }\n",
              "\n",
              "  @keyframes spin {\n",
              "    0% {\n",
              "      border-color: transparent;\n",
              "      border-bottom-color: var(--fill-color);\n",
              "      border-left-color: var(--fill-color);\n",
              "    }\n",
              "    20% {\n",
              "      border-color: transparent;\n",
              "      border-left-color: var(--fill-color);\n",
              "      border-top-color: var(--fill-color);\n",
              "    }\n",
              "    30% {\n",
              "      border-color: transparent;\n",
              "      border-left-color: var(--fill-color);\n",
              "      border-top-color: var(--fill-color);\n",
              "      border-right-color: var(--fill-color);\n",
              "    }\n",
              "    40% {\n",
              "      border-color: transparent;\n",
              "      border-right-color: var(--fill-color);\n",
              "      border-top-color: var(--fill-color);\n",
              "    }\n",
              "    60% {\n",
              "      border-color: transparent;\n",
              "      border-right-color: var(--fill-color);\n",
              "    }\n",
              "    80% {\n",
              "      border-color: transparent;\n",
              "      border-right-color: var(--fill-color);\n",
              "      border-bottom-color: var(--fill-color);\n",
              "    }\n",
              "    90% {\n",
              "      border-color: transparent;\n",
              "      border-bottom-color: var(--fill-color);\n",
              "    }\n",
              "  }\n",
              "</style>\n",
              "\n",
              "  <script>\n",
              "    async function quickchart(key) {\n",
              "      const quickchartButtonEl =\n",
              "        document.querySelector('#' + key + ' button');\n",
              "      quickchartButtonEl.disabled = true;  // To prevent multiple clicks.\n",
              "      quickchartButtonEl.classList.add('colab-df-spinner');\n",
              "      try {\n",
              "        const charts = await google.colab.kernel.invokeFunction(\n",
              "            'suggestCharts', [key], {});\n",
              "      } catch (error) {\n",
              "        console.error('Error during call to suggestCharts:', error);\n",
              "      }\n",
              "      quickchartButtonEl.classList.remove('colab-df-spinner');\n",
              "      quickchartButtonEl.classList.add('colab-df-quickchart-complete');\n",
              "    }\n",
              "    (() => {\n",
              "      let quickchartButtonEl =\n",
              "        document.querySelector('#df-c3f7aa49-4109-49f3-8427-af0f76866503 button');\n",
              "      quickchartButtonEl.style.display =\n",
              "        google.colab.kernel.accessAllowed ? 'block' : 'none';\n",
              "    })();\n",
              "  </script>\n",
              "</div>\n",
              "    </div>\n",
              "  </div>\n"
            ],
            "text/plain": [
              "                    tipo  cantidad\n",
              "0              http:spam  12971937\n",
              "1              http:scan   9378467\n",
              "2           http:exploit   7191852\n",
              "3         ssh:bruteforce   4533447\n",
              "4        http:bruteforce   4220069\n",
              "5     windows:bruteforce    568301\n",
              "6   pop3/imap:bruteforce    440027\n",
              "7               tcp:scan    334790\n",
              "8        unknown:unknown    323418\n",
              "9         sip:bruteforce    224943\n",
              "10            http:crawl     86820\n",
              "11        smb:bruteforce     12436\n",
              "12     telnet:bruteforce      2395\n",
              "13        ftp:bruteforce       953\n",
              "14   database:bruteforce       453"
            ]
          },
          "execution_count": 17,
          "metadata": {},
          "output_type": "execute_result"
        }
      ],
      "source": [
        "tipos_freq = data.attack_type.value_counts().reset_index()\n",
        "tipos_freq.columns = ['tipo', 'cantidad']\n",
        "tipos_freq"
      ]
    },
    {
      "cell_type": "code",
      "execution_count": null,
      "metadata": {
        "id": "qtEsvCXqESYR"
      },
      "outputs": [],
      "source": [
        "primeros_5 = list(tipos_freq.tipo.unique()[:5])\n",
        "cinco_attack_types = data['attack_type']\n",
        "\n",
        "def agrupar_attack_types(x):\n",
        "  tipo = str(x)\n",
        "  if tipo in primeros_5:\n",
        "    return tipo\n",
        "  else:\n",
        "    return 'otro_tipo'\n",
        "\n",
        "cinco_attack_types = cinco_attack_types.map(agrupar_attack_types)"
      ]
    },
    {
      "cell_type": "code",
      "execution_count": null,
      "metadata": {
        "id": "hwiExgROKSdN"
      },
      "outputs": [],
      "source": [
        "data.attack_type =  cinco_attack_types"
      ]
    },
    {
      "cell_type": "code",
      "execution_count": null,
      "metadata": {
        "id": "T_O0FRDl5TlP"
      },
      "outputs": [],
      "source": [
        "data.attack_type = data.attack_type.astype('category')"
      ]
    },
    {
      "cell_type": "code",
      "execution_count": null,
      "metadata": {
        "colab": {
          "base_uri": "https://localhost:8080/"
        },
        "id": "BpCEEn7asH8e",
        "outputId": "346fe66c-f6a6-4552-850a-db0417a3d671"
      },
      "outputs": [
        {
          "data": {
            "text/plain": [
              "['http:exploit', 'http:spam', 'http:bruteforce', 'http:scan', 'otro_tipo', 'ssh:bruteforce']\n",
              "Categories (6, object): ['http:bruteforce', 'http:exploit', 'http:scan', 'http:spam', 'otro_tipo',\n",
              "                         'ssh:bruteforce']"
            ]
          },
          "execution_count": 21,
          "metadata": {},
          "output_type": "execute_result"
        }
      ],
      "source": [
        "data.attack_type.unique()"
      ]
    },
    {
      "cell_type": "markdown",
      "metadata": {
        "id": "UAIHMEHJgogZ"
      },
      "source": [
        "En watche_country nos quedamos los 5 paises que mas frecuencia"
      ]
    },
    {
      "cell_type": "code",
      "execution_count": null,
      "metadata": {
        "colab": {
          "base_uri": "https://localhost:8080/"
        },
        "id": "GEWzWoCkhLxb",
        "outputId": "07e2c542-f793-445d-9a6f-482ce1ff9812"
      },
      "outputs": [
        {
          "data": {
            "text/html": [
              "\n",
              "  <div id=\"df-9bd73754-9897-40a3-9acc-1a9d8cbba41b\" class=\"colab-df-container\">\n",
              "    <div>\n",
              "<style scoped>\n",
              "    .dataframe tbody tr th:only-of-type {\n",
              "        vertical-align: middle;\n",
              "    }\n",
              "\n",
              "    .dataframe tbody tr th {\n",
              "        vertical-align: top;\n",
              "    }\n",
              "\n",
              "    .dataframe thead th {\n",
              "        text-align: right;\n",
              "    }\n",
              "</style>\n",
              "<table border=\"1\" class=\"dataframe\">\n",
              "  <thead>\n",
              "    <tr style=\"text-align: right;\">\n",
              "      <th></th>\n",
              "      <th>pais</th>\n",
              "      <th>cantidad</th>\n",
              "    </tr>\n",
              "  </thead>\n",
              "  <tbody>\n",
              "    <tr>\n",
              "      <th>0</th>\n",
              "      <td>US</td>\n",
              "      <td>13935028</td>\n",
              "    </tr>\n",
              "    <tr>\n",
              "      <th>1</th>\n",
              "      <td>DE</td>\n",
              "      <td>6247878</td>\n",
              "    </tr>\n",
              "    <tr>\n",
              "      <th>2</th>\n",
              "      <td>FR</td>\n",
              "      <td>3556434</td>\n",
              "    </tr>\n",
              "    <tr>\n",
              "      <th>3</th>\n",
              "      <td>GB</td>\n",
              "      <td>2199930</td>\n",
              "    </tr>\n",
              "    <tr>\n",
              "      <th>4</th>\n",
              "      <td>NL</td>\n",
              "      <td>2117352</td>\n",
              "    </tr>\n",
              "    <tr>\n",
              "      <th>...</th>\n",
              "      <td>...</td>\n",
              "      <td>...</td>\n",
              "    </tr>\n",
              "    <tr>\n",
              "      <th>126</th>\n",
              "      <td>MV</td>\n",
              "      <td>10</td>\n",
              "    </tr>\n",
              "    <tr>\n",
              "      <th>127</th>\n",
              "      <td>BB</td>\n",
              "      <td>9</td>\n",
              "    </tr>\n",
              "    <tr>\n",
              "      <th>128</th>\n",
              "      <td>IM</td>\n",
              "      <td>9</td>\n",
              "    </tr>\n",
              "    <tr>\n",
              "      <th>129</th>\n",
              "      <td>MQ</td>\n",
              "      <td>2</td>\n",
              "    </tr>\n",
              "    <tr>\n",
              "      <th>130</th>\n",
              "      <td>KW</td>\n",
              "      <td>2</td>\n",
              "    </tr>\n",
              "  </tbody>\n",
              "</table>\n",
              "<p>131 rows × 2 columns</p>\n",
              "</div>\n",
              "    <div class=\"colab-df-buttons\">\n",
              "\n",
              "  <div class=\"colab-df-container\">\n",
              "    <button class=\"colab-df-convert\" onclick=\"convertToInteractive('df-9bd73754-9897-40a3-9acc-1a9d8cbba41b')\"\n",
              "            title=\"Convert this dataframe to an interactive table.\"\n",
              "            style=\"display:none;\">\n",
              "\n",
              "  <svg xmlns=\"http://www.w3.org/2000/svg\" height=\"24px\" viewBox=\"0 -960 960 960\">\n",
              "    <path d=\"M120-120v-720h720v720H120Zm60-500h600v-160H180v160Zm220 220h160v-160H400v160Zm0 220h160v-160H400v160ZM180-400h160v-160H180v160Zm440 0h160v-160H620v160ZM180-180h160v-160H180v160Zm440 0h160v-160H620v160Z\"/>\n",
              "  </svg>\n",
              "    </button>\n",
              "\n",
              "  <style>\n",
              "    .colab-df-container {\n",
              "      display:flex;\n",
              "      gap: 12px;\n",
              "    }\n",
              "\n",
              "    .colab-df-convert {\n",
              "      background-color: #E8F0FE;\n",
              "      border: none;\n",
              "      border-radius: 50%;\n",
              "      cursor: pointer;\n",
              "      display: none;\n",
              "      fill: #1967D2;\n",
              "      height: 32px;\n",
              "      padding: 0 0 0 0;\n",
              "      width: 32px;\n",
              "    }\n",
              "\n",
              "    .colab-df-convert:hover {\n",
              "      background-color: #E2EBFA;\n",
              "      box-shadow: 0px 1px 2px rgba(60, 64, 67, 0.3), 0px 1px 3px 1px rgba(60, 64, 67, 0.15);\n",
              "      fill: #174EA6;\n",
              "    }\n",
              "\n",
              "    .colab-df-buttons div {\n",
              "      margin-bottom: 4px;\n",
              "    }\n",
              "\n",
              "    [theme=dark] .colab-df-convert {\n",
              "      background-color: #3B4455;\n",
              "      fill: #D2E3FC;\n",
              "    }\n",
              "\n",
              "    [theme=dark] .colab-df-convert:hover {\n",
              "      background-color: #434B5C;\n",
              "      box-shadow: 0px 1px 3px 1px rgba(0, 0, 0, 0.15);\n",
              "      filter: drop-shadow(0px 1px 2px rgba(0, 0, 0, 0.3));\n",
              "      fill: #FFFFFF;\n",
              "    }\n",
              "  </style>\n",
              "\n",
              "    <script>\n",
              "      const buttonEl =\n",
              "        document.querySelector('#df-9bd73754-9897-40a3-9acc-1a9d8cbba41b button.colab-df-convert');\n",
              "      buttonEl.style.display =\n",
              "        google.colab.kernel.accessAllowed ? 'block' : 'none';\n",
              "\n",
              "      async function convertToInteractive(key) {\n",
              "        const element = document.querySelector('#df-9bd73754-9897-40a3-9acc-1a9d8cbba41b');\n",
              "        const dataTable =\n",
              "          await google.colab.kernel.invokeFunction('convertToInteractive',\n",
              "                                                    [key], {});\n",
              "        if (!dataTable) return;\n",
              "\n",
              "        const docLinkHtml = 'Like what you see? Visit the ' +\n",
              "          '<a target=\"_blank\" href=https://colab.research.google.com/notebooks/data_table.ipynb>data table notebook</a>'\n",
              "          + ' to learn more about interactive tables.';\n",
              "        element.innerHTML = '';\n",
              "        dataTable['output_type'] = 'display_data';\n",
              "        await google.colab.output.renderOutput(dataTable, element);\n",
              "        const docLink = document.createElement('div');\n",
              "        docLink.innerHTML = docLinkHtml;\n",
              "        element.appendChild(docLink);\n",
              "      }\n",
              "    </script>\n",
              "  </div>\n",
              "\n",
              "\n",
              "<div id=\"df-fa4f1a7a-9a54-49a2-9976-189307f4e951\">\n",
              "  <button class=\"colab-df-quickchart\" onclick=\"quickchart('df-fa4f1a7a-9a54-49a2-9976-189307f4e951')\"\n",
              "            title=\"Suggest charts\"\n",
              "            style=\"display:none;\">\n",
              "\n",
              "<svg xmlns=\"http://www.w3.org/2000/svg\" height=\"24px\"viewBox=\"0 0 24 24\"\n",
              "     width=\"24px\">\n",
              "    <g>\n",
              "        <path d=\"M19 3H5c-1.1 0-2 .9-2 2v14c0 1.1.9 2 2 2h14c1.1 0 2-.9 2-2V5c0-1.1-.9-2-2-2zM9 17H7v-7h2v7zm4 0h-2V7h2v10zm4 0h-2v-4h2v4z\"/>\n",
              "    </g>\n",
              "</svg>\n",
              "  </button>\n",
              "\n",
              "<style>\n",
              "  .colab-df-quickchart {\n",
              "      --bg-color: #E8F0FE;\n",
              "      --fill-color: #1967D2;\n",
              "      --hover-bg-color: #E2EBFA;\n",
              "      --hover-fill-color: #174EA6;\n",
              "      --disabled-fill-color: #AAA;\n",
              "      --disabled-bg-color: #DDD;\n",
              "  }\n",
              "\n",
              "  [theme=dark] .colab-df-quickchart {\n",
              "      --bg-color: #3B4455;\n",
              "      --fill-color: #D2E3FC;\n",
              "      --hover-bg-color: #434B5C;\n",
              "      --hover-fill-color: #FFFFFF;\n",
              "      --disabled-bg-color: #3B4455;\n",
              "      --disabled-fill-color: #666;\n",
              "  }\n",
              "\n",
              "  .colab-df-quickchart {\n",
              "    background-color: var(--bg-color);\n",
              "    border: none;\n",
              "    border-radius: 50%;\n",
              "    cursor: pointer;\n",
              "    display: none;\n",
              "    fill: var(--fill-color);\n",
              "    height: 32px;\n",
              "    padding: 0;\n",
              "    width: 32px;\n",
              "  }\n",
              "\n",
              "  .colab-df-quickchart:hover {\n",
              "    background-color: var(--hover-bg-color);\n",
              "    box-shadow: 0 1px 2px rgba(60, 64, 67, 0.3), 0 1px 3px 1px rgba(60, 64, 67, 0.15);\n",
              "    fill: var(--button-hover-fill-color);\n",
              "  }\n",
              "\n",
              "  .colab-df-quickchart-complete:disabled,\n",
              "  .colab-df-quickchart-complete:disabled:hover {\n",
              "    background-color: var(--disabled-bg-color);\n",
              "    fill: var(--disabled-fill-color);\n",
              "    box-shadow: none;\n",
              "  }\n",
              "\n",
              "  .colab-df-spinner {\n",
              "    border: 2px solid var(--fill-color);\n",
              "    border-color: transparent;\n",
              "    border-bottom-color: var(--fill-color);\n",
              "    animation:\n",
              "      spin 1s steps(1) infinite;\n",
              "  }\n",
              "\n",
              "  @keyframes spin {\n",
              "    0% {\n",
              "      border-color: transparent;\n",
              "      border-bottom-color: var(--fill-color);\n",
              "      border-left-color: var(--fill-color);\n",
              "    }\n",
              "    20% {\n",
              "      border-color: transparent;\n",
              "      border-left-color: var(--fill-color);\n",
              "      border-top-color: var(--fill-color);\n",
              "    }\n",
              "    30% {\n",
              "      border-color: transparent;\n",
              "      border-left-color: var(--fill-color);\n",
              "      border-top-color: var(--fill-color);\n",
              "      border-right-color: var(--fill-color);\n",
              "    }\n",
              "    40% {\n",
              "      border-color: transparent;\n",
              "      border-right-color: var(--fill-color);\n",
              "      border-top-color: var(--fill-color);\n",
              "    }\n",
              "    60% {\n",
              "      border-color: transparent;\n",
              "      border-right-color: var(--fill-color);\n",
              "    }\n",
              "    80% {\n",
              "      border-color: transparent;\n",
              "      border-right-color: var(--fill-color);\n",
              "      border-bottom-color: var(--fill-color);\n",
              "    }\n",
              "    90% {\n",
              "      border-color: transparent;\n",
              "      border-bottom-color: var(--fill-color);\n",
              "    }\n",
              "  }\n",
              "</style>\n",
              "\n",
              "  <script>\n",
              "    async function quickchart(key) {\n",
              "      const quickchartButtonEl =\n",
              "        document.querySelector('#' + key + ' button');\n",
              "      quickchartButtonEl.disabled = true;  // To prevent multiple clicks.\n",
              "      quickchartButtonEl.classList.add('colab-df-spinner');\n",
              "      try {\n",
              "        const charts = await google.colab.kernel.invokeFunction(\n",
              "            'suggestCharts', [key], {});\n",
              "      } catch (error) {\n",
              "        console.error('Error during call to suggestCharts:', error);\n",
              "      }\n",
              "      quickchartButtonEl.classList.remove('colab-df-spinner');\n",
              "      quickchartButtonEl.classList.add('colab-df-quickchart-complete');\n",
              "    }\n",
              "    (() => {\n",
              "      let quickchartButtonEl =\n",
              "        document.querySelector('#df-fa4f1a7a-9a54-49a2-9976-189307f4e951 button');\n",
              "      quickchartButtonEl.style.display =\n",
              "        google.colab.kernel.accessAllowed ? 'block' : 'none';\n",
              "    })();\n",
              "  </script>\n",
              "</div>\n",
              "    </div>\n",
              "  </div>\n"
            ],
            "text/plain": [
              "    pais  cantidad\n",
              "0     US  13935028\n",
              "1     DE   6247878\n",
              "2     FR   3556434\n",
              "3     GB   2199930\n",
              "4     NL   2117352\n",
              "..   ...       ...\n",
              "126   MV        10\n",
              "127   BB         9\n",
              "128   IM         9\n",
              "129   MQ         2\n",
              "130   KW         2\n",
              "\n",
              "[131 rows x 2 columns]"
            ]
          },
          "execution_count": 22,
          "metadata": {},
          "output_type": "execute_result"
        }
      ],
      "source": [
        "tipos_freq = data.watcher_country.value_counts().reset_index()\n",
        "tipos_freq.columns = ['pais', 'cantidad']\n",
        "tipos_freq"
      ]
    },
    {
      "cell_type": "code",
      "execution_count": null,
      "metadata": {
        "id": "SbikeybPhVxd"
      },
      "outputs": [],
      "source": [
        "primeros_5 = list(tipos_freq.pais.unique()[:5])\n",
        "cinco_watcher_country = data['watcher_country']\n",
        "\n",
        "def agrupar_watcher_countrys(x):\n",
        "  pais = str(x)\n",
        "  if pais in primeros_5:\n",
        "    return pais\n",
        "  else:\n",
        "    return 'otro_pais'\n",
        "\n",
        "cinco_watcher_country = cinco_watcher_country.map(agrupar_watcher_countrys)"
      ]
    },
    {
      "cell_type": "code",
      "execution_count": null,
      "metadata": {
        "id": "FUEp2wX3iF8G"
      },
      "outputs": [],
      "source": [
        "data.watcher_country =  cinco_watcher_country"
      ]
    },
    {
      "cell_type": "code",
      "execution_count": null,
      "metadata": {
        "id": "JrkjCz5hiJi6"
      },
      "outputs": [],
      "source": [
        "data.watcher_country = data.watcher_country.astype('category')"
      ]
    },
    {
      "cell_type": "markdown",
      "metadata": {
        "id": "sABerSUYm4zC"
      },
      "source": [
        "En attacker_counrty me quedo los 16 primeros paises"
      ]
    },
    {
      "cell_type": "code",
      "execution_count": null,
      "metadata": {
        "colab": {
          "base_uri": "https://localhost:8080/"
        },
        "id": "2JL7fTJHnjBc",
        "outputId": "bd3f2003-ea50-462b-b84b-157badf296f3"
      },
      "outputs": [
        {
          "data": {
            "text/html": [
              "\n",
              "  <div id=\"df-0a960312-58f0-43fa-9b13-f989b6a18725\" class=\"colab-df-container\">\n",
              "    <div>\n",
              "<style scoped>\n",
              "    .dataframe tbody tr th:only-of-type {\n",
              "        vertical-align: middle;\n",
              "    }\n",
              "\n",
              "    .dataframe tbody tr th {\n",
              "        vertical-align: top;\n",
              "    }\n",
              "\n",
              "    .dataframe thead th {\n",
              "        text-align: right;\n",
              "    }\n",
              "</style>\n",
              "<table border=\"1\" class=\"dataframe\">\n",
              "  <thead>\n",
              "    <tr style=\"text-align: right;\">\n",
              "      <th></th>\n",
              "      <th>pais</th>\n",
              "      <th>cantidad</th>\n",
              "    </tr>\n",
              "  </thead>\n",
              "  <tbody>\n",
              "    <tr>\n",
              "      <th>0</th>\n",
              "      <td>US</td>\n",
              "      <td>11037930</td>\n",
              "    </tr>\n",
              "    <tr>\n",
              "      <th>1</th>\n",
              "      <td>DE</td>\n",
              "      <td>3374327</td>\n",
              "    </tr>\n",
              "    <tr>\n",
              "      <th>2</th>\n",
              "      <td>SG</td>\n",
              "      <td>2468276</td>\n",
              "    </tr>\n",
              "    <tr>\n",
              "      <th>3</th>\n",
              "      <td>CN</td>\n",
              "      <td>2451386</td>\n",
              "    </tr>\n",
              "    <tr>\n",
              "      <th>4</th>\n",
              "      <td>NL</td>\n",
              "      <td>2132369</td>\n",
              "    </tr>\n",
              "    <tr>\n",
              "      <th>...</th>\n",
              "      <td>...</td>\n",
              "      <td>...</td>\n",
              "    </tr>\n",
              "    <tr>\n",
              "      <th>210</th>\n",
              "      <td>ER</td>\n",
              "      <td>16</td>\n",
              "    </tr>\n",
              "    <tr>\n",
              "      <th>211</th>\n",
              "      <td>NE</td>\n",
              "      <td>13</td>\n",
              "    </tr>\n",
              "    <tr>\n",
              "      <th>212</th>\n",
              "      <td>FO</td>\n",
              "      <td>10</td>\n",
              "    </tr>\n",
              "    <tr>\n",
              "      <th>213</th>\n",
              "      <td>GD</td>\n",
              "      <td>6</td>\n",
              "    </tr>\n",
              "    <tr>\n",
              "      <th>214</th>\n",
              "      <td>SB</td>\n",
              "      <td>6</td>\n",
              "    </tr>\n",
              "  </tbody>\n",
              "</table>\n",
              "<p>215 rows × 2 columns</p>\n",
              "</div>\n",
              "    <div class=\"colab-df-buttons\">\n",
              "\n",
              "  <div class=\"colab-df-container\">\n",
              "    <button class=\"colab-df-convert\" onclick=\"convertToInteractive('df-0a960312-58f0-43fa-9b13-f989b6a18725')\"\n",
              "            title=\"Convert this dataframe to an interactive table.\"\n",
              "            style=\"display:none;\">\n",
              "\n",
              "  <svg xmlns=\"http://www.w3.org/2000/svg\" height=\"24px\" viewBox=\"0 -960 960 960\">\n",
              "    <path d=\"M120-120v-720h720v720H120Zm60-500h600v-160H180v160Zm220 220h160v-160H400v160Zm0 220h160v-160H400v160ZM180-400h160v-160H180v160Zm440 0h160v-160H620v160ZM180-180h160v-160H180v160Zm440 0h160v-160H620v160Z\"/>\n",
              "  </svg>\n",
              "    </button>\n",
              "\n",
              "  <style>\n",
              "    .colab-df-container {\n",
              "      display:flex;\n",
              "      gap: 12px;\n",
              "    }\n",
              "\n",
              "    .colab-df-convert {\n",
              "      background-color: #E8F0FE;\n",
              "      border: none;\n",
              "      border-radius: 50%;\n",
              "      cursor: pointer;\n",
              "      display: none;\n",
              "      fill: #1967D2;\n",
              "      height: 32px;\n",
              "      padding: 0 0 0 0;\n",
              "      width: 32px;\n",
              "    }\n",
              "\n",
              "    .colab-df-convert:hover {\n",
              "      background-color: #E2EBFA;\n",
              "      box-shadow: 0px 1px 2px rgba(60, 64, 67, 0.3), 0px 1px 3px 1px rgba(60, 64, 67, 0.15);\n",
              "      fill: #174EA6;\n",
              "    }\n",
              "\n",
              "    .colab-df-buttons div {\n",
              "      margin-bottom: 4px;\n",
              "    }\n",
              "\n",
              "    [theme=dark] .colab-df-convert {\n",
              "      background-color: #3B4455;\n",
              "      fill: #D2E3FC;\n",
              "    }\n",
              "\n",
              "    [theme=dark] .colab-df-convert:hover {\n",
              "      background-color: #434B5C;\n",
              "      box-shadow: 0px 1px 3px 1px rgba(0, 0, 0, 0.15);\n",
              "      filter: drop-shadow(0px 1px 2px rgba(0, 0, 0, 0.3));\n",
              "      fill: #FFFFFF;\n",
              "    }\n",
              "  </style>\n",
              "\n",
              "    <script>\n",
              "      const buttonEl =\n",
              "        document.querySelector('#df-0a960312-58f0-43fa-9b13-f989b6a18725 button.colab-df-convert');\n",
              "      buttonEl.style.display =\n",
              "        google.colab.kernel.accessAllowed ? 'block' : 'none';\n",
              "\n",
              "      async function convertToInteractive(key) {\n",
              "        const element = document.querySelector('#df-0a960312-58f0-43fa-9b13-f989b6a18725');\n",
              "        const dataTable =\n",
              "          await google.colab.kernel.invokeFunction('convertToInteractive',\n",
              "                                                    [key], {});\n",
              "        if (!dataTable) return;\n",
              "\n",
              "        const docLinkHtml = 'Like what you see? Visit the ' +\n",
              "          '<a target=\"_blank\" href=https://colab.research.google.com/notebooks/data_table.ipynb>data table notebook</a>'\n",
              "          + ' to learn more about interactive tables.';\n",
              "        element.innerHTML = '';\n",
              "        dataTable['output_type'] = 'display_data';\n",
              "        await google.colab.output.renderOutput(dataTable, element);\n",
              "        const docLink = document.createElement('div');\n",
              "        docLink.innerHTML = docLinkHtml;\n",
              "        element.appendChild(docLink);\n",
              "      }\n",
              "    </script>\n",
              "  </div>\n",
              "\n",
              "\n",
              "<div id=\"df-9842e4a5-b118-488f-ba15-36a936db0946\">\n",
              "  <button class=\"colab-df-quickchart\" onclick=\"quickchart('df-9842e4a5-b118-488f-ba15-36a936db0946')\"\n",
              "            title=\"Suggest charts\"\n",
              "            style=\"display:none;\">\n",
              "\n",
              "<svg xmlns=\"http://www.w3.org/2000/svg\" height=\"24px\"viewBox=\"0 0 24 24\"\n",
              "     width=\"24px\">\n",
              "    <g>\n",
              "        <path d=\"M19 3H5c-1.1 0-2 .9-2 2v14c0 1.1.9 2 2 2h14c1.1 0 2-.9 2-2V5c0-1.1-.9-2-2-2zM9 17H7v-7h2v7zm4 0h-2V7h2v10zm4 0h-2v-4h2v4z\"/>\n",
              "    </g>\n",
              "</svg>\n",
              "  </button>\n",
              "\n",
              "<style>\n",
              "  .colab-df-quickchart {\n",
              "      --bg-color: #E8F0FE;\n",
              "      --fill-color: #1967D2;\n",
              "      --hover-bg-color: #E2EBFA;\n",
              "      --hover-fill-color: #174EA6;\n",
              "      --disabled-fill-color: #AAA;\n",
              "      --disabled-bg-color: #DDD;\n",
              "  }\n",
              "\n",
              "  [theme=dark] .colab-df-quickchart {\n",
              "      --bg-color: #3B4455;\n",
              "      --fill-color: #D2E3FC;\n",
              "      --hover-bg-color: #434B5C;\n",
              "      --hover-fill-color: #FFFFFF;\n",
              "      --disabled-bg-color: #3B4455;\n",
              "      --disabled-fill-color: #666;\n",
              "  }\n",
              "\n",
              "  .colab-df-quickchart {\n",
              "    background-color: var(--bg-color);\n",
              "    border: none;\n",
              "    border-radius: 50%;\n",
              "    cursor: pointer;\n",
              "    display: none;\n",
              "    fill: var(--fill-color);\n",
              "    height: 32px;\n",
              "    padding: 0;\n",
              "    width: 32px;\n",
              "  }\n",
              "\n",
              "  .colab-df-quickchart:hover {\n",
              "    background-color: var(--hover-bg-color);\n",
              "    box-shadow: 0 1px 2px rgba(60, 64, 67, 0.3), 0 1px 3px 1px rgba(60, 64, 67, 0.15);\n",
              "    fill: var(--button-hover-fill-color);\n",
              "  }\n",
              "\n",
              "  .colab-df-quickchart-complete:disabled,\n",
              "  .colab-df-quickchart-complete:disabled:hover {\n",
              "    background-color: var(--disabled-bg-color);\n",
              "    fill: var(--disabled-fill-color);\n",
              "    box-shadow: none;\n",
              "  }\n",
              "\n",
              "  .colab-df-spinner {\n",
              "    border: 2px solid var(--fill-color);\n",
              "    border-color: transparent;\n",
              "    border-bottom-color: var(--fill-color);\n",
              "    animation:\n",
              "      spin 1s steps(1) infinite;\n",
              "  }\n",
              "\n",
              "  @keyframes spin {\n",
              "    0% {\n",
              "      border-color: transparent;\n",
              "      border-bottom-color: var(--fill-color);\n",
              "      border-left-color: var(--fill-color);\n",
              "    }\n",
              "    20% {\n",
              "      border-color: transparent;\n",
              "      border-left-color: var(--fill-color);\n",
              "      border-top-color: var(--fill-color);\n",
              "    }\n",
              "    30% {\n",
              "      border-color: transparent;\n",
              "      border-left-color: var(--fill-color);\n",
              "      border-top-color: var(--fill-color);\n",
              "      border-right-color: var(--fill-color);\n",
              "    }\n",
              "    40% {\n",
              "      border-color: transparent;\n",
              "      border-right-color: var(--fill-color);\n",
              "      border-top-color: var(--fill-color);\n",
              "    }\n",
              "    60% {\n",
              "      border-color: transparent;\n",
              "      border-right-color: var(--fill-color);\n",
              "    }\n",
              "    80% {\n",
              "      border-color: transparent;\n",
              "      border-right-color: var(--fill-color);\n",
              "      border-bottom-color: var(--fill-color);\n",
              "    }\n",
              "    90% {\n",
              "      border-color: transparent;\n",
              "      border-bottom-color: var(--fill-color);\n",
              "    }\n",
              "  }\n",
              "</style>\n",
              "\n",
              "  <script>\n",
              "    async function quickchart(key) {\n",
              "      const quickchartButtonEl =\n",
              "        document.querySelector('#' + key + ' button');\n",
              "      quickchartButtonEl.disabled = true;  // To prevent multiple clicks.\n",
              "      quickchartButtonEl.classList.add('colab-df-spinner');\n",
              "      try {\n",
              "        const charts = await google.colab.kernel.invokeFunction(\n",
              "            'suggestCharts', [key], {});\n",
              "      } catch (error) {\n",
              "        console.error('Error during call to suggestCharts:', error);\n",
              "      }\n",
              "      quickchartButtonEl.classList.remove('colab-df-spinner');\n",
              "      quickchartButtonEl.classList.add('colab-df-quickchart-complete');\n",
              "    }\n",
              "    (() => {\n",
              "      let quickchartButtonEl =\n",
              "        document.querySelector('#df-9842e4a5-b118-488f-ba15-36a936db0946 button');\n",
              "      quickchartButtonEl.style.display =\n",
              "        google.colab.kernel.accessAllowed ? 'block' : 'none';\n",
              "    })();\n",
              "  </script>\n",
              "</div>\n",
              "    </div>\n",
              "  </div>\n"
            ],
            "text/plain": [
              "    pais  cantidad\n",
              "0     US  11037930\n",
              "1     DE   3374327\n",
              "2     SG   2468276\n",
              "3     CN   2451386\n",
              "4     NL   2132369\n",
              "..   ...       ...\n",
              "210   ER        16\n",
              "211   NE        13\n",
              "212   FO        10\n",
              "213   GD         6\n",
              "214   SB         6\n",
              "\n",
              "[215 rows x 2 columns]"
            ]
          },
          "execution_count": 26,
          "metadata": {},
          "output_type": "execute_result"
        }
      ],
      "source": [
        "tipos_freq = data.attacker_country.value_counts().reset_index()\n",
        "tipos_freq.columns = ['pais', 'cantidad']\n",
        "tipos_freq"
      ]
    },
    {
      "cell_type": "code",
      "execution_count": null,
      "metadata": {
        "id": "LW_DxlRwnmSg"
      },
      "outputs": [],
      "source": [
        "primeros_15 = list(tipos_freq.pais.unique()[:14])\n",
        "quince_attacker_country = data['attacker_country']\n",
        "def agrupar_attacker_countrys(x):\n",
        "  pais = str(x)\n",
        "  if pais in primeros_15:\n",
        "    return pais\n",
        "  else:\n",
        "    return 'otro_pais'\n",
        "\n",
        "quince_attacker_country = quince_attacker_country.map(agrupar_attacker_countrys)"
      ]
    },
    {
      "cell_type": "code",
      "execution_count": null,
      "metadata": {
        "id": "241hmgPdoFwf"
      },
      "outputs": [],
      "source": [
        "data.attacker_country =  quince_attacker_country"
      ]
    },
    {
      "cell_type": "code",
      "execution_count": null,
      "metadata": {
        "id": "sPbVe0q7oIXK"
      },
      "outputs": [],
      "source": [
        "data.attacker_country = data.attacker_country.astype('category')"
      ]
    },
    {
      "cell_type": "markdown",
      "metadata": {
        "id": "dP0g-69SLCU7"
      },
      "source": [
        "Ajustamos las timezones"
      ]
    },
    {
      "cell_type": "code",
      "execution_count": null,
      "metadata": {
        "id": "p5JTBCO7LBXU"
      },
      "outputs": [],
      "source": [
        "pasar_dias = {\n",
        "  '730' : '1',\n",
        "  '731' : '2'\n",
        "}\n",
        "formato = 798\n",
        "for i in range(3, 32):\n",
        "  pasar_dias[str(formato+i)] = str(i)\n",
        "\n"
      ]
    },
    {
      "cell_type": "code",
      "execution_count": null,
      "metadata": {
        "id": "XJkJ1fROLL8d"
      },
      "outputs": [],
      "source": [
        "time = data.attack_time\n",
        "time1 = time[:20000000]\n",
        "time2 = time[20000000:]"
      ]
    },
    {
      "cell_type": "code",
      "execution_count": null,
      "metadata": {
        "id": "6BcXWt7vLP6e"
      },
      "outputs": [],
      "source": [
        "def recortar_y_formatear_time(x):\n",
        "  fecha = str(x)\n",
        "  #mes_dia = fecha[6:10]\n",
        "  horas_min_seg = fecha[11:14]\n",
        "  #mes_dia = re.sub(\"[-]\",\"\", mes_dia)\n",
        "  #dia = pasar_dias[mes_dia]\n",
        "  horas_min_seg = re.sub(\"[:]\",\"\", horas_min_seg)\n",
        "\n",
        "  return int(horas_min_seg)\n"
      ]
    },
    {
      "cell_type": "code",
      "execution_count": null,
      "metadata": {
        "id": "Gdjf0Je8LTBL"
      },
      "outputs": [],
      "source": [
        "time11 = time1.map(recortar_y_formatear_time)"
      ]
    },
    {
      "cell_type": "code",
      "execution_count": null,
      "metadata": {
        "id": "NNPRzLc_LWQ1"
      },
      "outputs": [],
      "source": [
        "time22 = time2.map(recortar_y_formatear_time)"
      ]
    },
    {
      "cell_type": "code",
      "execution_count": null,
      "metadata": {
        "id": "fPB1ZXJ1LaMF"
      },
      "outputs": [],
      "source": [
        "timefinal = pd.concat([time11, time22])\n",
        "data.attack_time = timefinal"
      ]
    },
    {
      "cell_type": "code",
      "execution_count": null,
      "metadata": {
        "id": "YGtTV5ZlLdOH"
      },
      "outputs": [],
      "source": [
        "data.attack_time = data.attack_time.astype('int32')"
      ]
    },
    {
      "cell_type": "code",
      "execution_count": null,
      "metadata": {
        "colab": {
          "base_uri": "https://localhost:8080/"
        },
        "id": "3awQTfs5Mdw4",
        "outputId": "fd33e590-c2db-4303-aae7-50a1142b2dfd"
      },
      "outputs": [
        {
          "data": {
            "text/html": [
              "\n",
              "  <div id=\"df-399d51d1-eab7-4a1e-bc13-4ef511a81a1c\" class=\"colab-df-container\">\n",
              "    <div>\n",
              "<style scoped>\n",
              "    .dataframe tbody tr th:only-of-type {\n",
              "        vertical-align: middle;\n",
              "    }\n",
              "\n",
              "    .dataframe tbody tr th {\n",
              "        vertical-align: top;\n",
              "    }\n",
              "\n",
              "    .dataframe thead th {\n",
              "        text-align: right;\n",
              "    }\n",
              "</style>\n",
              "<table border=\"1\" class=\"dataframe\">\n",
              "  <thead>\n",
              "    <tr style=\"text-align: right;\">\n",
              "      <th></th>\n",
              "      <th>attack_time</th>\n",
              "      <th>watcher_country</th>\n",
              "      <th>watcher_as_name</th>\n",
              "      <th>attacker_country</th>\n",
              "      <th>attacker_as_name</th>\n",
              "      <th>attack_type</th>\n",
              "      <th>watcher_uuid_enum</th>\n",
              "      <th>attacker_ip_enum</th>\n",
              "      <th>label</th>\n",
              "    </tr>\n",
              "  </thead>\n",
              "  <tbody>\n",
              "    <tr>\n",
              "      <th>0</th>\n",
              "      <td>7</td>\n",
              "      <td>DE</td>\n",
              "      <td>Host Europe GmbH</td>\n",
              "      <td>otro_pais</td>\n",
              "      <td>Murat Aktas</td>\n",
              "      <td>http:exploit</td>\n",
              "      <td>0</td>\n",
              "      <td>6466</td>\n",
              "      <td>0</td>\n",
              "    </tr>\n",
              "    <tr>\n",
              "      <th>1</th>\n",
              "      <td>7</td>\n",
              "      <td>DE</td>\n",
              "      <td>Host Europe GmbH</td>\n",
              "      <td>otro_pais</td>\n",
              "      <td>Murat Aktas</td>\n",
              "      <td>http:spam</td>\n",
              "      <td>0</td>\n",
              "      <td>6466</td>\n",
              "      <td>0</td>\n",
              "    </tr>\n",
              "    <tr>\n",
              "      <th>2</th>\n",
              "      <td>7</td>\n",
              "      <td>DE</td>\n",
              "      <td>bn:t Blatzheim Networks Telecom GmbH</td>\n",
              "      <td>DE</td>\n",
              "      <td>Contabo GmbH</td>\n",
              "      <td>http:bruteforce</td>\n",
              "      <td>2</td>\n",
              "      <td>4637</td>\n",
              "      <td>0</td>\n",
              "    </tr>\n",
              "    <tr>\n",
              "      <th>3</th>\n",
              "      <td>7</td>\n",
              "      <td>DE</td>\n",
              "      <td>bn:t Blatzheim Networks Telecom GmbH</td>\n",
              "      <td>DE</td>\n",
              "      <td>Contabo GmbH</td>\n",
              "      <td>http:spam</td>\n",
              "      <td>2</td>\n",
              "      <td>4637</td>\n",
              "      <td>0</td>\n",
              "    </tr>\n",
              "    <tr>\n",
              "      <th>4</th>\n",
              "      <td>7</td>\n",
              "      <td>DE</td>\n",
              "      <td>bn:t Blatzheim Networks Telecom GmbH</td>\n",
              "      <td>DE</td>\n",
              "      <td>Contabo GmbH</td>\n",
              "      <td>http:exploit</td>\n",
              "      <td>2</td>\n",
              "      <td>4637</td>\n",
              "      <td>0</td>\n",
              "    </tr>\n",
              "    <tr>\n",
              "      <th>...</th>\n",
              "      <td>...</td>\n",
              "      <td>...</td>\n",
              "      <td>...</td>\n",
              "      <td>...</td>\n",
              "      <td>...</td>\n",
              "      <td>...</td>\n",
              "      <td>...</td>\n",
              "      <td>...</td>\n",
              "      <td>...</td>\n",
              "    </tr>\n",
              "    <tr>\n",
              "      <th>61629671</th>\n",
              "      <td>21</td>\n",
              "      <td>US</td>\n",
              "      <td>INMOTION</td>\n",
              "      <td>US</td>\n",
              "      <td>ATT-INTERNET4</td>\n",
              "      <td>http:bruteforce</td>\n",
              "      <td>9606</td>\n",
              "      <td>191439</td>\n",
              "      <td>0</td>\n",
              "    </tr>\n",
              "    <tr>\n",
              "      <th>61629673</th>\n",
              "      <td>21</td>\n",
              "      <td>US</td>\n",
              "      <td>INMOTION</td>\n",
              "      <td>US</td>\n",
              "      <td>ATT-INTERNET4</td>\n",
              "      <td>http:scan</td>\n",
              "      <td>9606</td>\n",
              "      <td>191439</td>\n",
              "      <td>0</td>\n",
              "    </tr>\n",
              "    <tr>\n",
              "      <th>61629674</th>\n",
              "      <td>21</td>\n",
              "      <td>US</td>\n",
              "      <td>INMOTION</td>\n",
              "      <td>US</td>\n",
              "      <td>ATT-INTERNET4</td>\n",
              "      <td>http:exploit</td>\n",
              "      <td>9606</td>\n",
              "      <td>191439</td>\n",
              "      <td>0</td>\n",
              "    </tr>\n",
              "    <tr>\n",
              "      <th>61629681</th>\n",
              "      <td>21</td>\n",
              "      <td>US</td>\n",
              "      <td>NAMECHEAP-NET</td>\n",
              "      <td>US</td>\n",
              "      <td>WOW</td>\n",
              "      <td>http:scan</td>\n",
              "      <td>40383</td>\n",
              "      <td>193446</td>\n",
              "      <td>0</td>\n",
              "    </tr>\n",
              "    <tr>\n",
              "      <th>61629682</th>\n",
              "      <td>21</td>\n",
              "      <td>US</td>\n",
              "      <td>NAMECHEAP-NET</td>\n",
              "      <td>US</td>\n",
              "      <td>WOW</td>\n",
              "      <td>http:spam</td>\n",
              "      <td>40383</td>\n",
              "      <td>193446</td>\n",
              "      <td>0</td>\n",
              "    </tr>\n",
              "  </tbody>\n",
              "</table>\n",
              "<p>40290308 rows × 9 columns</p>\n",
              "</div>\n",
              "    <div class=\"colab-df-buttons\">\n",
              "\n",
              "  <div class=\"colab-df-container\">\n",
              "    <button class=\"colab-df-convert\" onclick=\"convertToInteractive('df-399d51d1-eab7-4a1e-bc13-4ef511a81a1c')\"\n",
              "            title=\"Convert this dataframe to an interactive table.\"\n",
              "            style=\"display:none;\">\n",
              "\n",
              "  <svg xmlns=\"http://www.w3.org/2000/svg\" height=\"24px\" viewBox=\"0 -960 960 960\">\n",
              "    <path d=\"M120-120v-720h720v720H120Zm60-500h600v-160H180v160Zm220 220h160v-160H400v160Zm0 220h160v-160H400v160ZM180-400h160v-160H180v160Zm440 0h160v-160H620v160ZM180-180h160v-160H180v160Zm440 0h160v-160H620v160Z\"/>\n",
              "  </svg>\n",
              "    </button>\n",
              "\n",
              "  <style>\n",
              "    .colab-df-container {\n",
              "      display:flex;\n",
              "      gap: 12px;\n",
              "    }\n",
              "\n",
              "    .colab-df-convert {\n",
              "      background-color: #E8F0FE;\n",
              "      border: none;\n",
              "      border-radius: 50%;\n",
              "      cursor: pointer;\n",
              "      display: none;\n",
              "      fill: #1967D2;\n",
              "      height: 32px;\n",
              "      padding: 0 0 0 0;\n",
              "      width: 32px;\n",
              "    }\n",
              "\n",
              "    .colab-df-convert:hover {\n",
              "      background-color: #E2EBFA;\n",
              "      box-shadow: 0px 1px 2px rgba(60, 64, 67, 0.3), 0px 1px 3px 1px rgba(60, 64, 67, 0.15);\n",
              "      fill: #174EA6;\n",
              "    }\n",
              "\n",
              "    .colab-df-buttons div {\n",
              "      margin-bottom: 4px;\n",
              "    }\n",
              "\n",
              "    [theme=dark] .colab-df-convert {\n",
              "      background-color: #3B4455;\n",
              "      fill: #D2E3FC;\n",
              "    }\n",
              "\n",
              "    [theme=dark] .colab-df-convert:hover {\n",
              "      background-color: #434B5C;\n",
              "      box-shadow: 0px 1px 3px 1px rgba(0, 0, 0, 0.15);\n",
              "      filter: drop-shadow(0px 1px 2px rgba(0, 0, 0, 0.3));\n",
              "      fill: #FFFFFF;\n",
              "    }\n",
              "  </style>\n",
              "\n",
              "    <script>\n",
              "      const buttonEl =\n",
              "        document.querySelector('#df-399d51d1-eab7-4a1e-bc13-4ef511a81a1c button.colab-df-convert');\n",
              "      buttonEl.style.display =\n",
              "        google.colab.kernel.accessAllowed ? 'block' : 'none';\n",
              "\n",
              "      async function convertToInteractive(key) {\n",
              "        const element = document.querySelector('#df-399d51d1-eab7-4a1e-bc13-4ef511a81a1c');\n",
              "        const dataTable =\n",
              "          await google.colab.kernel.invokeFunction('convertToInteractive',\n",
              "                                                    [key], {});\n",
              "        if (!dataTable) return;\n",
              "\n",
              "        const docLinkHtml = 'Like what you see? Visit the ' +\n",
              "          '<a target=\"_blank\" href=https://colab.research.google.com/notebooks/data_table.ipynb>data table notebook</a>'\n",
              "          + ' to learn more about interactive tables.';\n",
              "        element.innerHTML = '';\n",
              "        dataTable['output_type'] = 'display_data';\n",
              "        await google.colab.output.renderOutput(dataTable, element);\n",
              "        const docLink = document.createElement('div');\n",
              "        docLink.innerHTML = docLinkHtml;\n",
              "        element.appendChild(docLink);\n",
              "      }\n",
              "    </script>\n",
              "  </div>\n",
              "\n",
              "\n",
              "<div id=\"df-55debf82-ac24-421c-b916-b86d2da18175\">\n",
              "  <button class=\"colab-df-quickchart\" onclick=\"quickchart('df-55debf82-ac24-421c-b916-b86d2da18175')\"\n",
              "            title=\"Suggest charts\"\n",
              "            style=\"display:none;\">\n",
              "\n",
              "<svg xmlns=\"http://www.w3.org/2000/svg\" height=\"24px\"viewBox=\"0 0 24 24\"\n",
              "     width=\"24px\">\n",
              "    <g>\n",
              "        <path d=\"M19 3H5c-1.1 0-2 .9-2 2v14c0 1.1.9 2 2 2h14c1.1 0 2-.9 2-2V5c0-1.1-.9-2-2-2zM9 17H7v-7h2v7zm4 0h-2V7h2v10zm4 0h-2v-4h2v4z\"/>\n",
              "    </g>\n",
              "</svg>\n",
              "  </button>\n",
              "\n",
              "<style>\n",
              "  .colab-df-quickchart {\n",
              "      --bg-color: #E8F0FE;\n",
              "      --fill-color: #1967D2;\n",
              "      --hover-bg-color: #E2EBFA;\n",
              "      --hover-fill-color: #174EA6;\n",
              "      --disabled-fill-color: #AAA;\n",
              "      --disabled-bg-color: #DDD;\n",
              "  }\n",
              "\n",
              "  [theme=dark] .colab-df-quickchart {\n",
              "      --bg-color: #3B4455;\n",
              "      --fill-color: #D2E3FC;\n",
              "      --hover-bg-color: #434B5C;\n",
              "      --hover-fill-color: #FFFFFF;\n",
              "      --disabled-bg-color: #3B4455;\n",
              "      --disabled-fill-color: #666;\n",
              "  }\n",
              "\n",
              "  .colab-df-quickchart {\n",
              "    background-color: var(--bg-color);\n",
              "    border: none;\n",
              "    border-radius: 50%;\n",
              "    cursor: pointer;\n",
              "    display: none;\n",
              "    fill: var(--fill-color);\n",
              "    height: 32px;\n",
              "    padding: 0;\n",
              "    width: 32px;\n",
              "  }\n",
              "\n",
              "  .colab-df-quickchart:hover {\n",
              "    background-color: var(--hover-bg-color);\n",
              "    box-shadow: 0 1px 2px rgba(60, 64, 67, 0.3), 0 1px 3px 1px rgba(60, 64, 67, 0.15);\n",
              "    fill: var(--button-hover-fill-color);\n",
              "  }\n",
              "\n",
              "  .colab-df-quickchart-complete:disabled,\n",
              "  .colab-df-quickchart-complete:disabled:hover {\n",
              "    background-color: var(--disabled-bg-color);\n",
              "    fill: var(--disabled-fill-color);\n",
              "    box-shadow: none;\n",
              "  }\n",
              "\n",
              "  .colab-df-spinner {\n",
              "    border: 2px solid var(--fill-color);\n",
              "    border-color: transparent;\n",
              "    border-bottom-color: var(--fill-color);\n",
              "    animation:\n",
              "      spin 1s steps(1) infinite;\n",
              "  }\n",
              "\n",
              "  @keyframes spin {\n",
              "    0% {\n",
              "      border-color: transparent;\n",
              "      border-bottom-color: var(--fill-color);\n",
              "      border-left-color: var(--fill-color);\n",
              "    }\n",
              "    20% {\n",
              "      border-color: transparent;\n",
              "      border-left-color: var(--fill-color);\n",
              "      border-top-color: var(--fill-color);\n",
              "    }\n",
              "    30% {\n",
              "      border-color: transparent;\n",
              "      border-left-color: var(--fill-color);\n",
              "      border-top-color: var(--fill-color);\n",
              "      border-right-color: var(--fill-color);\n",
              "    }\n",
              "    40% {\n",
              "      border-color: transparent;\n",
              "      border-right-color: var(--fill-color);\n",
              "      border-top-color: var(--fill-color);\n",
              "    }\n",
              "    60% {\n",
              "      border-color: transparent;\n",
              "      border-right-color: var(--fill-color);\n",
              "    }\n",
              "    80% {\n",
              "      border-color: transparent;\n",
              "      border-right-color: var(--fill-color);\n",
              "      border-bottom-color: var(--fill-color);\n",
              "    }\n",
              "    90% {\n",
              "      border-color: transparent;\n",
              "      border-bottom-color: var(--fill-color);\n",
              "    }\n",
              "  }\n",
              "</style>\n",
              "\n",
              "  <script>\n",
              "    async function quickchart(key) {\n",
              "      const quickchartButtonEl =\n",
              "        document.querySelector('#' + key + ' button');\n",
              "      quickchartButtonEl.disabled = true;  // To prevent multiple clicks.\n",
              "      quickchartButtonEl.classList.add('colab-df-spinner');\n",
              "      try {\n",
              "        const charts = await google.colab.kernel.invokeFunction(\n",
              "            'suggestCharts', [key], {});\n",
              "      } catch (error) {\n",
              "        console.error('Error during call to suggestCharts:', error);\n",
              "      }\n",
              "      quickchartButtonEl.classList.remove('colab-df-spinner');\n",
              "      quickchartButtonEl.classList.add('colab-df-quickchart-complete');\n",
              "    }\n",
              "    (() => {\n",
              "      let quickchartButtonEl =\n",
              "        document.querySelector('#df-55debf82-ac24-421c-b916-b86d2da18175 button');\n",
              "      quickchartButtonEl.style.display =\n",
              "        google.colab.kernel.accessAllowed ? 'block' : 'none';\n",
              "    })();\n",
              "  </script>\n",
              "</div>\n",
              "    </div>\n",
              "  </div>\n"
            ],
            "text/plain": [
              "          attack_time watcher_country                       watcher_as_name  \\\n",
              "0                   7              DE                      Host Europe GmbH   \n",
              "1                   7              DE                      Host Europe GmbH   \n",
              "2                   7              DE  bn:t Blatzheim Networks Telecom GmbH   \n",
              "3                   7              DE  bn:t Blatzheim Networks Telecom GmbH   \n",
              "4                   7              DE  bn:t Blatzheim Networks Telecom GmbH   \n",
              "...               ...             ...                                   ...   \n",
              "61629671           21              US                              INMOTION   \n",
              "61629673           21              US                              INMOTION   \n",
              "61629674           21              US                              INMOTION   \n",
              "61629681           21              US                         NAMECHEAP-NET   \n",
              "61629682           21              US                         NAMECHEAP-NET   \n",
              "\n",
              "         attacker_country attacker_as_name      attack_type  \\\n",
              "0               otro_pais      Murat Aktas     http:exploit   \n",
              "1               otro_pais      Murat Aktas        http:spam   \n",
              "2                      DE     Contabo GmbH  http:bruteforce   \n",
              "3                      DE     Contabo GmbH        http:spam   \n",
              "4                      DE     Contabo GmbH     http:exploit   \n",
              "...                   ...              ...              ...   \n",
              "61629671               US    ATT-INTERNET4  http:bruteforce   \n",
              "61629673               US    ATT-INTERNET4        http:scan   \n",
              "61629674               US    ATT-INTERNET4     http:exploit   \n",
              "61629681               US              WOW        http:scan   \n",
              "61629682               US              WOW        http:spam   \n",
              "\n",
              "          watcher_uuid_enum  attacker_ip_enum  label  \n",
              "0                         0              6466      0  \n",
              "1                         0              6466      0  \n",
              "2                         2              4637      0  \n",
              "3                         2              4637      0  \n",
              "4                         2              4637      0  \n",
              "...                     ...               ...    ...  \n",
              "61629671               9606            191439      0  \n",
              "61629673               9606            191439      0  \n",
              "61629674               9606            191439      0  \n",
              "61629681              40383            193446      0  \n",
              "61629682              40383            193446      0  \n",
              "\n",
              "[40290308 rows x 9 columns]"
            ]
          },
          "execution_count": 37,
          "metadata": {},
          "output_type": "execute_result"
        }
      ],
      "source": [
        "data"
      ]
    },
    {
      "cell_type": "code",
      "execution_count": null,
      "metadata": {
        "colab": {
          "base_uri": "https://localhost:8080/"
        },
        "id": "ZLB0faPNczm8",
        "outputId": "b1703df5-5ccc-4278-f8fb-d1840960130d"
      },
      "outputs": [
        {
          "data": {
            "text/plain": [
              "['US',\n",
              " 'DE',\n",
              " 'SG',\n",
              " 'CN',\n",
              " 'NL',\n",
              " 'FR',\n",
              " 'IN',\n",
              " 'GB',\n",
              " 'RU',\n",
              " 'CA',\n",
              " 'VN',\n",
              " 'BR',\n",
              " 'ID',\n",
              " 'HK']"
            ]
          },
          "execution_count": 38,
          "metadata": {},
          "output_type": "execute_result"
        }
      ],
      "source": [
        "a = list(tipos_freq.pais.unique()[:14])\n",
        "a"
      ]
    },
    {
      "cell_type": "code",
      "execution_count": null,
      "metadata": {
        "id": "nPKEqwwSFRh2"
      },
      "outputs": [],
      "source": []
    },
    {
      "cell_type": "markdown",
      "metadata": {
        "id": "7kQ9wZ6zNoOW"
      },
      "source": [
        "#nuevas features\n"
      ]
    },
    {
      "cell_type": "markdown",
      "metadata": {
        "id": "hIOttAGMc2kw"
      },
      "source": [
        "**primera feature**\n",
        "\n",
        "'cantidad_ataques_ya_recibidos_x_ese_pais'. Esta feature cuenta para el pais del attacker y el pais del watcher, cuantos ataques del attacker se registraron hacia ese watcher"
      ]
    },
    {
      "cell_type": "code",
      "execution_count": null,
      "metadata": {
        "id": "ql7wcBu5QUuv"
      },
      "outputs": [],
      "source": [
        "paises = data[['attacker_country', 'watcher_country']]\n",
        "paises['cantidad'] = 1\n",
        "aux = paises.groupby( ['attacker_country', 'watcher_country'] )['cantidad'].sum()\n",
        "paises = aux.reset_index()\n",
        "paises"
      ]
    },
    {
      "cell_type": "code",
      "execution_count": null,
      "metadata": {
        "colab": {
          "base_uri": "https://localhost:8080/",
          "height": 210
        },
        "id": "A38wYl1J23G3",
        "outputId": "1a49e1bd-f21c-4e65-e0f2-ad4871f3ff8b"
      },
      "outputs": [
        {
          "output_type": "error",
          "ename": "NameError",
          "evalue": "ignored",
          "traceback": [
            "\u001b[0;31m---------------------------------------------------------------------------\u001b[0m",
            "\u001b[0;31mNameError\u001b[0m                                 Traceback (most recent call last)",
            "\u001b[0;32m<ipython-input-4-076d024dfe63>\u001b[0m in \u001b[0;36m<cell line: 1>\u001b[0;34m()\u001b[0m\n\u001b[0;32m----> 1\u001b[0;31m \u001b[0mdata\u001b[0m \u001b[0;34m=\u001b[0m \u001b[0mdata\u001b[0m\u001b[0;34m.\u001b[0m\u001b[0mmerge\u001b[0m\u001b[0;34m(\u001b[0m\u001b[0mpaises\u001b[0m\u001b[0;34m)\u001b[0m\u001b[0;34m\u001b[0m\u001b[0;34m\u001b[0m\u001b[0m\n\u001b[0m\u001b[1;32m      2\u001b[0m \u001b[0mcols\u001b[0m \u001b[0;34m=\u001b[0m \u001b[0mdata\u001b[0m\u001b[0;34m.\u001b[0m\u001b[0mcolumns\u001b[0m\u001b[0;34m\u001b[0m\u001b[0;34m\u001b[0m\u001b[0m\n\u001b[1;32m      3\u001b[0m \u001b[0mcols\u001b[0m\u001b[0;34m\u001b[0m\u001b[0;34m\u001b[0m\u001b[0m\n",
            "\u001b[0;31mNameError\u001b[0m: name 'data' is not defined"
          ]
        }
      ],
      "source": [
        "data = data.merge(paises)\n",
        "cols = data.columns\n",
        "cols"
      ]
    },
    {
      "cell_type": "code",
      "execution_count": null,
      "metadata": {
        "id": "R9aQqZWQ4V9R"
      },
      "outputs": [],
      "source": [
        "data.columns = ['attack_time', 'watcher_country', 'watcher_as_name', 'attacker_country',\n",
        "       'attacker_as_name', 'attack_type', 'watcher_uuid_enum',\n",
        "       'attacker_ip_enum', 'label', 'cantidad_ataques_ya_recibidos_x_ese_pais']\n",
        "data"
      ]
    },
    {
      "cell_type": "code",
      "execution_count": null,
      "metadata": {
        "id": "4Rg4QTTVlwJm"
      },
      "outputs": [],
      "source": [
        "data.cantidad_ataques_ya_recibidos_x_ese_pais = data.cantidad_ataques_ya_recibidos_x_ese_pais.astype('int32')"
      ]
    },
    {
      "cell_type": "markdown",
      "metadata": {
        "id": "I2th2UxwPdyU"
      },
      "source": [
        "**segunda feature**\n",
        "\n",
        "'cantidad_ataques_pais_x_hora':\n",
        "Cantidad de ataques provenientes de los distintos paises, segun la hora del dia\n",
        "\n",
        "EJ: a las 4 de la maniana US tiene 10000. O sea se registraron 10000 ataques de US en esa hora."
      ]
    },
    {
      "cell_type": "code",
      "execution_count": null,
      "metadata": {
        "id": "mvg_NEJgM6wl"
      },
      "outputs": [],
      "source": [
        "paises_x_hora = data[['attack_time', 'attacker_country']]\n",
        "paises_x_hora['cantidad_ataques_pais_x_hora'] = 1\n",
        "paises_x_hora = paises_x_hora.groupby(['attack_time', 'attacker_country'])['cantidad_ataques_pais_x_hora'].sum()\n",
        "paises_x_hora"
      ]
    },
    {
      "cell_type": "code",
      "execution_count": null,
      "metadata": {
        "id": "HdgrlpbNRa30"
      },
      "outputs": [],
      "source": [
        "paises_x_hora = paises_x_hora.to_frame().reset_index()\n",
        "paises_x_hora"
      ]
    },
    {
      "cell_type": "code",
      "execution_count": null,
      "metadata": {
        "id": "TrENKC_YR2la"
      },
      "outputs": [],
      "source": [
        "data = data.merge(paises_x_hora)"
      ]
    },
    {
      "cell_type": "code",
      "execution_count": null,
      "metadata": {
        "id": "dxDFTB9MeE2j"
      },
      "outputs": [],
      "source": [
        "data.cantidad_ataques_pais_x_hora = data.cantidad_ataques_pais_x_hora.astype('int32')"
      ]
    },
    {
      "cell_type": "code",
      "execution_count": null,
      "metadata": {
        "id": "sIatjZmg7U8K",
        "colab": {
          "base_uri": "https://localhost:8080/",
          "height": 210
        },
        "outputId": "a9b08f7b-a4fe-40dd-e014-9d6cfafa6c4d"
      },
      "outputs": [
        {
          "output_type": "error",
          "ename": "NameError",
          "evalue": "ignored",
          "traceback": [
            "\u001b[0;31m---------------------------------------------------------------------------\u001b[0m",
            "\u001b[0;31mNameError\u001b[0m                                 Traceback (most recent call last)",
            "\u001b[0;32m<ipython-input-5-7d0d27dece5a>\u001b[0m in \u001b[0;36m<cell line: 3>\u001b[0;34m()\u001b[0m\n\u001b[1;32m      1\u001b[0m \u001b[0;32mimport\u001b[0m \u001b[0mpickle\u001b[0m\u001b[0;34m\u001b[0m\u001b[0;34m\u001b[0m\u001b[0m\n\u001b[1;32m      2\u001b[0m \u001b[0mfilename\u001b[0m \u001b[0;34m=\u001b[0m \u001b[0;34m'data_half_90_10_nulos.pickle'\u001b[0m\u001b[0;34m\u001b[0m\u001b[0;34m\u001b[0m\u001b[0m\n\u001b[0;32m----> 3\u001b[0;31m \u001b[0mpickle\u001b[0m\u001b[0;34m.\u001b[0m\u001b[0mdump\u001b[0m\u001b[0;34m(\u001b[0m\u001b[0mdata\u001b[0m\u001b[0;34m,\u001b[0m \u001b[0mopen\u001b[0m\u001b[0;34m(\u001b[0m\u001b[0mfilename\u001b[0m\u001b[0;34m,\u001b[0m \u001b[0;34m\"wb\"\u001b[0m\u001b[0;34m)\u001b[0m\u001b[0;34m)\u001b[0m\u001b[0;34m\u001b[0m\u001b[0;34m\u001b[0m\u001b[0m\n\u001b[0m",
            "\u001b[0;31mNameError\u001b[0m: name 'data' is not defined"
          ]
        }
      ],
      "source": [
        "import pickle\n",
        "filename = 'data_half_90_10_nulos.pickle'\n",
        "pickle.dump(data, open(filename, \"wb\"))"
      ]
    },
    {
      "cell_type": "code",
      "execution_count": null,
      "metadata": {
        "id": "PVvnlNYD9nnO"
      },
      "outputs": [],
      "source": [
        "import pickle\n",
        "filename = '/content/drive/MyDrive/data_half_90_10_nulos.pickle'\n",
        "data = pickle.load(open(filename, \"rb\"))"
      ]
    },
    {
      "cell_type": "code",
      "execution_count": null,
      "metadata": {
        "id": "iOXYkIa_HlkI"
      },
      "outputs": [],
      "source": [
        "data.columns = ['attack_time', 'watcher_country', 'watcher_as_name', 'attacker_country',\n",
        "       'attacker_as_name', 'attack_type', 'watcher_uuid_enum',\n",
        "       'attacker_ip_enum', 'label', 'cantidad_ataques_ya_recibidos_x_ese_pais',\n",
        "       'cantidad_ataques_pais_x_hora']"
      ]
    },
    {
      "cell_type": "code",
      "execution_count": null,
      "metadata": {
        "id": "Q9bboQCRMuuN"
      },
      "outputs": [],
      "source": [
        "data.info()"
      ]
    },
    {
      "cell_type": "markdown",
      "metadata": {
        "id": "zlvYPkMsHNLm"
      },
      "source": [
        "**tercera feature**\n",
        "\n",
        "'cantidad_ataques_AS_to_AS':\n",
        "Ahora otra feature, cuantas veces el AS del watcher, recibio ataques del AS del attacker"
      ]
    },
    {
      "cell_type": "code",
      "execution_count": null,
      "metadata": {
        "id": "nnQS2LGwHb8b"
      },
      "outputs": [],
      "source": [
        "AS = data[['attacker_as_name', 'watcher_as_name']]\n",
        "AS['cantidad_ataques_AS_to_AS'] = 1\n",
        "aux = AS.groupby(['attacker_as_name', 'watcher_as_name'])['cantidad_ataques_AS_to_AS'].sum()\n",
        "AS = aux.reset_index()\n",
        "AS"
      ]
    },
    {
      "cell_type": "code",
      "execution_count": null,
      "metadata": {
        "id": "1cLPboLUHhAG"
      },
      "outputs": [],
      "source": [
        "data = data.merge(AS)\n",
        "data"
      ]
    },
    {
      "cell_type": "code",
      "execution_count": null,
      "metadata": {
        "id": "XHe-ktoBl-Pv"
      },
      "outputs": [],
      "source": [
        "data.cantidad_ataques_AS_to_AS = data.cantidad_ataques_AS_to_AS.astype('int32')"
      ]
    },
    {
      "cell_type": "markdown",
      "metadata": {
        "id": "n0Hs8bbTE9mN"
      },
      "source": [
        "Hacemos otras 2 features nuevas"
      ]
    },
    {
      "cell_type": "code",
      "execution_count": null,
      "metadata": {
        "id": "updCQNgkugR9"
      },
      "outputs": [],
      "source": [
        "country_AS_attack_type = data[['attacker_country', 'attacker_as_name', 'attack_type']]\n",
        "aux = country_AS_attack_type.groupby(['attacker_country', 'attacker_as_name'])['attack_type'].value_counts()\n",
        "df_aux = aux.to_frame()\n"
      ]
    },
    {
      "cell_type": "code",
      "execution_count": null,
      "metadata": {
        "id": "qygN8w7axrUS"
      },
      "outputs": [],
      "source": [
        "df_aux.columns = ['freq']\n",
        "df_aux = df_aux.reset_index()"
      ]
    },
    {
      "cell_type": "code",
      "execution_count": null,
      "metadata": {
        "id": "S_9L2J0oFh9n"
      },
      "outputs": [],
      "source": [
        "df_aux"
      ]
    },
    {
      "cell_type": "markdown",
      "metadata": {
        "id": "BPMqdS1UgAmP"
      },
      "source": [
        "**cuarta feature**"
      ]
    },
    {
      "cell_type": "markdown",
      "metadata": {
        "id": "5Gx8tc_JFCQJ"
      },
      "source": [
        "'freq':\n",
        "Esta es una feature, por cada ataque con cierto pais y AS de attacker se muestra, ademas del tipo del ataque, las veces que se hizo ese ataque con ese pais y AS. la columna \"freq\""
      ]
    },
    {
      "cell_type": "code",
      "execution_count": null,
      "metadata": {
        "id": "dapbgQ4E1eD8"
      },
      "outputs": [],
      "source": [
        "df_frecuencia_country_AS_attackType = df_aux.loc[df_aux.freq > 0]"
      ]
    },
    {
      "cell_type": "code",
      "execution_count": null,
      "metadata": {
        "id": "ISBp3UjEIdA_"
      },
      "outputs": [],
      "source": [
        "data = data.merge(df_frecuencia_country_AS_attackType)\n",
        "data"
      ]
    },
    {
      "cell_type": "markdown",
      "metadata": {
        "id": "GI4xeabJgDqr"
      },
      "source": [
        "**quinta feature**"
      ]
    },
    {
      "cell_type": "markdown",
      "metadata": {
        "id": "g3BL2oHPFWPA"
      },
      "source": [
        "'cantidad_pais_as_attacker':\n",
        "Contamos la cantidad de veces que ya se repitio la combinacion pais-as del attacker"
      ]
    },
    {
      "cell_type": "code",
      "execution_count": null,
      "metadata": {
        "id": "puW9uq7uIY8V"
      },
      "outputs": [],
      "source": [
        "country_AS_attack_type = data[['attacker_country', 'attacker_as_name']]\n",
        "country_AS_attack_type['cantidad_pais_as_attacker'] = 1\n",
        "aux = country_AS_attack_type.groupby(['attacker_country', 'attacker_as_name'])['cantidad_pais_as_attacker'].sum()\n",
        "df_aux = aux.to_frame()\n",
        "df_aux"
      ]
    },
    {
      "cell_type": "code",
      "execution_count": null,
      "metadata": {
        "id": "sBkfeEYgI8Gz"
      },
      "outputs": [],
      "source": [
        "#Alivio el dataset sacando los que tienen rep = 0\n",
        "df_aux = df_aux.loc[df_aux.cantidad_pais_as_attacker > 0]\n",
        "df_aux"
      ]
    },
    {
      "cell_type": "code",
      "execution_count": null,
      "metadata": {
        "id": "AT_mCNELLXY6"
      },
      "outputs": [],
      "source": [
        "df_aux = df_aux.reset_index()\n",
        "df_aux"
      ]
    },
    {
      "cell_type": "code",
      "execution_count": null,
      "metadata": {
        "id": "iOKTPF3VLQtI"
      },
      "outputs": [],
      "source": [
        "data = data.merge(df_aux)"
      ]
    },
    {
      "cell_type": "code",
      "execution_count": null,
      "metadata": {
        "id": "sXs1umIRLXyk"
      },
      "outputs": [],
      "source": [
        "data.attacker_country = data.attacker_country.astype('category')\n",
        "data.freq = data.freq.astype('int32')\n",
        "data.cantidad_pais_as_attacker = data.cantidad_pais_as_attacker.astype('int32')"
      ]
    },
    {
      "cell_type": "code",
      "execution_count": null,
      "metadata": {
        "id": "vvhLdsjpywGg"
      },
      "outputs": [],
      "source": [
        "import pickle\n",
        "filename = 'data_90_10_nulos.pickle'\n",
        "pickle.dump(data, open(filename, \"wb\"))"
      ]
    },
    {
      "cell_type": "markdown",
      "metadata": {
        "id": "PpSgjHVyRTLr"
      },
      "source": [
        "#cargarmos el df ya hecho y el shodan"
      ]
    },
    {
      "cell_type": "code",
      "execution_count": null,
      "metadata": {
        "id": "6AC00V2JRWnp"
      },
      "outputs": [],
      "source": [
        "import pickle\n",
        "filename = '/content/drive/MyDrive/data_90_10_nulos.pickle'\n",
        "data = pickle.load(open(filename, \"rb\"))"
      ]
    },
    {
      "cell_type": "code",
      "execution_count": null,
      "metadata": {
        "id": "T8hTfbosdu0c"
      },
      "outputs": [],
      "source": [
        "shodan = pd.read_csv('/content/drive/MyDrive/data tp ml/shodan_df_hashed.csv')"
      ]
    },
    {
      "cell_type": "code",
      "execution_count": null,
      "metadata": {
        "id": "RAJvm7lZsxVS"
      },
      "outputs": [],
      "source": [
        "def poner_unknowns(x):\n",
        "  y = str(x)\n",
        "  if y == '{}':\n",
        "    return 'unknown'\n",
        "  else:\n",
        "    return y\n",
        "\n",
        "shodan.shodan_info = shodan.shodan_info.map(poner_unknowns)"
      ]
    },
    {
      "cell_type": "code",
      "execution_count": null,
      "metadata": {
        "id": "bO0GmBUJd0S7"
      },
      "outputs": [],
      "source": [
        "shodan.shodan_info = shodan.shodan_info.astype('category')\n",
        "shodan.attacker_ip_enum = shodan.attacker_ip_enum.astype('int32')"
      ]
    },
    {
      "cell_type": "code",
      "execution_count": null,
      "metadata": {
        "id": "UokIOv3XdjiU"
      },
      "outputs": [],
      "source": [
        "data = data.merge(shodan)"
      ]
    },
    {
      "cell_type": "markdown",
      "metadata": {
        "id": "Z8Q-owRWGCsr"
      },
      "source": [
        "#Separar la data en Train y Validation"
      ]
    },
    {
      "cell_type": "code",
      "execution_count": null,
      "metadata": {
        "colab": {
          "base_uri": "https://localhost:8080/",
          "height": 424
        },
        "id": "nOHtAbTiIM81",
        "outputId": "3b185b77-a500-4bc5-e34c-ee92fb2f8276"
      },
      "outputs": [
        {
          "data": {
            "text/html": [
              "\n",
              "  <div id=\"df-0ba4af23-010f-463f-ad3c-63a68618a50b\" class=\"colab-df-container\">\n",
              "    <div>\n",
              "<style scoped>\n",
              "    .dataframe tbody tr th:only-of-type {\n",
              "        vertical-align: middle;\n",
              "    }\n",
              "\n",
              "    .dataframe tbody tr th {\n",
              "        vertical-align: top;\n",
              "    }\n",
              "\n",
              "    .dataframe thead th {\n",
              "        text-align: right;\n",
              "    }\n",
              "</style>\n",
              "<table border=\"1\" class=\"dataframe\">\n",
              "  <thead>\n",
              "    <tr style=\"text-align: right;\">\n",
              "      <th></th>\n",
              "      <th>ip</th>\n",
              "      <th>frecuencia</th>\n",
              "    </tr>\n",
              "  </thead>\n",
              "  <tbody>\n",
              "    <tr>\n",
              "      <th>0</th>\n",
              "      <td>75769</td>\n",
              "      <td>63717</td>\n",
              "    </tr>\n",
              "    <tr>\n",
              "      <th>1</th>\n",
              "      <td>90822</td>\n",
              "      <td>43821</td>\n",
              "    </tr>\n",
              "    <tr>\n",
              "      <th>2</th>\n",
              "      <td>19555</td>\n",
              "      <td>43355</td>\n",
              "    </tr>\n",
              "    <tr>\n",
              "      <th>3</th>\n",
              "      <td>193313</td>\n",
              "      <td>33983</td>\n",
              "    </tr>\n",
              "    <tr>\n",
              "      <th>4</th>\n",
              "      <td>157556</td>\n",
              "      <td>30938</td>\n",
              "    </tr>\n",
              "    <tr>\n",
              "      <th>...</th>\n",
              "      <td>...</td>\n",
              "      <td>...</td>\n",
              "    </tr>\n",
              "    <tr>\n",
              "      <th>2885</th>\n",
              "      <td>13055</td>\n",
              "      <td>2</td>\n",
              "    </tr>\n",
              "    <tr>\n",
              "      <th>2886</th>\n",
              "      <td>78692</td>\n",
              "      <td>2</td>\n",
              "    </tr>\n",
              "    <tr>\n",
              "      <th>2887</th>\n",
              "      <td>43034</td>\n",
              "      <td>2</td>\n",
              "    </tr>\n",
              "    <tr>\n",
              "      <th>2888</th>\n",
              "      <td>113269</td>\n",
              "      <td>2</td>\n",
              "    </tr>\n",
              "    <tr>\n",
              "      <th>2889</th>\n",
              "      <td>184253</td>\n",
              "      <td>1</td>\n",
              "    </tr>\n",
              "  </tbody>\n",
              "</table>\n",
              "<p>2890 rows × 2 columns</p>\n",
              "</div>\n",
              "    <div class=\"colab-df-buttons\">\n",
              "\n",
              "  <div class=\"colab-df-container\">\n",
              "    <button class=\"colab-df-convert\" onclick=\"convertToInteractive('df-0ba4af23-010f-463f-ad3c-63a68618a50b')\"\n",
              "            title=\"Convert this dataframe to an interactive table.\"\n",
              "            style=\"display:none;\">\n",
              "\n",
              "  <svg xmlns=\"http://www.w3.org/2000/svg\" height=\"24px\" viewBox=\"0 -960 960 960\">\n",
              "    <path d=\"M120-120v-720h720v720H120Zm60-500h600v-160H180v160Zm220 220h160v-160H400v160Zm0 220h160v-160H400v160ZM180-400h160v-160H180v160Zm440 0h160v-160H620v160ZM180-180h160v-160H180v160Zm440 0h160v-160H620v160Z\"/>\n",
              "  </svg>\n",
              "    </button>\n",
              "\n",
              "  <style>\n",
              "    .colab-df-container {\n",
              "      display:flex;\n",
              "      gap: 12px;\n",
              "    }\n",
              "\n",
              "    .colab-df-convert {\n",
              "      background-color: #E8F0FE;\n",
              "      border: none;\n",
              "      border-radius: 50%;\n",
              "      cursor: pointer;\n",
              "      display: none;\n",
              "      fill: #1967D2;\n",
              "      height: 32px;\n",
              "      padding: 0 0 0 0;\n",
              "      width: 32px;\n",
              "    }\n",
              "\n",
              "    .colab-df-convert:hover {\n",
              "      background-color: #E2EBFA;\n",
              "      box-shadow: 0px 1px 2px rgba(60, 64, 67, 0.3), 0px 1px 3px 1px rgba(60, 64, 67, 0.15);\n",
              "      fill: #174EA6;\n",
              "    }\n",
              "\n",
              "    .colab-df-buttons div {\n",
              "      margin-bottom: 4px;\n",
              "    }\n",
              "\n",
              "    [theme=dark] .colab-df-convert {\n",
              "      background-color: #3B4455;\n",
              "      fill: #D2E3FC;\n",
              "    }\n",
              "\n",
              "    [theme=dark] .colab-df-convert:hover {\n",
              "      background-color: #434B5C;\n",
              "      box-shadow: 0px 1px 3px 1px rgba(0, 0, 0, 0.15);\n",
              "      filter: drop-shadow(0px 1px 2px rgba(0, 0, 0, 0.3));\n",
              "      fill: #FFFFFF;\n",
              "    }\n",
              "  </style>\n",
              "\n",
              "    <script>\n",
              "      const buttonEl =\n",
              "        document.querySelector('#df-0ba4af23-010f-463f-ad3c-63a68618a50b button.colab-df-convert');\n",
              "      buttonEl.style.display =\n",
              "        google.colab.kernel.accessAllowed ? 'block' : 'none';\n",
              "\n",
              "      async function convertToInteractive(key) {\n",
              "        const element = document.querySelector('#df-0ba4af23-010f-463f-ad3c-63a68618a50b');\n",
              "        const dataTable =\n",
              "          await google.colab.kernel.invokeFunction('convertToInteractive',\n",
              "                                                    [key], {});\n",
              "        if (!dataTable) return;\n",
              "\n",
              "        const docLinkHtml = 'Like what you see? Visit the ' +\n",
              "          '<a target=\"_blank\" href=https://colab.research.google.com/notebooks/data_table.ipynb>data table notebook</a>'\n",
              "          + ' to learn more about interactive tables.';\n",
              "        element.innerHTML = '';\n",
              "        dataTable['output_type'] = 'display_data';\n",
              "        await google.colab.output.renderOutput(dataTable, element);\n",
              "        const docLink = document.createElement('div');\n",
              "        docLink.innerHTML = docLinkHtml;\n",
              "        element.appendChild(docLink);\n",
              "      }\n",
              "    </script>\n",
              "  </div>\n",
              "\n",
              "\n",
              "<div id=\"df-9cbe038d-6e64-497a-b3a1-855db39076f0\">\n",
              "  <button class=\"colab-df-quickchart\" onclick=\"quickchart('df-9cbe038d-6e64-497a-b3a1-855db39076f0')\"\n",
              "            title=\"Suggest charts\"\n",
              "            style=\"display:none;\">\n",
              "\n",
              "<svg xmlns=\"http://www.w3.org/2000/svg\" height=\"24px\"viewBox=\"0 0 24 24\"\n",
              "     width=\"24px\">\n",
              "    <g>\n",
              "        <path d=\"M19 3H5c-1.1 0-2 .9-2 2v14c0 1.1.9 2 2 2h14c1.1 0 2-.9 2-2V5c0-1.1-.9-2-2-2zM9 17H7v-7h2v7zm4 0h-2V7h2v10zm4 0h-2v-4h2v4z\"/>\n",
              "    </g>\n",
              "</svg>\n",
              "  </button>\n",
              "\n",
              "<style>\n",
              "  .colab-df-quickchart {\n",
              "      --bg-color: #E8F0FE;\n",
              "      --fill-color: #1967D2;\n",
              "      --hover-bg-color: #E2EBFA;\n",
              "      --hover-fill-color: #174EA6;\n",
              "      --disabled-fill-color: #AAA;\n",
              "      --disabled-bg-color: #DDD;\n",
              "  }\n",
              "\n",
              "  [theme=dark] .colab-df-quickchart {\n",
              "      --bg-color: #3B4455;\n",
              "      --fill-color: #D2E3FC;\n",
              "      --hover-bg-color: #434B5C;\n",
              "      --hover-fill-color: #FFFFFF;\n",
              "      --disabled-bg-color: #3B4455;\n",
              "      --disabled-fill-color: #666;\n",
              "  }\n",
              "\n",
              "  .colab-df-quickchart {\n",
              "    background-color: var(--bg-color);\n",
              "    border: none;\n",
              "    border-radius: 50%;\n",
              "    cursor: pointer;\n",
              "    display: none;\n",
              "    fill: var(--fill-color);\n",
              "    height: 32px;\n",
              "    padding: 0;\n",
              "    width: 32px;\n",
              "  }\n",
              "\n",
              "  .colab-df-quickchart:hover {\n",
              "    background-color: var(--hover-bg-color);\n",
              "    box-shadow: 0 1px 2px rgba(60, 64, 67, 0.3), 0 1px 3px 1px rgba(60, 64, 67, 0.15);\n",
              "    fill: var(--button-hover-fill-color);\n",
              "  }\n",
              "\n",
              "  .colab-df-quickchart-complete:disabled,\n",
              "  .colab-df-quickchart-complete:disabled:hover {\n",
              "    background-color: var(--disabled-bg-color);\n",
              "    fill: var(--disabled-fill-color);\n",
              "    box-shadow: none;\n",
              "  }\n",
              "\n",
              "  .colab-df-spinner {\n",
              "    border: 2px solid var(--fill-color);\n",
              "    border-color: transparent;\n",
              "    border-bottom-color: var(--fill-color);\n",
              "    animation:\n",
              "      spin 1s steps(1) infinite;\n",
              "  }\n",
              "\n",
              "  @keyframes spin {\n",
              "    0% {\n",
              "      border-color: transparent;\n",
              "      border-bottom-color: var(--fill-color);\n",
              "      border-left-color: var(--fill-color);\n",
              "    }\n",
              "    20% {\n",
              "      border-color: transparent;\n",
              "      border-left-color: var(--fill-color);\n",
              "      border-top-color: var(--fill-color);\n",
              "    }\n",
              "    30% {\n",
              "      border-color: transparent;\n",
              "      border-left-color: var(--fill-color);\n",
              "      border-top-color: var(--fill-color);\n",
              "      border-right-color: var(--fill-color);\n",
              "    }\n",
              "    40% {\n",
              "      border-color: transparent;\n",
              "      border-right-color: var(--fill-color);\n",
              "      border-top-color: var(--fill-color);\n",
              "    }\n",
              "    60% {\n",
              "      border-color: transparent;\n",
              "      border-right-color: var(--fill-color);\n",
              "    }\n",
              "    80% {\n",
              "      border-color: transparent;\n",
              "      border-right-color: var(--fill-color);\n",
              "      border-bottom-color: var(--fill-color);\n",
              "    }\n",
              "    90% {\n",
              "      border-color: transparent;\n",
              "      border-bottom-color: var(--fill-color);\n",
              "    }\n",
              "  }\n",
              "</style>\n",
              "\n",
              "  <script>\n",
              "    async function quickchart(key) {\n",
              "      const quickchartButtonEl =\n",
              "        document.querySelector('#' + key + ' button');\n",
              "      quickchartButtonEl.disabled = true;  // To prevent multiple clicks.\n",
              "      quickchartButtonEl.classList.add('colab-df-spinner');\n",
              "      try {\n",
              "        const charts = await google.colab.kernel.invokeFunction(\n",
              "            'suggestCharts', [key], {});\n",
              "      } catch (error) {\n",
              "        console.error('Error during call to suggestCharts:', error);\n",
              "      }\n",
              "      quickchartButtonEl.classList.remove('colab-df-spinner');\n",
              "      quickchartButtonEl.classList.add('colab-df-quickchart-complete');\n",
              "    }\n",
              "    (() => {\n",
              "      let quickchartButtonEl =\n",
              "        document.querySelector('#df-9cbe038d-6e64-497a-b3a1-855db39076f0 button');\n",
              "      quickchartButtonEl.style.display =\n",
              "        google.colab.kernel.accessAllowed ? 'block' : 'none';\n",
              "    })();\n",
              "  </script>\n",
              "</div>\n",
              "    </div>\n",
              "  </div>\n"
            ],
            "text/plain": [
              "          ip  frecuencia\n",
              "0      75769       63717\n",
              "1      90822       43821\n",
              "2      19555       43355\n",
              "3     193313       33983\n",
              "4     157556       30938\n",
              "...      ...         ...\n",
              "2885   13055           2\n",
              "2886   78692           2\n",
              "2887   43034           2\n",
              "2888  113269           2\n",
              "2889  184253           1\n",
              "\n",
              "[2890 rows x 2 columns]"
            ]
          },
          "execution_count": 15,
          "metadata": {},
          "output_type": "execute_result"
        }
      ],
      "source": [
        "freq_ip1 = data.loc[data['label'] == 1]['attacker_ip_enum']\n",
        "freq_ip1 = freq_ip1.value_counts().reset_index()\n",
        "freq_ip1.columns = ['ip', 'frecuencia']\n",
        "freq_ip1"
      ]
    },
    {
      "cell_type": "code",
      "execution_count": null,
      "metadata": {
        "colab": {
          "base_uri": "https://localhost:8080/",
          "height": 424
        },
        "id": "rVFTXy0i-xol",
        "outputId": "08caff48-20f8-4c59-deb0-4731dc31380b"
      },
      "outputs": [
        {
          "data": {
            "text/html": [
              "\n",
              "  <div id=\"df-e0ca9e2e-f432-4e52-91b0-ca824449d13a\" class=\"colab-df-container\">\n",
              "    <div>\n",
              "<style scoped>\n",
              "    .dataframe tbody tr th:only-of-type {\n",
              "        vertical-align: middle;\n",
              "    }\n",
              "\n",
              "    .dataframe tbody tr th {\n",
              "        vertical-align: top;\n",
              "    }\n",
              "\n",
              "    .dataframe thead th {\n",
              "        text-align: right;\n",
              "    }\n",
              "</style>\n",
              "<table border=\"1\" class=\"dataframe\">\n",
              "  <thead>\n",
              "    <tr style=\"text-align: right;\">\n",
              "      <th></th>\n",
              "      <th>ip</th>\n",
              "      <th>frecuencia</th>\n",
              "    </tr>\n",
              "  </thead>\n",
              "  <tbody>\n",
              "    <tr>\n",
              "      <th>0</th>\n",
              "      <td>63518</td>\n",
              "      <td>227203</td>\n",
              "    </tr>\n",
              "    <tr>\n",
              "      <th>1</th>\n",
              "      <td>165283</td>\n",
              "      <td>226254</td>\n",
              "    </tr>\n",
              "    <tr>\n",
              "      <th>2</th>\n",
              "      <td>117926</td>\n",
              "      <td>220344</td>\n",
              "    </tr>\n",
              "    <tr>\n",
              "      <th>3</th>\n",
              "      <td>57799</td>\n",
              "      <td>194696</td>\n",
              "    </tr>\n",
              "    <tr>\n",
              "      <th>4</th>\n",
              "      <td>115212</td>\n",
              "      <td>186185</td>\n",
              "    </tr>\n",
              "    <tr>\n",
              "      <th>...</th>\n",
              "      <td>...</td>\n",
              "      <td>...</td>\n",
              "    </tr>\n",
              "    <tr>\n",
              "      <th>145364</th>\n",
              "      <td>111973</td>\n",
              "      <td>1</td>\n",
              "    </tr>\n",
              "    <tr>\n",
              "      <th>145365</th>\n",
              "      <td>187054</td>\n",
              "      <td>1</td>\n",
              "    </tr>\n",
              "    <tr>\n",
              "      <th>145366</th>\n",
              "      <td>103566</td>\n",
              "      <td>1</td>\n",
              "    </tr>\n",
              "    <tr>\n",
              "      <th>145367</th>\n",
              "      <td>183206</td>\n",
              "      <td>1</td>\n",
              "    </tr>\n",
              "    <tr>\n",
              "      <th>145368</th>\n",
              "      <td>21026</td>\n",
              "      <td>1</td>\n",
              "    </tr>\n",
              "  </tbody>\n",
              "</table>\n",
              "<p>145369 rows × 2 columns</p>\n",
              "</div>\n",
              "    <div class=\"colab-df-buttons\">\n",
              "\n",
              "  <div class=\"colab-df-container\">\n",
              "    <button class=\"colab-df-convert\" onclick=\"convertToInteractive('df-e0ca9e2e-f432-4e52-91b0-ca824449d13a')\"\n",
              "            title=\"Convert this dataframe to an interactive table.\"\n",
              "            style=\"display:none;\">\n",
              "\n",
              "  <svg xmlns=\"http://www.w3.org/2000/svg\" height=\"24px\" viewBox=\"0 -960 960 960\">\n",
              "    <path d=\"M120-120v-720h720v720H120Zm60-500h600v-160H180v160Zm220 220h160v-160H400v160Zm0 220h160v-160H400v160ZM180-400h160v-160H180v160Zm440 0h160v-160H620v160ZM180-180h160v-160H180v160Zm440 0h160v-160H620v160Z\"/>\n",
              "  </svg>\n",
              "    </button>\n",
              "\n",
              "  <style>\n",
              "    .colab-df-container {\n",
              "      display:flex;\n",
              "      gap: 12px;\n",
              "    }\n",
              "\n",
              "    .colab-df-convert {\n",
              "      background-color: #E8F0FE;\n",
              "      border: none;\n",
              "      border-radius: 50%;\n",
              "      cursor: pointer;\n",
              "      display: none;\n",
              "      fill: #1967D2;\n",
              "      height: 32px;\n",
              "      padding: 0 0 0 0;\n",
              "      width: 32px;\n",
              "    }\n",
              "\n",
              "    .colab-df-convert:hover {\n",
              "      background-color: #E2EBFA;\n",
              "      box-shadow: 0px 1px 2px rgba(60, 64, 67, 0.3), 0px 1px 3px 1px rgba(60, 64, 67, 0.15);\n",
              "      fill: #174EA6;\n",
              "    }\n",
              "\n",
              "    .colab-df-buttons div {\n",
              "      margin-bottom: 4px;\n",
              "    }\n",
              "\n",
              "    [theme=dark] .colab-df-convert {\n",
              "      background-color: #3B4455;\n",
              "      fill: #D2E3FC;\n",
              "    }\n",
              "\n",
              "    [theme=dark] .colab-df-convert:hover {\n",
              "      background-color: #434B5C;\n",
              "      box-shadow: 0px 1px 3px 1px rgba(0, 0, 0, 0.15);\n",
              "      filter: drop-shadow(0px 1px 2px rgba(0, 0, 0, 0.3));\n",
              "      fill: #FFFFFF;\n",
              "    }\n",
              "  </style>\n",
              "\n",
              "    <script>\n",
              "      const buttonEl =\n",
              "        document.querySelector('#df-e0ca9e2e-f432-4e52-91b0-ca824449d13a button.colab-df-convert');\n",
              "      buttonEl.style.display =\n",
              "        google.colab.kernel.accessAllowed ? 'block' : 'none';\n",
              "\n",
              "      async function convertToInteractive(key) {\n",
              "        const element = document.querySelector('#df-e0ca9e2e-f432-4e52-91b0-ca824449d13a');\n",
              "        const dataTable =\n",
              "          await google.colab.kernel.invokeFunction('convertToInteractive',\n",
              "                                                    [key], {});\n",
              "        if (!dataTable) return;\n",
              "\n",
              "        const docLinkHtml = 'Like what you see? Visit the ' +\n",
              "          '<a target=\"_blank\" href=https://colab.research.google.com/notebooks/data_table.ipynb>data table notebook</a>'\n",
              "          + ' to learn more about interactive tables.';\n",
              "        element.innerHTML = '';\n",
              "        dataTable['output_type'] = 'display_data';\n",
              "        await google.colab.output.renderOutput(dataTable, element);\n",
              "        const docLink = document.createElement('div');\n",
              "        docLink.innerHTML = docLinkHtml;\n",
              "        element.appendChild(docLink);\n",
              "      }\n",
              "    </script>\n",
              "  </div>\n",
              "\n",
              "\n",
              "<div id=\"df-1892f041-d181-4ce9-87ec-e4c9f4cd9d40\">\n",
              "  <button class=\"colab-df-quickchart\" onclick=\"quickchart('df-1892f041-d181-4ce9-87ec-e4c9f4cd9d40')\"\n",
              "            title=\"Suggest charts\"\n",
              "            style=\"display:none;\">\n",
              "\n",
              "<svg xmlns=\"http://www.w3.org/2000/svg\" height=\"24px\"viewBox=\"0 0 24 24\"\n",
              "     width=\"24px\">\n",
              "    <g>\n",
              "        <path d=\"M19 3H5c-1.1 0-2 .9-2 2v14c0 1.1.9 2 2 2h14c1.1 0 2-.9 2-2V5c0-1.1-.9-2-2-2zM9 17H7v-7h2v7zm4 0h-2V7h2v10zm4 0h-2v-4h2v4z\"/>\n",
              "    </g>\n",
              "</svg>\n",
              "  </button>\n",
              "\n",
              "<style>\n",
              "  .colab-df-quickchart {\n",
              "      --bg-color: #E8F0FE;\n",
              "      --fill-color: #1967D2;\n",
              "      --hover-bg-color: #E2EBFA;\n",
              "      --hover-fill-color: #174EA6;\n",
              "      --disabled-fill-color: #AAA;\n",
              "      --disabled-bg-color: #DDD;\n",
              "  }\n",
              "\n",
              "  [theme=dark] .colab-df-quickchart {\n",
              "      --bg-color: #3B4455;\n",
              "      --fill-color: #D2E3FC;\n",
              "      --hover-bg-color: #434B5C;\n",
              "      --hover-fill-color: #FFFFFF;\n",
              "      --disabled-bg-color: #3B4455;\n",
              "      --disabled-fill-color: #666;\n",
              "  }\n",
              "\n",
              "  .colab-df-quickchart {\n",
              "    background-color: var(--bg-color);\n",
              "    border: none;\n",
              "    border-radius: 50%;\n",
              "    cursor: pointer;\n",
              "    display: none;\n",
              "    fill: var(--fill-color);\n",
              "    height: 32px;\n",
              "    padding: 0;\n",
              "    width: 32px;\n",
              "  }\n",
              "\n",
              "  .colab-df-quickchart:hover {\n",
              "    background-color: var(--hover-bg-color);\n",
              "    box-shadow: 0 1px 2px rgba(60, 64, 67, 0.3), 0 1px 3px 1px rgba(60, 64, 67, 0.15);\n",
              "    fill: var(--button-hover-fill-color);\n",
              "  }\n",
              "\n",
              "  .colab-df-quickchart-complete:disabled,\n",
              "  .colab-df-quickchart-complete:disabled:hover {\n",
              "    background-color: var(--disabled-bg-color);\n",
              "    fill: var(--disabled-fill-color);\n",
              "    box-shadow: none;\n",
              "  }\n",
              "\n",
              "  .colab-df-spinner {\n",
              "    border: 2px solid var(--fill-color);\n",
              "    border-color: transparent;\n",
              "    border-bottom-color: var(--fill-color);\n",
              "    animation:\n",
              "      spin 1s steps(1) infinite;\n",
              "  }\n",
              "\n",
              "  @keyframes spin {\n",
              "    0% {\n",
              "      border-color: transparent;\n",
              "      border-bottom-color: var(--fill-color);\n",
              "      border-left-color: var(--fill-color);\n",
              "    }\n",
              "    20% {\n",
              "      border-color: transparent;\n",
              "      border-left-color: var(--fill-color);\n",
              "      border-top-color: var(--fill-color);\n",
              "    }\n",
              "    30% {\n",
              "      border-color: transparent;\n",
              "      border-left-color: var(--fill-color);\n",
              "      border-top-color: var(--fill-color);\n",
              "      border-right-color: var(--fill-color);\n",
              "    }\n",
              "    40% {\n",
              "      border-color: transparent;\n",
              "      border-right-color: var(--fill-color);\n",
              "      border-top-color: var(--fill-color);\n",
              "    }\n",
              "    60% {\n",
              "      border-color: transparent;\n",
              "      border-right-color: var(--fill-color);\n",
              "    }\n",
              "    80% {\n",
              "      border-color: transparent;\n",
              "      border-right-color: var(--fill-color);\n",
              "      border-bottom-color: var(--fill-color);\n",
              "    }\n",
              "    90% {\n",
              "      border-color: transparent;\n",
              "      border-bottom-color: var(--fill-color);\n",
              "    }\n",
              "  }\n",
              "</style>\n",
              "\n",
              "  <script>\n",
              "    async function quickchart(key) {\n",
              "      const quickchartButtonEl =\n",
              "        document.querySelector('#' + key + ' button');\n",
              "      quickchartButtonEl.disabled = true;  // To prevent multiple clicks.\n",
              "      quickchartButtonEl.classList.add('colab-df-spinner');\n",
              "      try {\n",
              "        const charts = await google.colab.kernel.invokeFunction(\n",
              "            'suggestCharts', [key], {});\n",
              "      } catch (error) {\n",
              "        console.error('Error during call to suggestCharts:', error);\n",
              "      }\n",
              "      quickchartButtonEl.classList.remove('colab-df-spinner');\n",
              "      quickchartButtonEl.classList.add('colab-df-quickchart-complete');\n",
              "    }\n",
              "    (() => {\n",
              "      let quickchartButtonEl =\n",
              "        document.querySelector('#df-1892f041-d181-4ce9-87ec-e4c9f4cd9d40 button');\n",
              "      quickchartButtonEl.style.display =\n",
              "        google.colab.kernel.accessAllowed ? 'block' : 'none';\n",
              "    })();\n",
              "  </script>\n",
              "</div>\n",
              "    </div>\n",
              "  </div>\n"
            ],
            "text/plain": [
              "            ip  frecuencia\n",
              "0        63518      227203\n",
              "1       165283      226254\n",
              "2       117926      220344\n",
              "3        57799      194696\n",
              "4       115212      186185\n",
              "...        ...         ...\n",
              "145364  111973           1\n",
              "145365  187054           1\n",
              "145366  103566           1\n",
              "145367  183206           1\n",
              "145368   21026           1\n",
              "\n",
              "[145369 rows x 2 columns]"
            ]
          },
          "execution_count": 16,
          "metadata": {},
          "output_type": "execute_result"
        }
      ],
      "source": [
        "freq_ip0 = data.loc[data['label'] == 0]['attacker_ip_enum']\n",
        "freq_ip0 = freq_ip0.value_counts().reset_index()\n",
        "freq_ip0.columns = ['ip', 'frecuencia']\n",
        "freq_ip0"
      ]
    },
    {
      "cell_type": "code",
      "execution_count": null,
      "metadata": {
        "id": "EyJlCwnfINtw"
      },
      "outputs": [],
      "source": [
        "from random import seed\n",
        "import random"
      ]
    },
    {
      "cell_type": "code",
      "execution_count": null,
      "metadata": {
        "colab": {
          "base_uri": "https://localhost:8080/"
        },
        "id": "lhoJs3B90Bni",
        "outputId": "95deb060-b1fa-4c95-f982-3e273cf71bd6"
      },
      "outputs": [
        {
          "data": {
            "text/plain": [
              "40290308"
            ]
          },
          "execution_count": 18,
          "metadata": {},
          "output_type": "execute_result"
        }
      ],
      "source": [
        "total = freq_ip1.frecuencia.sum() + freq_ip0.frecuencia.sum()\n",
        "total"
      ]
    },
    {
      "cell_type": "code",
      "execution_count": null,
      "metadata": {
        "id": "6_IIPUURGf0y"
      },
      "outputs": [],
      "source": [
        "freq_ip1.frecuencia = freq_ip1.frecuencia / (total * 0.2)\n",
        "ips1 = list(freq_ip1.ip.unique())\n",
        "\n",
        "seed(7)\n",
        "\n",
        "porcentaje1 = 0\n",
        "total_train1 = 0.02\n",
        "ips_validation1 = []\n",
        "\n",
        "while(porcentaje1 < total_train1):\n",
        "   ip1 = random.choice(ips1)\n",
        "   ips1.remove(ip1)\n",
        "   porcentaje1 = porcentaje1 + freq_ip1.loc[freq_ip1.ip == ip1].frecuencia.values[0]\n",
        "   ips_validation1.append(ip1)\n"
      ]
    },
    {
      "cell_type": "code",
      "execution_count": null,
      "metadata": {
        "colab": {
          "base_uri": "https://localhost:8080/"
        },
        "id": "zWCqO5jiNJvI",
        "outputId": "6c334f69-db01-4c18-cc99-5f06c9a816b6"
      },
      "outputs": [
        {
          "data": {
            "text/plain": [
              "0.02203048435370612"
            ]
          },
          "execution_count": 20,
          "metadata": {},
          "output_type": "execute_result"
        }
      ],
      "source": [
        "porcentaje1"
      ]
    },
    {
      "cell_type": "code",
      "execution_count": null,
      "metadata": {
        "id": "QtvxCEWRGB0M"
      },
      "outputs": [],
      "source": [
        "freq_ip0.frecuencia = freq_ip0.frecuencia / (total * 0.2)\n",
        "ips0 = list(freq_ip0.ip.unique())\n",
        "\n",
        "seed(7)\n",
        "\n",
        "porcentaje0 = 0\n",
        "total_train0 = 0.98\n",
        "\n",
        "ips_validation0 = []\n",
        "\n",
        "while(porcentaje0 < total_train0):\n",
        "  ip = random.choice(ips0)\n",
        "  ips0.remove(ip)\n",
        "  porcentaje0 = porcentaje0 + freq_ip0.loc[freq_ip0.ip == ip].frecuencia.values[0]\n",
        "  ips_validation0.append(ip)"
      ]
    },
    {
      "cell_type": "code",
      "execution_count": null,
      "metadata": {
        "colab": {
          "base_uri": "https://localhost:8080/"
        },
        "id": "_5JAgYNTNM0L",
        "outputId": "5f08cc60-d467-4d5c-ba4c-4bd7643ecdd3"
      },
      "outputs": [
        {
          "data": {
            "text/plain": [
              "0.9804648304003996"
            ]
          },
          "execution_count": 22,
          "metadata": {},
          "output_type": "execute_result"
        }
      ],
      "source": [
        "porcentaje0"
      ]
    },
    {
      "cell_type": "code",
      "execution_count": null,
      "metadata": {
        "colab": {
          "base_uri": "https://localhost:8080/"
        },
        "id": "Ch5G1SzVISsA",
        "outputId": "1e116292-5cbe-404e-eba4-019f1aead152"
      },
      "outputs": [
        {
          "name": "stderr",
          "output_type": "stream",
          "text": [
            "<ipython-input-23-b15663008846>:4: SettingWithCopyWarning: \n",
            "A value is trying to be set on a copy of a slice from a DataFrame\n",
            "\n",
            "See the caveats in the documentation: https://pandas.pydata.org/pandas-docs/stable/user_guide/indexing.html#returning-a-view-versus-a-copy\n",
            "  X_validation.drop(['attacker_ip_enum', 'label'], axis=1, inplace=True)\n"
          ]
        }
      ],
      "source": [
        "ips_validation1.extend(ips_validation0)\n",
        "X_validation = data.loc[data.attacker_ip_enum.isin(ips_validation1)]\n",
        "y_validation  = X_validation['label']\n",
        "X_validation.drop(['attacker_ip_enum', 'label'], axis=1, inplace=True)"
      ]
    },
    {
      "cell_type": "code",
      "execution_count": null,
      "metadata": {
        "id": "AgVBn_k7ITCl"
      },
      "outputs": [],
      "source": [
        "ips1.extend(ips0)\n",
        "df_train = data.loc[data.attacker_ip_enum.isin(ips1)]\n",
        "y_train  = df_train['label']\n"
      ]
    },
    {
      "cell_type": "markdown",
      "metadata": {
        "id": "8jw_HOWAGu8L"
      },
      "source": [
        "#Encodeo"
      ]
    },
    {
      "cell_type": "markdown",
      "metadata": {
        "id": "mfD2j5RbFI8_"
      },
      "source": [
        "OHE para 'type_attack'"
      ]
    },
    {
      "cell_type": "code",
      "execution_count": null,
      "metadata": {
        "colab": {
          "base_uri": "https://localhost:8080/"
        },
        "id": "Zr--XnKEOesn",
        "outputId": "ce1f68ff-e7a2-42aa-b90f-8eaa37c880a2"
      },
      "outputs": [
        {
          "name": "stderr",
          "output_type": "stream",
          "text": [
            "<ipython-input-26-015a9ea9d0a6>:1: SettingWithCopyWarning: \n",
            "A value is trying to be set on a copy of a slice from a DataFrame\n",
            "\n",
            "See the caveats in the documentation: https://pandas.pydata.org/pandas-docs/stable/user_guide/indexing.html#returning-a-view-versus-a-copy\n",
            "  df_train.drop(['label', 'attacker_ip_enum'], axis=1, inplace=True)\n"
          ]
        }
      ],
      "source": [
        "df_train.drop(['label', 'attacker_ip_enum'], axis=1, inplace=True)"
      ]
    },
    {
      "cell_type": "code",
      "execution_count": null,
      "metadata": {
        "id": "gMehtK1wrWgY"
      },
      "outputs": [],
      "source": [
        "class OHE:\n",
        "  def __init__(self):\n",
        "    self.categorias = []\n",
        "\n",
        "  def fit(self, feature):\n",
        "    self.categorias.extend( list(feature.unique()) )\n",
        "\n",
        "  def fit_transform(self, feature):\n",
        "    self.fit(feature)\n",
        "    nuevas_columnas = []\n",
        "    for valor in self.categorias:\n",
        "      nuevas_columnas.append( (feature == valor).astype('int8') )\n",
        "    return nuevas_columnas\n",
        "\n",
        "  def transform(self, feature):\n",
        "    nuevas_columnas = []\n",
        "    for valor in self.categorias:\n",
        "      nuevas_columnas.append( (feature == valor).astype('int8') )\n",
        "    return nuevas_columnas\n"
      ]
    },
    {
      "cell_type": "code",
      "execution_count": null,
      "metadata": {
        "id": "w3v1yACEtmkY"
      },
      "outputs": [],
      "source": [
        "ohe_encoder = OHE()"
      ]
    },
    {
      "cell_type": "code",
      "execution_count": null,
      "metadata": {
        "id": "mBXS1T0fhz9J"
      },
      "outputs": [],
      "source": [
        "cols = ohe_encoder.fit_transform(df_train.attack_type)"
      ]
    },
    {
      "cell_type": "code",
      "execution_count": null,
      "metadata": {
        "colab": {
          "base_uri": "https://localhost:8080/"
        },
        "id": "l3JHBmrFuUel",
        "outputId": "8cb4eee6-bcfd-4613-f3d9-4dffce23288d"
      },
      "outputs": [
        {
          "data": {
            "text/plain": [
              "6"
            ]
          },
          "execution_count": 30,
          "metadata": {},
          "output_type": "execute_result"
        }
      ],
      "source": [
        "len(cols)"
      ]
    },
    {
      "cell_type": "code",
      "execution_count": null,
      "metadata": {
        "colab": {
          "base_uri": "https://localhost:8080/"
        },
        "id": "Gqdhq6jIhlms",
        "outputId": "97d25658-4635-40e2-c05c-cffaeafc3a39"
      },
      "outputs": [
        {
          "name": "stderr",
          "output_type": "stream",
          "text": [
            "<ipython-input-31-3ff934a60752>:5: SettingWithCopyWarning: \n",
            "A value is trying to be set on a copy of a slice from a DataFrame.\n",
            "Try using .loc[row_indexer,col_indexer] = value instead\n",
            "\n",
            "See the caveats in the documentation: https://pandas.pydata.org/pandas-docs/stable/user_guide/indexing.html#returning-a-view-versus-a-copy\n",
            "  df_train[ataque] = cols[i]\n",
            "<ipython-input-31-3ff934a60752>:5: SettingWithCopyWarning: \n",
            "A value is trying to be set on a copy of a slice from a DataFrame.\n",
            "Try using .loc[row_indexer,col_indexer] = value instead\n",
            "\n",
            "See the caveats in the documentation: https://pandas.pydata.org/pandas-docs/stable/user_guide/indexing.html#returning-a-view-versus-a-copy\n",
            "  df_train[ataque] = cols[i]\n",
            "<ipython-input-31-3ff934a60752>:5: SettingWithCopyWarning: \n",
            "A value is trying to be set on a copy of a slice from a DataFrame.\n",
            "Try using .loc[row_indexer,col_indexer] = value instead\n",
            "\n",
            "See the caveats in the documentation: https://pandas.pydata.org/pandas-docs/stable/user_guide/indexing.html#returning-a-view-versus-a-copy\n",
            "  df_train[ataque] = cols[i]\n",
            "<ipython-input-31-3ff934a60752>:5: SettingWithCopyWarning: \n",
            "A value is trying to be set on a copy of a slice from a DataFrame.\n",
            "Try using .loc[row_indexer,col_indexer] = value instead\n",
            "\n",
            "See the caveats in the documentation: https://pandas.pydata.org/pandas-docs/stable/user_guide/indexing.html#returning-a-view-versus-a-copy\n",
            "  df_train[ataque] = cols[i]\n",
            "<ipython-input-31-3ff934a60752>:5: SettingWithCopyWarning: \n",
            "A value is trying to be set on a copy of a slice from a DataFrame.\n",
            "Try using .loc[row_indexer,col_indexer] = value instead\n",
            "\n",
            "See the caveats in the documentation: https://pandas.pydata.org/pandas-docs/stable/user_guide/indexing.html#returning-a-view-versus-a-copy\n",
            "  df_train[ataque] = cols[i]\n",
            "<ipython-input-31-3ff934a60752>:5: SettingWithCopyWarning: \n",
            "A value is trying to be set on a copy of a slice from a DataFrame.\n",
            "Try using .loc[row_indexer,col_indexer] = value instead\n",
            "\n",
            "See the caveats in the documentation: https://pandas.pydata.org/pandas-docs/stable/user_guide/indexing.html#returning-a-view-versus-a-copy\n",
            "  df_train[ataque] = cols[i]\n"
          ]
        }
      ],
      "source": [
        "tipos_de_ataques = list(df_train.attack_type.unique())\n",
        "\n",
        "i = 0\n",
        "for ataque in tipos_de_ataques:\n",
        "  df_train[ataque] = cols[i]\n",
        "  i = i + 1\n"
      ]
    },
    {
      "cell_type": "code",
      "execution_count": null,
      "metadata": {
        "colab": {
          "base_uri": "https://localhost:8080/"
        },
        "id": "_HBkD3XF67h9",
        "outputId": "ecff9502-7b00-4b29-e7e0-bf2dd02db92c"
      },
      "outputs": [
        {
          "name": "stderr",
          "output_type": "stream",
          "text": [
            "<ipython-input-32-981f3406020a>:1: SettingWithCopyWarning: \n",
            "A value is trying to be set on a copy of a slice from a DataFrame\n",
            "\n",
            "See the caveats in the documentation: https://pandas.pydata.org/pandas-docs/stable/user_guide/indexing.html#returning-a-view-versus-a-copy\n",
            "  df_train.drop('attack_type', axis=1, inplace=True)\n"
          ]
        }
      ],
      "source": [
        "df_train.drop('attack_type', axis=1, inplace=True)"
      ]
    },
    {
      "cell_type": "code",
      "execution_count": null,
      "metadata": {
        "id": "sz8ySwId85o6"
      },
      "outputs": [],
      "source": [
        "cols_validation = ohe_encoder.transform(X_validation.attack_type)"
      ]
    },
    {
      "cell_type": "code",
      "execution_count": null,
      "metadata": {
        "colab": {
          "base_uri": "https://localhost:8080/"
        },
        "id": "16HRPHLY9Aus",
        "outputId": "66f22cb4-1a23-49cf-ce58-5ba997a7eeca"
      },
      "outputs": [
        {
          "data": {
            "text/plain": [
              "6"
            ]
          },
          "execution_count": 34,
          "metadata": {},
          "output_type": "execute_result"
        }
      ],
      "source": [
        "len(cols_validation)"
      ]
    },
    {
      "cell_type": "code",
      "execution_count": null,
      "metadata": {
        "colab": {
          "base_uri": "https://localhost:8080/"
        },
        "id": "ozNAsL_D9CY_",
        "outputId": "5e30bfed-360f-4e8e-df00-14371db8125f"
      },
      "outputs": [
        {
          "name": "stderr",
          "output_type": "stream",
          "text": [
            "<ipython-input-35-0cd096b2ec06>:3: SettingWithCopyWarning: \n",
            "A value is trying to be set on a copy of a slice from a DataFrame.\n",
            "Try using .loc[row_indexer,col_indexer] = value instead\n",
            "\n",
            "See the caveats in the documentation: https://pandas.pydata.org/pandas-docs/stable/user_guide/indexing.html#returning-a-view-versus-a-copy\n",
            "  X_validation[ataque] = cols_validation[i]\n",
            "<ipython-input-35-0cd096b2ec06>:3: SettingWithCopyWarning: \n",
            "A value is trying to be set on a copy of a slice from a DataFrame.\n",
            "Try using .loc[row_indexer,col_indexer] = value instead\n",
            "\n",
            "See the caveats in the documentation: https://pandas.pydata.org/pandas-docs/stable/user_guide/indexing.html#returning-a-view-versus-a-copy\n",
            "  X_validation[ataque] = cols_validation[i]\n",
            "<ipython-input-35-0cd096b2ec06>:3: SettingWithCopyWarning: \n",
            "A value is trying to be set on a copy of a slice from a DataFrame.\n",
            "Try using .loc[row_indexer,col_indexer] = value instead\n",
            "\n",
            "See the caveats in the documentation: https://pandas.pydata.org/pandas-docs/stable/user_guide/indexing.html#returning-a-view-versus-a-copy\n",
            "  X_validation[ataque] = cols_validation[i]\n",
            "<ipython-input-35-0cd096b2ec06>:3: SettingWithCopyWarning: \n",
            "A value is trying to be set on a copy of a slice from a DataFrame.\n",
            "Try using .loc[row_indexer,col_indexer] = value instead\n",
            "\n",
            "See the caveats in the documentation: https://pandas.pydata.org/pandas-docs/stable/user_guide/indexing.html#returning-a-view-versus-a-copy\n",
            "  X_validation[ataque] = cols_validation[i]\n",
            "<ipython-input-35-0cd096b2ec06>:3: SettingWithCopyWarning: \n",
            "A value is trying to be set on a copy of a slice from a DataFrame.\n",
            "Try using .loc[row_indexer,col_indexer] = value instead\n",
            "\n",
            "See the caveats in the documentation: https://pandas.pydata.org/pandas-docs/stable/user_guide/indexing.html#returning-a-view-versus-a-copy\n",
            "  X_validation[ataque] = cols_validation[i]\n",
            "<ipython-input-35-0cd096b2ec06>:3: SettingWithCopyWarning: \n",
            "A value is trying to be set on a copy of a slice from a DataFrame.\n",
            "Try using .loc[row_indexer,col_indexer] = value instead\n",
            "\n",
            "See the caveats in the documentation: https://pandas.pydata.org/pandas-docs/stable/user_guide/indexing.html#returning-a-view-versus-a-copy\n",
            "  X_validation[ataque] = cols_validation[i]\n"
          ]
        }
      ],
      "source": [
        "i = 0\n",
        "for ataque in tipos_de_ataques:\n",
        "  X_validation[ataque] = cols_validation[i]\n",
        "  i = i + 1\n"
      ]
    },
    {
      "cell_type": "code",
      "execution_count": null,
      "metadata": {
        "colab": {
          "base_uri": "https://localhost:8080/"
        },
        "id": "bKqZtQKSWzNo",
        "outputId": "18bc56c7-1c78-431b-a906-58792f0e2579"
      },
      "outputs": [
        {
          "name": "stderr",
          "output_type": "stream",
          "text": [
            "<ipython-input-36-2dc5fed06c6e>:1: SettingWithCopyWarning: \n",
            "A value is trying to be set on a copy of a slice from a DataFrame\n",
            "\n",
            "See the caveats in the documentation: https://pandas.pydata.org/pandas-docs/stable/user_guide/indexing.html#returning-a-view-versus-a-copy\n",
            "  X_validation.drop('attack_type', axis=1, inplace=True)\n"
          ]
        }
      ],
      "source": [
        "X_validation.drop('attack_type', axis=1, inplace=True)"
      ]
    },
    {
      "cell_type": "markdown",
      "metadata": {
        "id": "49puO58jfbVV"
      },
      "source": [
        "Encodeamos a 'watcher_country' con un OHE:"
      ]
    },
    {
      "cell_type": "code",
      "execution_count": null,
      "metadata": {
        "id": "C1Mi4S_4fipY"
      },
      "outputs": [],
      "source": [
        "ohe_watcher_country = OHE()"
      ]
    },
    {
      "cell_type": "code",
      "execution_count": null,
      "metadata": {
        "id": "5A2EB2-Zf3Du"
      },
      "outputs": [],
      "source": [
        "cols = ohe_watcher_country.fit_transform(df_train.watcher_country)"
      ]
    },
    {
      "cell_type": "code",
      "execution_count": null,
      "metadata": {
        "colab": {
          "base_uri": "https://localhost:8080/"
        },
        "id": "RNFPrtkgjdGP",
        "outputId": "fbf173c3-5e3f-404d-9d97-95fded03dc66"
      },
      "outputs": [
        {
          "name": "stderr",
          "output_type": "stream",
          "text": [
            "<ipython-input-39-36a437fa2699>:5: SettingWithCopyWarning: \n",
            "A value is trying to be set on a copy of a slice from a DataFrame.\n",
            "Try using .loc[row_indexer,col_indexer] = value instead\n",
            "\n",
            "See the caveats in the documentation: https://pandas.pydata.org/pandas-docs/stable/user_guide/indexing.html#returning-a-view-versus-a-copy\n",
            "  df_train['watcher_' + pais] = cols[i]\n",
            "<ipython-input-39-36a437fa2699>:5: SettingWithCopyWarning: \n",
            "A value is trying to be set on a copy of a slice from a DataFrame.\n",
            "Try using .loc[row_indexer,col_indexer] = value instead\n",
            "\n",
            "See the caveats in the documentation: https://pandas.pydata.org/pandas-docs/stable/user_guide/indexing.html#returning-a-view-versus-a-copy\n",
            "  df_train['watcher_' + pais] = cols[i]\n",
            "<ipython-input-39-36a437fa2699>:5: SettingWithCopyWarning: \n",
            "A value is trying to be set on a copy of a slice from a DataFrame.\n",
            "Try using .loc[row_indexer,col_indexer] = value instead\n",
            "\n",
            "See the caveats in the documentation: https://pandas.pydata.org/pandas-docs/stable/user_guide/indexing.html#returning-a-view-versus-a-copy\n",
            "  df_train['watcher_' + pais] = cols[i]\n",
            "<ipython-input-39-36a437fa2699>:5: SettingWithCopyWarning: \n",
            "A value is trying to be set on a copy of a slice from a DataFrame.\n",
            "Try using .loc[row_indexer,col_indexer] = value instead\n",
            "\n",
            "See the caveats in the documentation: https://pandas.pydata.org/pandas-docs/stable/user_guide/indexing.html#returning-a-view-versus-a-copy\n",
            "  df_train['watcher_' + pais] = cols[i]\n",
            "<ipython-input-39-36a437fa2699>:5: SettingWithCopyWarning: \n",
            "A value is trying to be set on a copy of a slice from a DataFrame.\n",
            "Try using .loc[row_indexer,col_indexer] = value instead\n",
            "\n",
            "See the caveats in the documentation: https://pandas.pydata.org/pandas-docs/stable/user_guide/indexing.html#returning-a-view-versus-a-copy\n",
            "  df_train['watcher_' + pais] = cols[i]\n",
            "<ipython-input-39-36a437fa2699>:5: SettingWithCopyWarning: \n",
            "A value is trying to be set on a copy of a slice from a DataFrame.\n",
            "Try using .loc[row_indexer,col_indexer] = value instead\n",
            "\n",
            "See the caveats in the documentation: https://pandas.pydata.org/pandas-docs/stable/user_guide/indexing.html#returning-a-view-versus-a-copy\n",
            "  df_train['watcher_' + pais] = cols[i]\n"
          ]
        }
      ],
      "source": [
        "paises = list(df_train.watcher_country.unique())\n",
        "\n",
        "i = 0\n",
        "for pais in paises:\n",
        "  df_train['watcher_' + pais] = cols[i]\n",
        "  i = i + 1\n"
      ]
    },
    {
      "cell_type": "code",
      "execution_count": null,
      "metadata": {
        "colab": {
          "base_uri": "https://localhost:8080/"
        },
        "id": "0EdbBxA4jqXo",
        "outputId": "2a7c65b6-dc92-430e-9d7f-6d3f49a1d6c4"
      },
      "outputs": [
        {
          "name": "stderr",
          "output_type": "stream",
          "text": [
            "<ipython-input-40-2c3c02a112c9>:1: SettingWithCopyWarning: \n",
            "A value is trying to be set on a copy of a slice from a DataFrame\n",
            "\n",
            "See the caveats in the documentation: https://pandas.pydata.org/pandas-docs/stable/user_guide/indexing.html#returning-a-view-versus-a-copy\n",
            "  df_train.drop('watcher_country', axis=1, inplace=True)\n"
          ]
        }
      ],
      "source": [
        "df_train.drop('watcher_country', axis=1, inplace=True)"
      ]
    },
    {
      "cell_type": "code",
      "execution_count": null,
      "metadata": {
        "id": "XM0m4S76kUq1"
      },
      "outputs": [],
      "source": [
        "cols_valid = ohe_watcher_country.transform(X_validation.watcher_country)"
      ]
    },
    {
      "cell_type": "code",
      "execution_count": null,
      "metadata": {
        "colab": {
          "base_uri": "https://localhost:8080/"
        },
        "id": "Ws47CWEQkUmE",
        "outputId": "121a515f-a8a1-43a1-e89a-d11fe9c57ef1"
      },
      "outputs": [
        {
          "name": "stderr",
          "output_type": "stream",
          "text": [
            "<ipython-input-42-c4e18b537f92>:3: SettingWithCopyWarning: \n",
            "A value is trying to be set on a copy of a slice from a DataFrame.\n",
            "Try using .loc[row_indexer,col_indexer] = value instead\n",
            "\n",
            "See the caveats in the documentation: https://pandas.pydata.org/pandas-docs/stable/user_guide/indexing.html#returning-a-view-versus-a-copy\n",
            "  X_validation['watcher_' + pais] = cols_valid[i]\n",
            "<ipython-input-42-c4e18b537f92>:3: SettingWithCopyWarning: \n",
            "A value is trying to be set on a copy of a slice from a DataFrame.\n",
            "Try using .loc[row_indexer,col_indexer] = value instead\n",
            "\n",
            "See the caveats in the documentation: https://pandas.pydata.org/pandas-docs/stable/user_guide/indexing.html#returning-a-view-versus-a-copy\n",
            "  X_validation['watcher_' + pais] = cols_valid[i]\n",
            "<ipython-input-42-c4e18b537f92>:3: SettingWithCopyWarning: \n",
            "A value is trying to be set on a copy of a slice from a DataFrame.\n",
            "Try using .loc[row_indexer,col_indexer] = value instead\n",
            "\n",
            "See the caveats in the documentation: https://pandas.pydata.org/pandas-docs/stable/user_guide/indexing.html#returning-a-view-versus-a-copy\n",
            "  X_validation['watcher_' + pais] = cols_valid[i]\n",
            "<ipython-input-42-c4e18b537f92>:3: SettingWithCopyWarning: \n",
            "A value is trying to be set on a copy of a slice from a DataFrame.\n",
            "Try using .loc[row_indexer,col_indexer] = value instead\n",
            "\n",
            "See the caveats in the documentation: https://pandas.pydata.org/pandas-docs/stable/user_guide/indexing.html#returning-a-view-versus-a-copy\n",
            "  X_validation['watcher_' + pais] = cols_valid[i]\n",
            "<ipython-input-42-c4e18b537f92>:3: SettingWithCopyWarning: \n",
            "A value is trying to be set on a copy of a slice from a DataFrame.\n",
            "Try using .loc[row_indexer,col_indexer] = value instead\n",
            "\n",
            "See the caveats in the documentation: https://pandas.pydata.org/pandas-docs/stable/user_guide/indexing.html#returning-a-view-versus-a-copy\n",
            "  X_validation['watcher_' + pais] = cols_valid[i]\n",
            "<ipython-input-42-c4e18b537f92>:3: SettingWithCopyWarning: \n",
            "A value is trying to be set on a copy of a slice from a DataFrame.\n",
            "Try using .loc[row_indexer,col_indexer] = value instead\n",
            "\n",
            "See the caveats in the documentation: https://pandas.pydata.org/pandas-docs/stable/user_guide/indexing.html#returning-a-view-versus-a-copy\n",
            "  X_validation['watcher_' + pais] = cols_valid[i]\n"
          ]
        }
      ],
      "source": [
        "\n",
        "i = 0\n",
        "for pais in paises:\n",
        "  X_validation['watcher_' + pais] = cols_valid[i]\n",
        "  i = i + 1\n"
      ]
    },
    {
      "cell_type": "code",
      "execution_count": null,
      "metadata": {
        "colab": {
          "base_uri": "https://localhost:8080/"
        },
        "id": "_pgvL4uVkUje",
        "outputId": "501d572e-9d2a-400e-abb3-4e58a5f54487"
      },
      "outputs": [
        {
          "name": "stderr",
          "output_type": "stream",
          "text": [
            "<ipython-input-43-e39cada1920e>:1: SettingWithCopyWarning: \n",
            "A value is trying to be set on a copy of a slice from a DataFrame\n",
            "\n",
            "See the caveats in the documentation: https://pandas.pydata.org/pandas-docs/stable/user_guide/indexing.html#returning-a-view-versus-a-copy\n",
            "  X_validation.drop('watcher_country', axis=1, inplace=True)\n"
          ]
        }
      ],
      "source": [
        "X_validation.drop('watcher_country', axis=1, inplace=True)"
      ]
    },
    {
      "cell_type": "markdown",
      "metadata": {
        "id": "UBCy_IZOogBH"
      },
      "source": [
        "Hacemos un binary encoding para 'attacker_country'"
      ]
    },
    {
      "cell_type": "code",
      "execution_count": null,
      "metadata": {
        "id": "afI2P0xdomBa"
      },
      "outputs": [],
      "source": [
        "encoder_attacker_country = ce.BinaryEncoder()"
      ]
    },
    {
      "cell_type": "code",
      "execution_count": null,
      "metadata": {
        "colab": {
          "base_uri": "https://localhost:8080/",
          "height": 252
        },
        "id": "AVHbUMpwpwQj",
        "outputId": "c77f6f83-8599-4cb3-ad8f-b204e62fcf06"
      },
      "outputs": [
        {
          "data": {
            "text/html": [
              "<style>#sk-container-id-1 {color: black;}#sk-container-id-1 pre{padding: 0;}#sk-container-id-1 div.sk-toggleable {background-color: white;}#sk-container-id-1 label.sk-toggleable__label {cursor: pointer;display: block;width: 100%;margin-bottom: 0;padding: 0.3em;box-sizing: border-box;text-align: center;}#sk-container-id-1 label.sk-toggleable__label-arrow:before {content: \"▸\";float: left;margin-right: 0.25em;color: #696969;}#sk-container-id-1 label.sk-toggleable__label-arrow:hover:before {color: black;}#sk-container-id-1 div.sk-estimator:hover label.sk-toggleable__label-arrow:before {color: black;}#sk-container-id-1 div.sk-toggleable__content {max-height: 0;max-width: 0;overflow: hidden;text-align: left;background-color: #f0f8ff;}#sk-container-id-1 div.sk-toggleable__content pre {margin: 0.2em;color: black;border-radius: 0.25em;background-color: #f0f8ff;}#sk-container-id-1 input.sk-toggleable__control:checked~div.sk-toggleable__content {max-height: 200px;max-width: 100%;overflow: auto;}#sk-container-id-1 input.sk-toggleable__control:checked~label.sk-toggleable__label-arrow:before {content: \"▾\";}#sk-container-id-1 div.sk-estimator input.sk-toggleable__control:checked~label.sk-toggleable__label {background-color: #d4ebff;}#sk-container-id-1 div.sk-label input.sk-toggleable__control:checked~label.sk-toggleable__label {background-color: #d4ebff;}#sk-container-id-1 input.sk-hidden--visually {border: 0;clip: rect(1px 1px 1px 1px);clip: rect(1px, 1px, 1px, 1px);height: 1px;margin: -1px;overflow: hidden;padding: 0;position: absolute;width: 1px;}#sk-container-id-1 div.sk-estimator {font-family: monospace;background-color: #f0f8ff;border: 1px dotted black;border-radius: 0.25em;box-sizing: border-box;margin-bottom: 0.5em;}#sk-container-id-1 div.sk-estimator:hover {background-color: #d4ebff;}#sk-container-id-1 div.sk-parallel-item::after {content: \"\";width: 100%;border-bottom: 1px solid gray;flex-grow: 1;}#sk-container-id-1 div.sk-label:hover label.sk-toggleable__label {background-color: #d4ebff;}#sk-container-id-1 div.sk-serial::before {content: \"\";position: absolute;border-left: 1px solid gray;box-sizing: border-box;top: 0;bottom: 0;left: 50%;z-index: 0;}#sk-container-id-1 div.sk-serial {display: flex;flex-direction: column;align-items: center;background-color: white;padding-right: 0.2em;padding-left: 0.2em;position: relative;}#sk-container-id-1 div.sk-item {position: relative;z-index: 1;}#sk-container-id-1 div.sk-parallel {display: flex;align-items: stretch;justify-content: center;background-color: white;position: relative;}#sk-container-id-1 div.sk-item::before, #sk-container-id-1 div.sk-parallel-item::before {content: \"\";position: absolute;border-left: 1px solid gray;box-sizing: border-box;top: 0;bottom: 0;left: 50%;z-index: -1;}#sk-container-id-1 div.sk-parallel-item {display: flex;flex-direction: column;z-index: 1;position: relative;background-color: white;}#sk-container-id-1 div.sk-parallel-item:first-child::after {align-self: flex-end;width: 50%;}#sk-container-id-1 div.sk-parallel-item:last-child::after {align-self: flex-start;width: 50%;}#sk-container-id-1 div.sk-parallel-item:only-child::after {width: 0;}#sk-container-id-1 div.sk-dashed-wrapped {border: 1px dashed gray;margin: 0 0.4em 0.5em 0.4em;box-sizing: border-box;padding-bottom: 0.4em;background-color: white;}#sk-container-id-1 div.sk-label label {font-family: monospace;font-weight: bold;display: inline-block;line-height: 1.2em;}#sk-container-id-1 div.sk-label-container {text-align: center;}#sk-container-id-1 div.sk-container {/* jupyter's `normalize.less` sets `[hidden] { display: none; }` but bootstrap.min.css set `[hidden] { display: none !important; }` so we also need the `!important` here to be able to override the default hidden behavior on the sphinx rendered scikit-learn.org. See: https://github.com/scikit-learn/scikit-learn/issues/21755 */display: inline-block !important;position: relative;}#sk-container-id-1 div.sk-text-repr-fallback {display: none;}</style><div id=\"sk-container-id-1\" class=\"sk-top-container\"><div class=\"sk-text-repr-fallback\"><pre>BinaryEncoder(cols=[&#x27;attacker_country&#x27;],\n",
              "              mapping=[{&#x27;col&#x27;: &#x27;attacker_country&#x27;,\n",
              "                        &#x27;mapping&#x27;:      attacker_country_0  attacker_country_1  attacker_country_2  \\\n",
              " 1                    0                   0                   0   \n",
              " 2                    0                   0                   1   \n",
              " 3                    0                   0                   1   \n",
              " 4                    0                   1                   0   \n",
              " 5                    0                   1                   0   \n",
              " 6                    0                   1                   1   \n",
              " 7                    0                   1                   1   \n",
              " 8                    1                   0                   0   \n",
              " 9                    1                   0                   0   \n",
              " 10                   1                   0                   1   \n",
              " 11                   1                   0                   1   \n",
              " 12                   1                   1                   0   \n",
              " 13                   1                   1                   0   \n",
              " 14                   1                   1                   1   \n",
              " 15                   1                   1                   1   \n",
              "-1                    0                   0                   0   \n",
              "-2                    0                   0                   0   \n",
              "\n",
              "     attacker_country_3  \n",
              " 1                    1  \n",
              " 2                    0  \n",
              " 3                    1  \n",
              " 4                    0  \n",
              " 5                    1  \n",
              " 6                    0  \n",
              " 7                    1  \n",
              " 8                    0  \n",
              " 9                    1  \n",
              " 10                   0  \n",
              " 11                   1  \n",
              " 12                   0  \n",
              " 13                   1  \n",
              " 14                   0  \n",
              " 15                   1  \n",
              "-1                    0  \n",
              "-2                    0  }])</pre><b>In a Jupyter environment, please rerun this cell to show the HTML representation or trust the notebook. <br />On GitHub, the HTML representation is unable to render, please try loading this page with nbviewer.org.</b></div><div class=\"sk-container\" hidden><div class=\"sk-item\"><div class=\"sk-estimator sk-toggleable\"><input class=\"sk-toggleable__control sk-hidden--visually\" id=\"sk-estimator-id-1\" type=\"checkbox\" checked><label for=\"sk-estimator-id-1\" class=\"sk-toggleable__label sk-toggleable__label-arrow\">BinaryEncoder</label><div class=\"sk-toggleable__content\"><pre>BinaryEncoder(cols=[&#x27;attacker_country&#x27;],\n",
              "              mapping=[{&#x27;col&#x27;: &#x27;attacker_country&#x27;,\n",
              "                        &#x27;mapping&#x27;:      attacker_country_0  attacker_country_1  attacker_country_2  \\\n",
              " 1                    0                   0                   0   \n",
              " 2                    0                   0                   1   \n",
              " 3                    0                   0                   1   \n",
              " 4                    0                   1                   0   \n",
              " 5                    0                   1                   0   \n",
              " 6                    0                   1                   1   \n",
              " 7                    0                   1                   1   \n",
              " 8                    1                   0                   0   \n",
              " 9                    1                   0                   0   \n",
              " 10                   1                   0                   1   \n",
              " 11                   1                   0                   1   \n",
              " 12                   1                   1                   0   \n",
              " 13                   1                   1                   0   \n",
              " 14                   1                   1                   1   \n",
              " 15                   1                   1                   1   \n",
              "-1                    0                   0                   0   \n",
              "-2                    0                   0                   0   \n",
              "\n",
              "     attacker_country_3  \n",
              " 1                    1  \n",
              " 2                    0  \n",
              " 3                    1  \n",
              " 4                    0  \n",
              " 5                    1  \n",
              " 6                    0  \n",
              " 7                    1  \n",
              " 8                    0  \n",
              " 9                    1  \n",
              " 10                   0  \n",
              " 11                   1  \n",
              " 12                   0  \n",
              " 13                   1  \n",
              " 14                   0  \n",
              " 15                   1  \n",
              "-1                    0  \n",
              "-2                    0  }])</pre></div></div></div></div></div>"
            ],
            "text/plain": [
              "BinaryEncoder(cols=['attacker_country'],\n",
              "              mapping=[{'col': 'attacker_country',\n",
              "                        'mapping':      attacker_country_0  attacker_country_1  attacker_country_2  \\\n",
              " 1                    0                   0                   0   \n",
              " 2                    0                   0                   1   \n",
              " 3                    0                   0                   1   \n",
              " 4                    0                   1                   0   \n",
              " 5                    0                   1                   0   \n",
              " 6                    0                   1                   1   \n",
              " 7                    0                   1                   1   \n",
              " 8                    1                   0                   0   \n",
              " 9                    1                   0                   0   \n",
              " 10                   1                   0                   1   \n",
              " 11                   1                   0                   1   \n",
              " 12                   1                   1                   0   \n",
              " 13                   1                   1                   0   \n",
              " 14                   1                   1                   1   \n",
              " 15                   1                   1                   1   \n",
              "-1                    0                   0                   0   \n",
              "-2                    0                   0                   0   \n",
              "\n",
              "     attacker_country_3  \n",
              " 1                    1  \n",
              " 2                    0  \n",
              " 3                    1  \n",
              " 4                    0  \n",
              " 5                    1  \n",
              " 6                    0  \n",
              " 7                    1  \n",
              " 8                    0  \n",
              " 9                    1  \n",
              " 10                   0  \n",
              " 11                   1  \n",
              " 12                   0  \n",
              " 13                   1  \n",
              " 14                   0  \n",
              " 15                   1  \n",
              "-1                    0  \n",
              "-2                    0  }])"
            ]
          },
          "execution_count": 45,
          "metadata": {},
          "output_type": "execute_result"
        }
      ],
      "source": [
        "encoder_attacker_country.fit(df_train['attacker_country'])"
      ]
    },
    {
      "cell_type": "code",
      "execution_count": null,
      "metadata": {
        "id": "mN5_e6HPp2cJ"
      },
      "outputs": [],
      "source": [
        "aux = encoder_attacker_country.transform(df_train['attacker_country'])"
      ]
    },
    {
      "cell_type": "code",
      "execution_count": null,
      "metadata": {
        "id": "1QlvFxkczJnc"
      },
      "outputs": [],
      "source": [
        "df_train =pd.concat([df_train, aux], axis=1)"
      ]
    },
    {
      "cell_type": "code",
      "execution_count": null,
      "metadata": {
        "id": "STRgHW9D5Y-L"
      },
      "outputs": [],
      "source": [
        "df_train.attacker_country_0 = df_train.attacker_country_0.astype('int8')\n",
        "df_train.attacker_country_1 = df_train.attacker_country_1.astype('int8')\n",
        "df_train.attacker_country_2 = df_train.attacker_country_2.astype('int8')\n",
        "df_train.attacker_country_3 = df_train.attacker_country_3.astype('int8')"
      ]
    },
    {
      "cell_type": "code",
      "execution_count": null,
      "metadata": {
        "id": "WHKpIVWx1Tkc"
      },
      "outputs": [],
      "source": [
        "df_train.drop('attacker_country', axis=1, inplace=True)"
      ]
    },
    {
      "cell_type": "code",
      "execution_count": null,
      "metadata": {
        "id": "_jyJ0HkfqW-S"
      },
      "outputs": [],
      "source": [
        "aux = encoder_attacker_country.transform(X_validation['attacker_country'])"
      ]
    },
    {
      "cell_type": "code",
      "execution_count": null,
      "metadata": {
        "id": "zZ_ohP0p02eL"
      },
      "outputs": [],
      "source": [
        "X_validation =pd.concat([X_validation, aux], axis=1)"
      ]
    },
    {
      "cell_type": "code",
      "execution_count": null,
      "metadata": {
        "id": "no7SNaBD1bA-"
      },
      "outputs": [],
      "source": [
        "X_validation.drop('attacker_country', axis=1, inplace=True)"
      ]
    },
    {
      "cell_type": "code",
      "execution_count": null,
      "metadata": {
        "id": "MwXYDAIR5nAa"
      },
      "outputs": [],
      "source": [
        "X_validation.attacker_country_0 = X_validation.attacker_country_0.astype('int8')\n",
        "X_validation.attacker_country_1 = X_validation.attacker_country_1.astype('int8')\n",
        "X_validation.attacker_country_2 = X_validation.attacker_country_2.astype('int8')\n",
        "X_validation.attacker_country_3 = X_validation.attacker_country_3.astype('int8')"
      ]
    },
    {
      "cell_type": "markdown",
      "metadata": {
        "id": "x9DP4pgNFo-r"
      },
      "source": [
        "attacker country"
      ]
    },
    {
      "cell_type": "code",
      "execution_count": null,
      "metadata": {
        "id": "8yid8tYnD_sk"
      },
      "outputs": [],
      "source": [
        "# encoder_attacker_country = TargetEncoder(target_type = 'binary' ,cv = 10, random_state=2)\n",
        "\n",
        "# attacker_country_encoded = encoder_attacker_country.fit_transform(df_train['attacker_country'].to_numpy().reshape(-1, 1), y_train)\n",
        "# df_train.attacker_country = attacker_country_encoded\n",
        "# df_train.attacker_country = df_train.attacker_country.astype('float32')\n",
        "\n",
        "# X_attacker_country_encoded = encoder_attacker_country.transform(X_validation['attacker_country'].to_numpy().reshape(-1, 1))\n",
        "# X_validation.attacker_country = X_attacker_country_encoded\n",
        "# X_validation.attacker_country = X_validation.attacker_country.astype('float32')\n",
        "\n",
        "# #df_train.drop('attacker_country', axis=1, inplace=True)\n",
        "# #X_validation.drop('attacker_country', axis=1, inplace=True)"
      ]
    },
    {
      "cell_type": "markdown",
      "metadata": {
        "id": "hQObJI2uFgPg"
      },
      "source": [
        "Attacker as name"
      ]
    },
    {
      "cell_type": "code",
      "execution_count": null,
      "metadata": {
        "id": "lmsAT6wZOtQZ"
      },
      "outputs": [],
      "source": [
        "encoder_attacker_as_name  = TargetEncoder(target_type = 'binary' ,cv = 6, random_state=1)\n",
        "attacker_as_name_encoded  = encoder_attacker_as_name.fit_transform(df_train['attacker_as_name'].to_numpy().reshape(-1, 1) , y_train)\n",
        "df_train.attacker_as_name = attacker_as_name_encoded\n",
        "df_train.attacker_as_name = df_train.attacker_as_name.astype('float32')"
      ]
    },
    {
      "cell_type": "code",
      "execution_count": null,
      "metadata": {
        "id": "InKYa07EP6ox"
      },
      "outputs": [],
      "source": [
        "X_attacker_as_name_encoded = encoder_attacker_as_name.transform(X_validation['attacker_as_name'].to_numpy().reshape(-1, 1))\n",
        "X_validation.attacker_as_name = X_attacker_as_name_encoded\n",
        "X_validation.attacker_as_name = X_validation.attacker_as_name.astype('float32')"
      ]
    },
    {
      "cell_type": "markdown",
      "metadata": {
        "id": "MkmtW8g-Fm_Z"
      },
      "source": [
        "watcher as name"
      ]
    },
    {
      "cell_type": "code",
      "execution_count": null,
      "metadata": {
        "id": "-3eMEOSOPBGi"
      },
      "outputs": [],
      "source": [
        "encoder_watcher_as_name  = TargetEncoder(target_type = 'binary' ,cv = 6, random_state=1)\n",
        "watcher_as_name_encoded  = encoder_watcher_as_name.fit_transform(df_train['watcher_as_name'].to_numpy().reshape(-1, 1), y_train)\n",
        "df_train.watcher_as_name = watcher_as_name_encoded\n",
        "df_train.watcher_as_name = df_train.watcher_as_name.astype('float32')"
      ]
    },
    {
      "cell_type": "code",
      "execution_count": null,
      "metadata": {
        "id": "I_yCh3pEQN3T"
      },
      "outputs": [],
      "source": [
        "X_watcher_as_name_encoded = encoder_watcher_as_name.transform(X_validation['watcher_as_name'].to_numpy().reshape(-1, 1))\n",
        "X_validation.watcher_as_name = X_watcher_as_name_encoded\n",
        "X_validation.watcher_as_name = X_validation.watcher_as_name.astype('float32')"
      ]
    },
    {
      "cell_type": "markdown",
      "metadata": {
        "id": "IBKEUWqUFlqH"
      },
      "source": [
        "shodan"
      ]
    },
    {
      "cell_type": "code",
      "execution_count": null,
      "metadata": {
        "id": "wylNpH-Y-kk7"
      },
      "outputs": [],
      "source": [
        "shodan_encoder = TargetEncoder(target_type = 'binary' ,cv = 6, random_state=1)\n",
        "shodan_info_encoded = shodan_encoder.fit_transform(df_train['shodan_info'].to_numpy().reshape(-1, 1) , y_train)\n",
        "df_train.shodan_info = shodan_info_encoded\n",
        "df_train.shodan_info = df_train.shodan_info.astype('float32')"
      ]
    },
    {
      "cell_type": "code",
      "execution_count": null,
      "metadata": {
        "id": "h2vb3naSff3l"
      },
      "outputs": [],
      "source": [
        "X_shodan_info_encoded    = shodan_encoder.transform(X_validation['shodan_info'].to_numpy().reshape(-1, 1))\n",
        "X_validation.shodan_info = X_shodan_info_encoded\n",
        "X_validation.shodan_info = X_validation.shodan_info.astype('float32')"
      ]
    },
    {
      "cell_type": "markdown",
      "metadata": {
        "id": "jln3lO9MEUal"
      },
      "source": [
        "Attack_time"
      ]
    },
    {
      "cell_type": "code",
      "execution_count": null,
      "metadata": {
        "id": "peguOO_e7r6C"
      },
      "outputs": [],
      "source": [
        "time_encoder = TargetEncoder(target_type = 'binary' ,cv = 6, random_state=1)\n",
        "time_encoded = time_encoder.fit_transform(df_train['attack_time'].to_numpy().reshape(-1, 1) , y_train)\n",
        "df_train.attack_time = time_encoded\n",
        "df_train.attack_time = df_train.attack_time.astype('float32')"
      ]
    },
    {
      "cell_type": "code",
      "execution_count": null,
      "metadata": {
        "id": "ao2tQ7-uET9G"
      },
      "outputs": [],
      "source": [
        "X_time_encoded    = time_encoder.transform(X_validation['attack_time'].to_numpy().reshape(-1, 1))\n",
        "X_validation.attack_time = X_time_encoded\n",
        "X_validation.attack_time = X_validation.attack_time.astype('float32')"
      ]
    },
    {
      "cell_type": "markdown",
      "metadata": {
        "id": "1vwOABg1FOr9"
      },
      "source": [
        "watcher_uuid_enum"
      ]
    },
    {
      "cell_type": "code",
      "execution_count": null,
      "metadata": {
        "id": "txxnaLnFETOM"
      },
      "outputs": [],
      "source": [
        "uuid_encoder = TargetEncoder(target_type = 'binary' ,cv = 6, random_state=1)\n",
        "uuid_encoded = uuid_encoder.fit_transform(df_train['watcher_uuid_enum'].to_numpy().reshape(-1, 1) , y_train)\n",
        "df_train.watcher_uuid_enum = uuid_encoded\n",
        "df_train.watcher_uuid_enum = df_train.watcher_uuid_enum.astype('float32')"
      ]
    },
    {
      "cell_type": "code",
      "execution_count": null,
      "metadata": {
        "id": "NL9tFvTVF3vd"
      },
      "outputs": [],
      "source": [
        "X_uuid_encoded   = uuid_encoder.transform(X_validation['watcher_uuid_enum'].to_numpy().reshape(-1, 1))\n",
        "X_validation.watcher_uuid_enum = X_uuid_encoded\n",
        "X_validation.watcher_uuid_enum = X_validation.watcher_uuid_enum.astype('float32')"
      ]
    },
    {
      "cell_type": "code",
      "execution_count": null,
      "metadata": {
        "colab": {
          "base_uri": "https://localhost:8080/"
        },
        "id": "WGDUACT9FXq5",
        "outputId": "50d13e93-f28b-4981-b59e-1dc96a664d13"
      },
      "outputs": [
        {
          "name": "stdout",
          "output_type": "stream",
          "text": [
            "<class 'pandas.core.frame.DataFrame'>\n",
            "Int64Index: 32212139 entries, 0 to 40290307\n",
            "Data columns (total 26 columns):\n",
            " #   Column                                    Dtype  \n",
            "---  ------                                    -----  \n",
            " 0   attack_time                               float32\n",
            " 1   watcher_as_name                           float32\n",
            " 2   attacker_as_name                          float32\n",
            " 3   watcher_uuid_enum                         float32\n",
            " 4   cantidad_ataques_ya_recibidos_x_ese_pais  int32  \n",
            " 5   cantidad_ataques_pais_x_hora              int32  \n",
            " 6   cantidad_ataques_AS_to_AS                 int32  \n",
            " 7   freq                                      int32  \n",
            " 8   cantidad_pais_as_attacker                 int32  \n",
            " 9   shodan_info                               float32\n",
            " 10  http:exploit                              int8   \n",
            " 11  http:spam                                 int8   \n",
            " 12  http:bruteforce                           int8   \n",
            " 13  http:scan                                 int8   \n",
            " 14  otro_tipo                                 int8   \n",
            " 15  ssh:bruteforce                            int8   \n",
            " 16  watcher_DE                                int8   \n",
            " 17  watcher_US                                int8   \n",
            " 18  watcher_otro_pais                         int8   \n",
            " 19  watcher_FR                                int8   \n",
            " 20  watcher_NL                                int8   \n",
            " 21  watcher_GB                                int8   \n",
            " 22  attacker_country_0                        int8   \n",
            " 23  attacker_country_1                        int8   \n",
            " 24  attacker_country_2                        int8   \n",
            " 25  attacker_country_3                        int8   \n",
            "dtypes: float32(5), int32(5), int8(16)\n",
            "memory usage: 1.9 GB\n"
          ]
        }
      ],
      "source": [
        "df_train.info()"
      ]
    },
    {
      "cell_type": "markdown",
      "source": [
        "#En este notebook, no se usa"
      ],
      "metadata": {
        "id": "kSgb4ZkBPxvl"
      }
    },
    {
      "cell_type": "markdown",
      "metadata": {
        "id": "XJSZ1YbzL4iW"
      },
      "source": [
        "as_to_as"
      ]
    },
    {
      "cell_type": "code",
      "execution_count": null,
      "metadata": {
        "id": "0gTTB5v-FHbH"
      },
      "outputs": [],
      "source": [
        "as_to_as_encoder = TargetEncoder(target_type = 'binary' ,cv = 6, random_state=1)\n",
        "as_to_as_encoded = as_to_as_encoder.fit_transform(df_train['cantidad_ataques_AS_to_AS'].to_numpy().reshape(-1, 1) , y_train)\n",
        "df_train.cantidad_ataques_AS_to_AS  = as_to_as_encoded\n",
        "df_train.cantidad_ataques_AS_to_AS  = df_train.cantidad_ataques_AS_to_AS .astype('float32')\n",
        "\n",
        "X_as_to_as_encoded = as_to_as_encoder.transform(X_validation['cantidad_ataques_AS_to_AS'].to_numpy().reshape(-1, 1))\n",
        "X_validation.cantidad_ataques_AS_to_AS  = X_as_to_as_encoded\n",
        "X_validation.cantidad_ataques_AS_to_AS  = X_validation.cantidad_ataques_AS_to_AS .astype('float32')"
      ]
    },
    {
      "cell_type": "markdown",
      "metadata": {
        "id": "OMdjtt5VL28o"
      },
      "source": [
        "cantidad_ataques_ya_recibidos_x_ese_pais"
      ]
    },
    {
      "cell_type": "code",
      "execution_count": null,
      "metadata": {
        "id": "kaaUpCfmHFva"
      },
      "outputs": [],
      "source": [
        "cantidad_ataques_ya_recibidos_x_ese_pais_encoder = TargetEncoder(target_type = 'binary' ,cv = 6, random_state=1)\n",
        "cantidad_ataques_ya_recibidos_x_ese_pais_encoded = cantidad_ataques_ya_recibidos_x_ese_pais_encoder.fit_transform(df_train['cantidad_ataques_ya_recibidos_x_ese_pais'].to_numpy().reshape(-1, 1) , y_train)\n",
        "df_train.cantidad_ataques_ya_recibidos_x_ese_pais = cantidad_ataques_ya_recibidos_x_ese_pais_encoded\n",
        "df_train.cantidad_ataques_ya_recibidos_x_ese_pais = df_train.cantidad_ataques_ya_recibidos_x_ese_pais.astype('float32')\n",
        "\n",
        "cantidad_ataques_ya_recibidos_x_ese_pais_encoded = cantidad_ataques_ya_recibidos_x_ese_pais_encoder.transform(X_validation['cantidad_ataques_ya_recibidos_x_ese_pais'].to_numpy().reshape(-1, 1))\n",
        "X_validation.cantidad_ataques_ya_recibidos_x_ese_pais = X_validation.cantidad_ataques_ya_recibidos_x_ese_pais.astype('float32')"
      ]
    },
    {
      "cell_type": "markdown",
      "metadata": {
        "id": "VBPTochLL1gf"
      },
      "source": [
        "cantidad_ataques_pais_x_hora"
      ]
    },
    {
      "cell_type": "code",
      "execution_count": null,
      "metadata": {
        "id": "gNPX-er7IEpe"
      },
      "outputs": [],
      "source": [
        "cantidad_ataques_pais_x_hora_encoder = TargetEncoder(target_type = 'binary' ,cv = 6, random_state=1)\n",
        "cantidad_ataques_pais_x_hora_encoded = cantidad_ataques_pais_x_hora_encoder.fit_transform(df_train['cantidad_ataques_pais_x_hora'].to_numpy().reshape(-1, 1) , y_train)\n",
        "df_train.cantidad_ataques_pais_x_hora  = cantidad_ataques_pais_x_hora_encoded\n",
        "df_train.cantidad_ataques_pais_x_hora  = df_train.cantidad_ataques_pais_x_hora .astype('float32')\n",
        "\n",
        "X_cantidad_ataques_pais_x_hora_encoded     =  cantidad_ataques_pais_x_hora_encoder.transform(X_validation['cantidad_ataques_pais_x_hora'].to_numpy().reshape(-1, 1))\n",
        "X_validation.cantidad_ataques_pais_x_hora  =  X_cantidad_ataques_pais_x_hora_encoded\n",
        "X_validation.cantidad_ataques_pais_x_hora  =  X_validation.cantidad_ataques_pais_x_hora .astype('float32')"
      ]
    },
    {
      "cell_type": "markdown",
      "metadata": {
        "id": "kezrXMqnLyjT"
      },
      "source": [
        "freq"
      ]
    },
    {
      "cell_type": "code",
      "execution_count": null,
      "metadata": {
        "id": "tuXqwL8QH3ka"
      },
      "outputs": [],
      "source": [
        "freq_encoder = TargetEncoder(target_type = 'binary' ,cv = 6, random_state=1)\n",
        "freq_encoded = freq_encoder.fit_transform(df_train['freq'].to_numpy().reshape(-1, 1) , y_train)\n",
        "df_train.freq  = freq_encoded\n",
        "df_train.freq  = df_train.freq .astype('float32')\n",
        "\n",
        "X_freq_encoded =  freq_encoder.transform(X_validation['freq'].to_numpy().reshape(-1, 1))\n",
        "X_validation.freq  =  X_freq_encoded\n",
        "X_validation.freq  =  X_validation.freq.astype('float32')"
      ]
    },
    {
      "cell_type": "markdown",
      "metadata": {
        "id": "Y-3PVyMCLxnx"
      },
      "source": [
        "cantidad_pais_as_attacker_encoder"
      ]
    },
    {
      "cell_type": "code",
      "execution_count": null,
      "metadata": {
        "id": "IiJBxA7dLEJO"
      },
      "outputs": [],
      "source": [
        "cantidad_pais_as_attacker_encoder = TargetEncoder(target_type = 'binary' ,cv = 6, random_state=1)\n",
        "cantidad_pais_as_attacker_encoded = cantidad_pais_as_attacker_encoder.fit_transform(df_train['cantidad_pais_as_attacker'].to_numpy().reshape(-1, 1) , y_train)\n",
        "df_train.cantidad_pais_as_attacker  = cantidad_pais_as_attacker_encoded\n",
        "df_train.cantidad_pais_as_attacker  = df_train.cantidad_pais_as_attacker .astype('float32')\n",
        "\n",
        "X_cantidad_pais_as_attacker_encoded =  cantidad_pais_as_attacker_encoder.transform(X_validation['cantidad_pais_as_attacker'].to_numpy().reshape(-1, 1))\n",
        "X_validation.cantidad_pais_as_attacker  =  X_cantidad_pais_as_attacker_encoded\n",
        "X_validation.cantidad_pais_as_attacker  =  X_validation.cantidad_pais_as_attacker.astype('float32')"
      ]
    },
    {
      "cell_type": "markdown",
      "metadata": {
        "id": "-fJ6OllRUKUS"
      },
      "source": [
        "#Normalizacion"
      ]
    },
    {
      "cell_type": "code",
      "execution_count": null,
      "metadata": {
        "id": "HZPL7gSb0P6-"
      },
      "outputs": [],
      "source": [
        "#total_attack_time = df_train.attack_time.sum()"
      ]
    },
    {
      "cell_type": "code",
      "execution_count": null,
      "metadata": {
        "id": "0U0WBYnpNeLL"
      },
      "outputs": [],
      "source": [
        "#df_train.attack_time = df_train.attack_time / total_attack_time\n",
        "#df_train.attack_time = df_train.attack_time.astype('float32')"
      ]
    },
    {
      "cell_type": "code",
      "execution_count": null,
      "metadata": {
        "id": "NejgDQZ1ToUA"
      },
      "outputs": [],
      "source": [
        "#X_validation.attack_time = X_validation.attack_time / total_attack_time\n",
        "#X_validation.attack_time = X_validation.attack_time.astype('float32')"
      ]
    },
    {
      "cell_type": "code",
      "execution_count": null,
      "metadata": {
        "id": "G8AEIaNl0TVF"
      },
      "outputs": [],
      "source": [
        "#total_watcher_uuid = df_train.watcher_uuid_enum.sum()"
      ]
    },
    {
      "cell_type": "code",
      "execution_count": null,
      "metadata": {
        "id": "uP4rLruHlKDo"
      },
      "outputs": [],
      "source": [
        "#df_train.watcher_uuid_enum = df_train.watcher_uuid_enum / total_watcher_uuid\n",
        "#df_train.watcher_uuid_enum = df_train.watcher_uuid_enum.astype('float32')"
      ]
    },
    {
      "cell_type": "code",
      "execution_count": null,
      "metadata": {
        "id": "mIkgLymrzF1B"
      },
      "outputs": [],
      "source": [
        "#X_validation.watcher_uuid_enum = X_validation.watcher_uuid_enum / total_watcher_uuid\n",
        "#X_validation.watcher_uuid_enum = X_validation.watcher_uuid_enum.astype('float32')"
      ]
    },
    {
      "cell_type": "code",
      "execution_count": null,
      "metadata": {
        "id": "vusTQnOaVL7o"
      },
      "outputs": [],
      "source": [
        "total_cantidad_ataques_ya_recibidos_x_ese_pais = df_train.cantidad_ataques_ya_recibidos_x_ese_pais.sum()\n",
        "df_train.cantidad_ataques_ya_recibidos_x_ese_pais = df_train.cantidad_ataques_ya_recibidos_x_ese_pais / total_cantidad_ataques_ya_recibidos_x_ese_pais\n",
        "df_train.cantidad_ataques_ya_recibidos_x_ese_pais = df_train.cantidad_ataques_ya_recibidos_x_ese_pais.astype('float32')"
      ]
    },
    {
      "cell_type": "code",
      "execution_count": null,
      "metadata": {
        "id": "ecnBrgLVWbU3"
      },
      "outputs": [],
      "source": [
        "X_validation.cantidad_ataques_ya_recibidos_x_ese_pais = X_validation.cantidad_ataques_ya_recibidos_x_ese_pais / total_cantidad_ataques_ya_recibidos_x_ese_pais\n",
        "X_validation.cantidad_ataques_ya_recibidos_x_ese_pais = X_validation.cantidad_ataques_ya_recibidos_x_ese_pais.astype('float32')"
      ]
    },
    {
      "cell_type": "code",
      "execution_count": null,
      "metadata": {
        "id": "3YFFyxmsVm6V"
      },
      "outputs": [],
      "source": [
        "total_cantidad_ataques_pais_x_hora = df_train.cantidad_ataques_pais_x_hora.sum()\n",
        "df_train.cantidad_ataques_pais_x_hora = df_train.cantidad_ataques_pais_x_hora / total_cantidad_ataques_pais_x_hora\n",
        "df_train.cantidad_ataques_pais_x_hora = df_train.cantidad_ataques_pais_x_hora.astype('float32')"
      ]
    },
    {
      "cell_type": "code",
      "execution_count": null,
      "metadata": {
        "id": "9kHbcMt7WgW2"
      },
      "outputs": [],
      "source": [
        "X_validation.cantidad_ataques_pais_x_hora = X_validation.cantidad_ataques_pais_x_hora / total_cantidad_ataques_pais_x_hora\n",
        "X_validation.cantidad_ataques_pais_x_hora = X_validation.cantidad_ataques_pais_x_hora.astype('float32')"
      ]
    },
    {
      "cell_type": "code",
      "execution_count": null,
      "metadata": {
        "id": "ar4W4EzhVmwm"
      },
      "outputs": [],
      "source": [
        "total_cantidad_ataques_AS_to_AS = df_train.cantidad_ataques_AS_to_AS.sum()\n",
        "df_train.cantidad_ataques_AS_to_AS = df_train.cantidad_ataques_AS_to_AS / total_cantidad_ataques_AS_to_AS\n",
        "df_train.cantidad_ataques_AS_to_AS = df_train.cantidad_ataques_AS_to_AS.astype('float32')"
      ]
    },
    {
      "cell_type": "code",
      "execution_count": null,
      "metadata": {
        "id": "buBn1uPTWgwp"
      },
      "outputs": [],
      "source": [
        "X_validation.cantidad_ataques_AS_to_AS = X_validation.cantidad_ataques_AS_to_AS / total_cantidad_ataques_AS_to_AS\n",
        "X_validation.cantidad_ataques_AS_to_AS = X_validation.cantidad_ataques_AS_to_AS.astype('float32')"
      ]
    },
    {
      "cell_type": "code",
      "execution_count": null,
      "metadata": {
        "id": "0eyvzdp_Vymn"
      },
      "outputs": [],
      "source": [
        "total_cantidad_pais_as_attacker = df_train.cantidad_pais_as_attacker.sum()\n",
        "df_train.cantidad_pais_as_attacker = df_train.cantidad_pais_as_attacker / total_cantidad_pais_as_attacker\n",
        "df_train.cantidad_pais_as_attacker = df_train.cantidad_pais_as_attacker.astype('float32')"
      ]
    },
    {
      "cell_type": "code",
      "execution_count": null,
      "metadata": {
        "id": "l4Xu4EWuWtcx"
      },
      "outputs": [],
      "source": [
        "X_validation.cantidad_pais_as_attacker = X_validation.cantidad_pais_as_attacker / total_cantidad_pais_as_attacker\n",
        "X_validation.cantidad_pais_as_attacker = X_validation.cantidad_pais_as_attacker.astype('float32')"
      ]
    },
    {
      "cell_type": "code",
      "execution_count": null,
      "metadata": {
        "id": "vVf1MaqHVyKp"
      },
      "outputs": [],
      "source": [
        "total_freq = df_train.freq.sum()\n",
        "df_train.freq = df_train.freq / total_freq\n",
        "df_train.freq = df_train.freq.astype('float32')"
      ]
    },
    {
      "cell_type": "code",
      "execution_count": null,
      "metadata": {
        "id": "YKJeN2cyWhNo"
      },
      "outputs": [],
      "source": [
        "X_validation.freq = X_validation.freq / total_freq\n",
        "X_validation.freq = X_validation.freq.astype('float32')"
      ]
    },
    {
      "cell_type": "code",
      "execution_count": null,
      "metadata": {
        "id": "SWjFmCGZ8ccP"
      },
      "outputs": [],
      "source": [
        "# total_attacker_as_num = df_train.attacker_as_num.sum()\n",
        "# df_train.attacker_as_num = df_train.attacker_as_num / total_attacker_as_num\n",
        "# df_train.attacker_as_num = df_train.attacker_as_num.astype('float32')"
      ]
    },
    {
      "cell_type": "code",
      "execution_count": null,
      "metadata": {
        "id": "ib8DYZ-d8woB"
      },
      "outputs": [],
      "source": [
        "# X_validation.attacker_as_num = X_validation.attacker_as_num / total_attacker_as_num\n",
        "# X_validation.attacker_as_num = X_validation.attacker_as_num.astype('float32')"
      ]
    },
    {
      "cell_type": "code",
      "execution_count": null,
      "metadata": {
        "id": "Z_8aarmI9HOw"
      },
      "outputs": [],
      "source": [
        "# total_watcher_as_num = df_train.watcher_as_num.sum()\n",
        "# df_train.watcher_as_num = df_train.watcher_as_num / total_watcher_as_num\n",
        "# df_train.watcher_as_num = df_train.watcher_as_num.astype('float32')"
      ]
    },
    {
      "cell_type": "code",
      "execution_count": null,
      "metadata": {
        "id": "ZibHpFvG9rNI"
      },
      "outputs": [],
      "source": [
        "# X_validation.watcher_as_num = X_validation.watcher_as_num / total_watcher_as_num\n",
        "# X_validation.watcher_as_num = X_validation.watcher_as_num.astype('float32')"
      ]
    },
    {
      "cell_type": "markdown",
      "metadata": {
        "id": "Me0nGpsCYasM"
      },
      "source": [
        "#guardamos dfs"
      ]
    },
    {
      "cell_type": "code",
      "execution_count": null,
      "metadata": {
        "colab": {
          "base_uri": "https://localhost:8080/",
          "height": 444
        },
        "id": "6Uc__wJnNqV8",
        "outputId": "28224f15-ee02-4bb1-f5e5-cf8ab04b0e36"
      },
      "outputs": [
        {
          "data": {
            "text/html": [
              "\n",
              "  <div id=\"df-ddc17a7c-68f4-40b4-a129-36f5f05784db\" class=\"colab-df-container\">\n",
              "    <div>\n",
              "<style scoped>\n",
              "    .dataframe tbody tr th:only-of-type {\n",
              "        vertical-align: middle;\n",
              "    }\n",
              "\n",
              "    .dataframe tbody tr th {\n",
              "        vertical-align: top;\n",
              "    }\n",
              "\n",
              "    .dataframe thead th {\n",
              "        text-align: right;\n",
              "    }\n",
              "</style>\n",
              "<table border=\"1\" class=\"dataframe\">\n",
              "  <thead>\n",
              "    <tr style=\"text-align: right;\">\n",
              "      <th></th>\n",
              "      <th>attack_time</th>\n",
              "      <th>watcher_as_name</th>\n",
              "      <th>attacker_as_name</th>\n",
              "      <th>watcher_uuid_enum</th>\n",
              "      <th>cantidad_ataques_ya_recibidos_x_ese_pais</th>\n",
              "      <th>cantidad_ataques_pais_x_hora</th>\n",
              "      <th>cantidad_ataques_AS_to_AS</th>\n",
              "      <th>freq</th>\n",
              "      <th>cantidad_pais_as_attacker</th>\n",
              "      <th>shodan_info</th>\n",
              "      <th>...</th>\n",
              "      <th>watcher_DE</th>\n",
              "      <th>watcher_US</th>\n",
              "      <th>watcher_otro_pais</th>\n",
              "      <th>watcher_FR</th>\n",
              "      <th>watcher_NL</th>\n",
              "      <th>watcher_GB</th>\n",
              "      <th>attacker_country_0</th>\n",
              "      <th>attacker_country_1</th>\n",
              "      <th>attacker_country_2</th>\n",
              "      <th>attacker_country_3</th>\n",
              "    </tr>\n",
              "  </thead>\n",
              "  <tbody>\n",
              "    <tr>\n",
              "      <th>0</th>\n",
              "      <td>0.016862</td>\n",
              "      <td>0.023853</td>\n",
              "      <td>0.0</td>\n",
              "      <td>0.010805</td>\n",
              "      <td>0.016177</td>\n",
              "      <td>0.016954</td>\n",
              "      <td>0.000000</td>\n",
              "      <td>0.000000</td>\n",
              "      <td>0.000000</td>\n",
              "      <td>0.000000</td>\n",
              "      <td>...</td>\n",
              "      <td>1</td>\n",
              "      <td>0</td>\n",
              "      <td>0</td>\n",
              "      <td>0</td>\n",
              "      <td>0</td>\n",
              "      <td>0</td>\n",
              "      <td>0</td>\n",
              "      <td>0</td>\n",
              "      <td>0</td>\n",
              "      <td>1</td>\n",
              "    </tr>\n",
              "    <tr>\n",
              "      <th>1</th>\n",
              "      <td>0.016746</td>\n",
              "      <td>0.023883</td>\n",
              "      <td>0.0</td>\n",
              "      <td>0.006725</td>\n",
              "      <td>0.016105</td>\n",
              "      <td>0.016844</td>\n",
              "      <td>0.000000</td>\n",
              "      <td>0.000000</td>\n",
              "      <td>0.000000</td>\n",
              "      <td>0.000000</td>\n",
              "      <td>...</td>\n",
              "      <td>1</td>\n",
              "      <td>0</td>\n",
              "      <td>0</td>\n",
              "      <td>0</td>\n",
              "      <td>0</td>\n",
              "      <td>0</td>\n",
              "      <td>0</td>\n",
              "      <td>0</td>\n",
              "      <td>0</td>\n",
              "      <td>1</td>\n",
              "    </tr>\n",
              "    <tr>\n",
              "      <th>2</th>\n",
              "      <td>0.016930</td>\n",
              "      <td>0.009903</td>\n",
              "      <td>0.0</td>\n",
              "      <td>0.012629</td>\n",
              "      <td>0.016054</td>\n",
              "      <td>0.016946</td>\n",
              "      <td>0.050699</td>\n",
              "      <td>0.000000</td>\n",
              "      <td>0.000000</td>\n",
              "      <td>0.000000</td>\n",
              "      <td>...</td>\n",
              "      <td>1</td>\n",
              "      <td>0</td>\n",
              "      <td>0</td>\n",
              "      <td>0</td>\n",
              "      <td>0</td>\n",
              "      <td>0</td>\n",
              "      <td>0</td>\n",
              "      <td>0</td>\n",
              "      <td>0</td>\n",
              "      <td>1</td>\n",
              "    </tr>\n",
              "    <tr>\n",
              "      <th>3</th>\n",
              "      <td>0.016898</td>\n",
              "      <td>0.009656</td>\n",
              "      <td>0.0</td>\n",
              "      <td>0.010651</td>\n",
              "      <td>0.016007</td>\n",
              "      <td>0.016634</td>\n",
              "      <td>0.048271</td>\n",
              "      <td>0.000000</td>\n",
              "      <td>0.000000</td>\n",
              "      <td>0.000000</td>\n",
              "      <td>...</td>\n",
              "      <td>1</td>\n",
              "      <td>0</td>\n",
              "      <td>0</td>\n",
              "      <td>0</td>\n",
              "      <td>0</td>\n",
              "      <td>0</td>\n",
              "      <td>0</td>\n",
              "      <td>0</td>\n",
              "      <td>0</td>\n",
              "      <td>1</td>\n",
              "    </tr>\n",
              "    <tr>\n",
              "      <th>4</th>\n",
              "      <td>0.016787</td>\n",
              "      <td>0.009804</td>\n",
              "      <td>0.0</td>\n",
              "      <td>0.011471</td>\n",
              "      <td>0.016004</td>\n",
              "      <td>0.016738</td>\n",
              "      <td>0.050443</td>\n",
              "      <td>0.000000</td>\n",
              "      <td>0.000000</td>\n",
              "      <td>0.000000</td>\n",
              "      <td>...</td>\n",
              "      <td>1</td>\n",
              "      <td>0</td>\n",
              "      <td>0</td>\n",
              "      <td>0</td>\n",
              "      <td>0</td>\n",
              "      <td>0</td>\n",
              "      <td>0</td>\n",
              "      <td>0</td>\n",
              "      <td>0</td>\n",
              "      <td>1</td>\n",
              "    </tr>\n",
              "    <tr>\n",
              "      <th>...</th>\n",
              "      <td>...</td>\n",
              "      <td>...</td>\n",
              "      <td>...</td>\n",
              "      <td>...</td>\n",
              "      <td>...</td>\n",
              "      <td>...</td>\n",
              "      <td>...</td>\n",
              "      <td>...</td>\n",
              "      <td>...</td>\n",
              "      <td>...</td>\n",
              "      <td>...</td>\n",
              "      <td>...</td>\n",
              "      <td>...</td>\n",
              "      <td>...</td>\n",
              "      <td>...</td>\n",
              "      <td>...</td>\n",
              "      <td>...</td>\n",
              "      <td>...</td>\n",
              "      <td>...</td>\n",
              "      <td>...</td>\n",
              "      <td>...</td>\n",
              "    </tr>\n",
              "    <tr>\n",
              "      <th>40290303</th>\n",
              "      <td>0.015599</td>\n",
              "      <td>0.003319</td>\n",
              "      <td>0.0</td>\n",
              "      <td>0.003350</td>\n",
              "      <td>0.003248</td>\n",
              "      <td>0.009495</td>\n",
              "      <td>0.034998</td>\n",
              "      <td>0.021869</td>\n",
              "      <td>0.027763</td>\n",
              "      <td>0.000336</td>\n",
              "      <td>...</td>\n",
              "      <td>1</td>\n",
              "      <td>0</td>\n",
              "      <td>0</td>\n",
              "      <td>0</td>\n",
              "      <td>0</td>\n",
              "      <td>0</td>\n",
              "      <td>0</td>\n",
              "      <td>1</td>\n",
              "      <td>1</td>\n",
              "      <td>0</td>\n",
              "    </tr>\n",
              "    <tr>\n",
              "      <th>40290304</th>\n",
              "      <td>0.015550</td>\n",
              "      <td>0.003361</td>\n",
              "      <td>0.0</td>\n",
              "      <td>0.003385</td>\n",
              "      <td>0.003383</td>\n",
              "      <td>0.009284</td>\n",
              "      <td>0.035296</td>\n",
              "      <td>0.019636</td>\n",
              "      <td>0.029758</td>\n",
              "      <td>0.000342</td>\n",
              "      <td>...</td>\n",
              "      <td>1</td>\n",
              "      <td>0</td>\n",
              "      <td>0</td>\n",
              "      <td>0</td>\n",
              "      <td>0</td>\n",
              "      <td>0</td>\n",
              "      <td>0</td>\n",
              "      <td>1</td>\n",
              "      <td>1</td>\n",
              "      <td>0</td>\n",
              "    </tr>\n",
              "    <tr>\n",
              "      <th>40290305</th>\n",
              "      <td>0.015541</td>\n",
              "      <td>0.003317</td>\n",
              "      <td>0.0</td>\n",
              "      <td>0.003340</td>\n",
              "      <td>0.003340</td>\n",
              "      <td>0.009829</td>\n",
              "      <td>0.034531</td>\n",
              "      <td>0.019807</td>\n",
              "      <td>0.029660</td>\n",
              "      <td>0.000334</td>\n",
              "      <td>...</td>\n",
              "      <td>1</td>\n",
              "      <td>0</td>\n",
              "      <td>0</td>\n",
              "      <td>0</td>\n",
              "      <td>0</td>\n",
              "      <td>0</td>\n",
              "      <td>0</td>\n",
              "      <td>1</td>\n",
              "      <td>1</td>\n",
              "      <td>0</td>\n",
              "    </tr>\n",
              "    <tr>\n",
              "      <th>40290306</th>\n",
              "      <td>0.015585</td>\n",
              "      <td>0.003364</td>\n",
              "      <td>0.0</td>\n",
              "      <td>0.003390</td>\n",
              "      <td>0.003258</td>\n",
              "      <td>0.009444</td>\n",
              "      <td>0.035557</td>\n",
              "      <td>0.021041</td>\n",
              "      <td>0.029783</td>\n",
              "      <td>0.000338</td>\n",
              "      <td>...</td>\n",
              "      <td>1</td>\n",
              "      <td>0</td>\n",
              "      <td>0</td>\n",
              "      <td>0</td>\n",
              "      <td>0</td>\n",
              "      <td>0</td>\n",
              "      <td>0</td>\n",
              "      <td>1</td>\n",
              "      <td>1</td>\n",
              "      <td>0</td>\n",
              "    </tr>\n",
              "    <tr>\n",
              "      <th>40290307</th>\n",
              "      <td>0.015550</td>\n",
              "      <td>0.003361</td>\n",
              "      <td>0.0</td>\n",
              "      <td>0.003385</td>\n",
              "      <td>0.003383</td>\n",
              "      <td>0.009284</td>\n",
              "      <td>0.035296</td>\n",
              "      <td>0.019636</td>\n",
              "      <td>0.029758</td>\n",
              "      <td>0.000342</td>\n",
              "      <td>...</td>\n",
              "      <td>1</td>\n",
              "      <td>0</td>\n",
              "      <td>0</td>\n",
              "      <td>0</td>\n",
              "      <td>0</td>\n",
              "      <td>0</td>\n",
              "      <td>0</td>\n",
              "      <td>1</td>\n",
              "      <td>1</td>\n",
              "      <td>0</td>\n",
              "    </tr>\n",
              "  </tbody>\n",
              "</table>\n",
              "<p>32212139 rows × 26 columns</p>\n",
              "</div>\n",
              "    <div class=\"colab-df-buttons\">\n",
              "\n",
              "  <div class=\"colab-df-container\">\n",
              "    <button class=\"colab-df-convert\" onclick=\"convertToInteractive('df-ddc17a7c-68f4-40b4-a129-36f5f05784db')\"\n",
              "            title=\"Convert this dataframe to an interactive table.\"\n",
              "            style=\"display:none;\">\n",
              "\n",
              "  <svg xmlns=\"http://www.w3.org/2000/svg\" height=\"24px\" viewBox=\"0 -960 960 960\">\n",
              "    <path d=\"M120-120v-720h720v720H120Zm60-500h600v-160H180v160Zm220 220h160v-160H400v160Zm0 220h160v-160H400v160ZM180-400h160v-160H180v160Zm440 0h160v-160H620v160ZM180-180h160v-160H180v160Zm440 0h160v-160H620v160Z\"/>\n",
              "  </svg>\n",
              "    </button>\n",
              "\n",
              "  <style>\n",
              "    .colab-df-container {\n",
              "      display:flex;\n",
              "      gap: 12px;\n",
              "    }\n",
              "\n",
              "    .colab-df-convert {\n",
              "      background-color: #E8F0FE;\n",
              "      border: none;\n",
              "      border-radius: 50%;\n",
              "      cursor: pointer;\n",
              "      display: none;\n",
              "      fill: #1967D2;\n",
              "      height: 32px;\n",
              "      padding: 0 0 0 0;\n",
              "      width: 32px;\n",
              "    }\n",
              "\n",
              "    .colab-df-convert:hover {\n",
              "      background-color: #E2EBFA;\n",
              "      box-shadow: 0px 1px 2px rgba(60, 64, 67, 0.3), 0px 1px 3px 1px rgba(60, 64, 67, 0.15);\n",
              "      fill: #174EA6;\n",
              "    }\n",
              "\n",
              "    .colab-df-buttons div {\n",
              "      margin-bottom: 4px;\n",
              "    }\n",
              "\n",
              "    [theme=dark] .colab-df-convert {\n",
              "      background-color: #3B4455;\n",
              "      fill: #D2E3FC;\n",
              "    }\n",
              "\n",
              "    [theme=dark] .colab-df-convert:hover {\n",
              "      background-color: #434B5C;\n",
              "      box-shadow: 0px 1px 3px 1px rgba(0, 0, 0, 0.15);\n",
              "      filter: drop-shadow(0px 1px 2px rgba(0, 0, 0, 0.3));\n",
              "      fill: #FFFFFF;\n",
              "    }\n",
              "  </style>\n",
              "\n",
              "    <script>\n",
              "      const buttonEl =\n",
              "        document.querySelector('#df-ddc17a7c-68f4-40b4-a129-36f5f05784db button.colab-df-convert');\n",
              "      buttonEl.style.display =\n",
              "        google.colab.kernel.accessAllowed ? 'block' : 'none';\n",
              "\n",
              "      async function convertToInteractive(key) {\n",
              "        const element = document.querySelector('#df-ddc17a7c-68f4-40b4-a129-36f5f05784db');\n",
              "        const dataTable =\n",
              "          await google.colab.kernel.invokeFunction('convertToInteractive',\n",
              "                                                    [key], {});\n",
              "        if (!dataTable) return;\n",
              "\n",
              "        const docLinkHtml = 'Like what you see? Visit the ' +\n",
              "          '<a target=\"_blank\" href=https://colab.research.google.com/notebooks/data_table.ipynb>data table notebook</a>'\n",
              "          + ' to learn more about interactive tables.';\n",
              "        element.innerHTML = '';\n",
              "        dataTable['output_type'] = 'display_data';\n",
              "        await google.colab.output.renderOutput(dataTable, element);\n",
              "        const docLink = document.createElement('div');\n",
              "        docLink.innerHTML = docLinkHtml;\n",
              "        element.appendChild(docLink);\n",
              "      }\n",
              "    </script>\n",
              "  </div>\n",
              "\n",
              "\n",
              "<div id=\"df-eb290c62-a524-4e43-8e53-586747686a4e\">\n",
              "  <button class=\"colab-df-quickchart\" onclick=\"quickchart('df-eb290c62-a524-4e43-8e53-586747686a4e')\"\n",
              "            title=\"Suggest charts\"\n",
              "            style=\"display:none;\">\n",
              "\n",
              "<svg xmlns=\"http://www.w3.org/2000/svg\" height=\"24px\"viewBox=\"0 0 24 24\"\n",
              "     width=\"24px\">\n",
              "    <g>\n",
              "        <path d=\"M19 3H5c-1.1 0-2 .9-2 2v14c0 1.1.9 2 2 2h14c1.1 0 2-.9 2-2V5c0-1.1-.9-2-2-2zM9 17H7v-7h2v7zm4 0h-2V7h2v10zm4 0h-2v-4h2v4z\"/>\n",
              "    </g>\n",
              "</svg>\n",
              "  </button>\n",
              "\n",
              "<style>\n",
              "  .colab-df-quickchart {\n",
              "      --bg-color: #E8F0FE;\n",
              "      --fill-color: #1967D2;\n",
              "      --hover-bg-color: #E2EBFA;\n",
              "      --hover-fill-color: #174EA6;\n",
              "      --disabled-fill-color: #AAA;\n",
              "      --disabled-bg-color: #DDD;\n",
              "  }\n",
              "\n",
              "  [theme=dark] .colab-df-quickchart {\n",
              "      --bg-color: #3B4455;\n",
              "      --fill-color: #D2E3FC;\n",
              "      --hover-bg-color: #434B5C;\n",
              "      --hover-fill-color: #FFFFFF;\n",
              "      --disabled-bg-color: #3B4455;\n",
              "      --disabled-fill-color: #666;\n",
              "  }\n",
              "\n",
              "  .colab-df-quickchart {\n",
              "    background-color: var(--bg-color);\n",
              "    border: none;\n",
              "    border-radius: 50%;\n",
              "    cursor: pointer;\n",
              "    display: none;\n",
              "    fill: var(--fill-color);\n",
              "    height: 32px;\n",
              "    padding: 0;\n",
              "    width: 32px;\n",
              "  }\n",
              "\n",
              "  .colab-df-quickchart:hover {\n",
              "    background-color: var(--hover-bg-color);\n",
              "    box-shadow: 0 1px 2px rgba(60, 64, 67, 0.3), 0 1px 3px 1px rgba(60, 64, 67, 0.15);\n",
              "    fill: var(--button-hover-fill-color);\n",
              "  }\n",
              "\n",
              "  .colab-df-quickchart-complete:disabled,\n",
              "  .colab-df-quickchart-complete:disabled:hover {\n",
              "    background-color: var(--disabled-bg-color);\n",
              "    fill: var(--disabled-fill-color);\n",
              "    box-shadow: none;\n",
              "  }\n",
              "\n",
              "  .colab-df-spinner {\n",
              "    border: 2px solid var(--fill-color);\n",
              "    border-color: transparent;\n",
              "    border-bottom-color: var(--fill-color);\n",
              "    animation:\n",
              "      spin 1s steps(1) infinite;\n",
              "  }\n",
              "\n",
              "  @keyframes spin {\n",
              "    0% {\n",
              "      border-color: transparent;\n",
              "      border-bottom-color: var(--fill-color);\n",
              "      border-left-color: var(--fill-color);\n",
              "    }\n",
              "    20% {\n",
              "      border-color: transparent;\n",
              "      border-left-color: var(--fill-color);\n",
              "      border-top-color: var(--fill-color);\n",
              "    }\n",
              "    30% {\n",
              "      border-color: transparent;\n",
              "      border-left-color: var(--fill-color);\n",
              "      border-top-color: var(--fill-color);\n",
              "      border-right-color: var(--fill-color);\n",
              "    }\n",
              "    40% {\n",
              "      border-color: transparent;\n",
              "      border-right-color: var(--fill-color);\n",
              "      border-top-color: var(--fill-color);\n",
              "    }\n",
              "    60% {\n",
              "      border-color: transparent;\n",
              "      border-right-color: var(--fill-color);\n",
              "    }\n",
              "    80% {\n",
              "      border-color: transparent;\n",
              "      border-right-color: var(--fill-color);\n",
              "      border-bottom-color: var(--fill-color);\n",
              "    }\n",
              "    90% {\n",
              "      border-color: transparent;\n",
              "      border-bottom-color: var(--fill-color);\n",
              "    }\n",
              "  }\n",
              "</style>\n",
              "\n",
              "  <script>\n",
              "    async function quickchart(key) {\n",
              "      const quickchartButtonEl =\n",
              "        document.querySelector('#' + key + ' button');\n",
              "      quickchartButtonEl.disabled = true;  // To prevent multiple clicks.\n",
              "      quickchartButtonEl.classList.add('colab-df-spinner');\n",
              "      try {\n",
              "        const charts = await google.colab.kernel.invokeFunction(\n",
              "            'suggestCharts', [key], {});\n",
              "      } catch (error) {\n",
              "        console.error('Error during call to suggestCharts:', error);\n",
              "      }\n",
              "      quickchartButtonEl.classList.remove('colab-df-spinner');\n",
              "      quickchartButtonEl.classList.add('colab-df-quickchart-complete');\n",
              "    }\n",
              "    (() => {\n",
              "      let quickchartButtonEl =\n",
              "        document.querySelector('#df-eb290c62-a524-4e43-8e53-586747686a4e button');\n",
              "      quickchartButtonEl.style.display =\n",
              "        google.colab.kernel.accessAllowed ? 'block' : 'none';\n",
              "    })();\n",
              "  </script>\n",
              "</div>\n",
              "    </div>\n",
              "  </div>\n"
            ],
            "text/plain": [
              "          attack_time  watcher_as_name  attacker_as_name  watcher_uuid_enum  \\\n",
              "0            0.016862         0.023853               0.0           0.010805   \n",
              "1            0.016746         0.023883               0.0           0.006725   \n",
              "2            0.016930         0.009903               0.0           0.012629   \n",
              "3            0.016898         0.009656               0.0           0.010651   \n",
              "4            0.016787         0.009804               0.0           0.011471   \n",
              "...               ...              ...               ...                ...   \n",
              "40290303     0.015599         0.003319               0.0           0.003350   \n",
              "40290304     0.015550         0.003361               0.0           0.003385   \n",
              "40290305     0.015541         0.003317               0.0           0.003340   \n",
              "40290306     0.015585         0.003364               0.0           0.003390   \n",
              "40290307     0.015550         0.003361               0.0           0.003385   \n",
              "\n",
              "          cantidad_ataques_ya_recibidos_x_ese_pais  \\\n",
              "0                                         0.016177   \n",
              "1                                         0.016105   \n",
              "2                                         0.016054   \n",
              "3                                         0.016007   \n",
              "4                                         0.016004   \n",
              "...                                            ...   \n",
              "40290303                                  0.003248   \n",
              "40290304                                  0.003383   \n",
              "40290305                                  0.003340   \n",
              "40290306                                  0.003258   \n",
              "40290307                                  0.003383   \n",
              "\n",
              "          cantidad_ataques_pais_x_hora  cantidad_ataques_AS_to_AS      freq  \\\n",
              "0                             0.016954                   0.000000  0.000000   \n",
              "1                             0.016844                   0.000000  0.000000   \n",
              "2                             0.016946                   0.050699  0.000000   \n",
              "3                             0.016634                   0.048271  0.000000   \n",
              "4                             0.016738                   0.050443  0.000000   \n",
              "...                                ...                        ...       ...   \n",
              "40290303                      0.009495                   0.034998  0.021869   \n",
              "40290304                      0.009284                   0.035296  0.019636   \n",
              "40290305                      0.009829                   0.034531  0.019807   \n",
              "40290306                      0.009444                   0.035557  0.021041   \n",
              "40290307                      0.009284                   0.035296  0.019636   \n",
              "\n",
              "          cantidad_pais_as_attacker  shodan_info  ...  watcher_DE  watcher_US  \\\n",
              "0                          0.000000     0.000000  ...           1           0   \n",
              "1                          0.000000     0.000000  ...           1           0   \n",
              "2                          0.000000     0.000000  ...           1           0   \n",
              "3                          0.000000     0.000000  ...           1           0   \n",
              "4                          0.000000     0.000000  ...           1           0   \n",
              "...                             ...          ...  ...         ...         ...   \n",
              "40290303                   0.027763     0.000336  ...           1           0   \n",
              "40290304                   0.029758     0.000342  ...           1           0   \n",
              "40290305                   0.029660     0.000334  ...           1           0   \n",
              "40290306                   0.029783     0.000338  ...           1           0   \n",
              "40290307                   0.029758     0.000342  ...           1           0   \n",
              "\n",
              "          watcher_otro_pais  watcher_FR  watcher_NL  watcher_GB  \\\n",
              "0                         0           0           0           0   \n",
              "1                         0           0           0           0   \n",
              "2                         0           0           0           0   \n",
              "3                         0           0           0           0   \n",
              "4                         0           0           0           0   \n",
              "...                     ...         ...         ...         ...   \n",
              "40290303                  0           0           0           0   \n",
              "40290304                  0           0           0           0   \n",
              "40290305                  0           0           0           0   \n",
              "40290306                  0           0           0           0   \n",
              "40290307                  0           0           0           0   \n",
              "\n",
              "          attacker_country_0  attacker_country_1  attacker_country_2  \\\n",
              "0                          0                   0                   0   \n",
              "1                          0                   0                   0   \n",
              "2                          0                   0                   0   \n",
              "3                          0                   0                   0   \n",
              "4                          0                   0                   0   \n",
              "...                      ...                 ...                 ...   \n",
              "40290303                   0                   1                   1   \n",
              "40290304                   0                   1                   1   \n",
              "40290305                   0                   1                   1   \n",
              "40290306                   0                   1                   1   \n",
              "40290307                   0                   1                   1   \n",
              "\n",
              "          attacker_country_3  \n",
              "0                          1  \n",
              "1                          1  \n",
              "2                          1  \n",
              "3                          1  \n",
              "4                          1  \n",
              "...                      ...  \n",
              "40290303                   0  \n",
              "40290304                   0  \n",
              "40290305                   0  \n",
              "40290306                   0  \n",
              "40290307                   0  \n",
              "\n",
              "[32212139 rows x 26 columns]"
            ]
          },
          "execution_count": 72,
          "metadata": {},
          "output_type": "execute_result"
        }
      ],
      "source": [
        "df_train"
      ]
    },
    {
      "cell_type": "code",
      "execution_count": null,
      "metadata": {
        "id": "OLJsOWDIXaHG"
      },
      "outputs": [],
      "source": [
        "import pickle\n",
        "filename = 'df_train_80_20_nulos_y_encodednewF.pickle'\n",
        "pickle.dump(df_train ,open(filename, \"wb\"))\n",
        "\n",
        "filename = 'y_train_80_20_nulos_y_encodednewF.pickle'\n",
        "pickle.dump(y_train, open(filename, \"wb\"))\n",
        "\n",
        "filename = 'X_validation_80_20_nulos_y_encodednewF.pickle'\n",
        "pickle.dump(X_validation, open(filename, \"wb\"))\n",
        "\n",
        "filename = 'y_validation_80_20_nulos_y_encodednewF.pickle'\n",
        "pickle.dump(y_validation, open(filename, \"wb\"))\n"
      ]
    },
    {
      "cell_type": "code",
      "execution_count": null,
      "metadata": {
        "id": "B7Id-b0d_4lb"
      },
      "outputs": [],
      "source": [
        "import pickle\n",
        "\n",
        "filename = 'mean_encoder_attacker_as_name.pickle'\n",
        "pickle.dump(encoder_attacker_as_name ,open(filename, \"wb\"))\n",
        "\n",
        "filename = 'mean_encoder_watcher_as_name.pickle'\n",
        "pickle.dump(encoder_watcher_as_name, open(filename, \"wb\"))\n",
        "\n",
        "filename = 'mean_encoder_shodan.pickle'\n",
        "pickle.dump(shodan_encoder, open(filename, \"wb\"))\n",
        "\n",
        "filename = 'mean_encoder_uuid.pickle'\n",
        "pickle.dump(uuid_encoder, open(filename, \"wb\"))\n",
        "\n",
        "filename = 'mean_encoder_time.pickle'\n",
        "pickle.dump(time_encoder ,open(filename, \"wb\"))\n",
        "\n",
        "filename = 'ohe_tipos_ataques.pickle'\n",
        "pickle.dump(ohe_encoder, open(filename, \"wb\"))\n",
        "\n",
        "filename = 'ohe_watcher_country.pickle'\n",
        "pickle.dump(ohe_watcher_country, open(filename, \"wb\"))\n",
        "\n",
        "filename = 'binary_attacker_country.pickle'\n",
        "pickle.dump(encoder_attacker_country, open(filename, \"wb\"))\n"
      ]
    },
    {
      "cell_type": "code",
      "execution_count": null,
      "metadata": {
        "id": "JA34u5Z5cNex"
      },
      "outputs": [],
      "source": [
        "import pickle\n",
        "filename = '/content/drive/MyDrive/data tp ml/Dataframes/df_con_features/df_ultimo_as_num/df_train_80_20_mas_encodeos.pickle'\n",
        "df_train  = pickle.load(open(filename, \"rb\"))\n",
        "\n",
        "filename = '/content/drive/MyDrive/data tp ml/Dataframes/df_con_features/df_ultimo_as_num/y_train_80_20_mas_encodeos.pickle'\n",
        "y_train =   pickle.load(open(filename, \"rb\"))\n",
        "\n",
        "filename = '/content/drive/MyDrive/data tp ml/Dataframes/df_con_features/df_ultimo_as_num/X_validation_80_20_mas_encodeos.pickle'\n",
        "X_validation = pickle.load(open(filename, \"rb\"))\n",
        "\n",
        "filename = '/content/drive/MyDrive/data tp ml/Dataframes/df_con_features/df_ultimo_as_num/y_validation_80_20_mas_encodeos.pickle'\n",
        "y_validation = pickle.load(open(filename, \"rb\"))"
      ]
    },
    {
      "cell_type": "code",
      "source": [
        "df_train.info()"
      ],
      "metadata": {
        "colab": {
          "base_uri": "https://localhost:8080/"
        },
        "id": "7c-PqrlH4ufw",
        "outputId": "fdc76d96-85fc-4080-cfc3-2beccdf8ee3a"
      },
      "execution_count": null,
      "outputs": [
        {
          "output_type": "stream",
          "name": "stdout",
          "text": [
            "<class 'pandas.core.frame.DataFrame'>\n",
            "Int64Index: 31987370 entries, 0 to 40039207\n",
            "Data columns (total 26 columns):\n",
            " #   Column                                    Dtype  \n",
            "---  ------                                    -----  \n",
            " 0   attack_time                               float32\n",
            " 1   watcher_as_name                           float32\n",
            " 2   attacker_as_name                          float32\n",
            " 3   watcher_uuid_enum                         float32\n",
            " 4   cantidad_ataques_ya_recibidos_x_ese_pais  float32\n",
            " 5   cantidad_ataques_pais_x_hora              float32\n",
            " 6   cantidad_ataques_AS_to_AS                 float32\n",
            " 7   freq                                      float32\n",
            " 8   cantidad_pais_as_attacker                 float32\n",
            " 9   shodan_info                               float32\n",
            " 10  http:exploit                              int8   \n",
            " 11  http:spam                                 int8   \n",
            " 12  http:bruteforce                           int8   \n",
            " 13  http:scan                                 int8   \n",
            " 14  ssh:bruteforce                            int8   \n",
            " 15  otro_tipo                                 int8   \n",
            " 16  watcher_DE                                int8   \n",
            " 17  watcher_NL                                int8   \n",
            " 18  watcher_FR                                int8   \n",
            " 19  watcher_GB                                int8   \n",
            " 20  watcher_US                                int8   \n",
            " 21  watcher_otro_pais                         int8   \n",
            " 22  attacker_country_0                        int8   \n",
            " 23  attacker_country_1                        int8   \n",
            " 24  attacker_country_2                        int8   \n",
            " 25  attacker_country_3                        int8   \n",
            "dtypes: float32(10), int8(16)\n",
            "memory usage: 1.9 GB\n"
          ]
        }
      ]
    },
    {
      "cell_type": "markdown",
      "metadata": {
        "id": "Bp_tR99gdPDr"
      },
      "source": [
        "#modelo\n"
      ]
    },
    {
      "cell_type": "code",
      "execution_count": null,
      "metadata": {
        "id": "ovDzkrj4xx8b"
      },
      "outputs": [],
      "source": [
        "parametros = {\n",
        "    'hidden_layer_sizes' : [(4, )],\n",
        "    'activation': ['relu'],\n",
        "    'solver': ['adam'] ,\n",
        "    'alpha': [10] ,\n",
        "    'batch_size': [500000],\n",
        "    'learning_rate': ['constant'],\n",
        "    'learning_rate_init': [1] ,\n",
        "    'max_iter': [200],\n",
        "    'tol': [0.001],\n",
        "    'early_stopping': [True],\n",
        "    'validation_fraction': [0.1],\n",
        "    'beta_1':[0.9],\n",
        "    'beta_2':[0.9],\n",
        "    'epsilon':[1e-08],\n",
        "    'n_iter_no_change':[2],\n",
        "    'random_state' : [21],\n",
        "    'shuffle' : [True]\n",
        "}\n",
        "\n",
        "modelo = MLPClassifier()"
      ]
    },
    {
      "cell_type": "code",
      "execution_count": null,
      "metadata": {
        "id": "hngEJ9lQ8gyV"
      },
      "outputs": [],
      "source": [
        "rs = RandomizedSearchCV(modelo, param_distributions=parametros, n_iter=1, cv = 3, random_state=21, verbose=4, scoring='f1', error_score='raise')"
      ]
    },
    {
      "cell_type": "code",
      "execution_count": null,
      "metadata": {
        "id": "D1G1P-w7-bnS"
      },
      "outputs": [],
      "source": [
        "rs.fit(df_train, y_train)"
      ]
    },
    {
      "cell_type": "code",
      "execution_count": null,
      "metadata": {
        "colab": {
          "base_uri": "https://localhost:8080/"
        },
        "id": "WWmjxgLYqFKA",
        "outputId": "6e350c5e-fefa-434d-c195-26fda4fd6991"
      },
      "outputs": [
        {
          "output_type": "execute_result",
          "data": {
            "text/plain": [
              "{'validation_fraction': 0.1,\n",
              " 'tol': 0.001,\n",
              " 'solver': 'adam',\n",
              " 'shuffle': True,\n",
              " 'random_state': 21,\n",
              " 'n_iter_no_change': 2,\n",
              " 'max_iter': 200,\n",
              " 'learning_rate_init': 1,\n",
              " 'learning_rate': 'constant',\n",
              " 'hidden_layer_sizes': (4,),\n",
              " 'epsilon': 1e-08,\n",
              " 'early_stopping': True,\n",
              " 'beta_2': 0.9,\n",
              " 'beta_1': 0.9,\n",
              " 'batch_size': 700000,\n",
              " 'alpha': 10,\n",
              " 'activation': 'relu'}"
            ]
          },
          "metadata": {},
          "execution_count": 40
        }
      ],
      "source": [
        "rs.best_params_"
      ]
    },
    {
      "cell_type": "code",
      "execution_count": null,
      "metadata": {
        "id": "hEUUrBNbqH9v"
      },
      "outputs": [],
      "source": [
        "from sklearn.metrics import confusion_matrix, f1_score, recall_score, accuracy_score, precision_score"
      ]
    },
    {
      "cell_type": "code",
      "execution_count": null,
      "metadata": {
        "id": "fmM9YEPyqMfV"
      },
      "outputs": [],
      "source": [
        "y_pred =rs.predict(X_validation)"
      ]
    },
    {
      "cell_type": "code",
      "execution_count": null,
      "metadata": {
        "colab": {
          "base_uri": "https://localhost:8080/"
        },
        "id": "i3QLmtR0qULA",
        "outputId": "9ff2943a-33ff-48e4-fcb9-71df2e35e996"
      },
      "outputs": [
        {
          "output_type": "execute_result",
          "data": {
            "text/plain": [
              "0.5403234056483458"
            ]
          },
          "metadata": {},
          "execution_count": 45
        }
      ],
      "source": [
        "f1_score(y_validation, y_pred)"
      ]
    },
    {
      "cell_type": "code",
      "execution_count": null,
      "metadata": {
        "colab": {
          "base_uri": "https://localhost:8080/"
        },
        "id": "8lPVyq6--Nep",
        "outputId": "3b2418b5-c09b-46ac-f29b-3cde47ba1364"
      },
      "outputs": [
        {
          "output_type": "execute_result",
          "data": {
            "text/plain": [
              "array([[7875196,       0],\n",
              "       [ 176642,       0]])"
            ]
          },
          "metadata": {},
          "execution_count": 39
        }
      ],
      "source": [
        "cm = confusion_matrix(y_validation, y_pred)\n",
        "cm"
      ]
    },
    {
      "cell_type": "code",
      "execution_count": null,
      "metadata": {
        "id": "qBQ7dX700HyN"
      },
      "outputs": [],
      "source": [
        "df_train.drop('label', axis=1, inplace=True)"
      ]
    },
    {
      "cell_type": "code",
      "execution_count": null,
      "metadata": {
        "id": "drRwIomkEiYk"
      },
      "outputs": [],
      "source": [
        "0.5728870908422214 con 3 hidden layers\n"
      ]
    },
    {
      "cell_type": "code",
      "execution_count": null,
      "metadata": {
        "id": "9-SJu84RoFRO"
      },
      "outputs": [],
      "source": [
        "0.5319160839160839\n",
        "\n",
        "\n",
        "array([[7841902,   33294],\n",
        "       [ 100578,   76064]])"
      ]
    },
    {
      "cell_type": "code",
      "execution_count": null,
      "metadata": {
        "id": "D2S7wy6WuYzo"
      },
      "outputs": [],
      "source": [
        "aux = df_train\n",
        "aux['label'] = y_train"
      ]
    },
    {
      "cell_type": "code",
      "execution_count": null,
      "metadata": {
        "colab": {
          "base_uri": "https://localhost:8080/"
        },
        "id": "zoJ8BYCeuouj",
        "outputId": "01fac595-0496-4149-d938-0c58bf5d1004"
      },
      "outputs": [
        {
          "data": {
            "text/plain": [
              "28001469"
            ]
          },
          "execution_count": 28,
          "metadata": {},
          "output_type": "execute_result"
        }
      ],
      "source": [
        "len(y_train)"
      ]
    },
    {
      "cell_type": "code",
      "execution_count": null,
      "metadata": {
        "colab": {
          "base_uri": "https://localhost:8080/"
        },
        "id": "UmGvwX9musao",
        "outputId": "4262f8e7-0821-4b4f-a3e1-fceb145f4301"
      },
      "outputs": [
        {
          "data": {
            "text/plain": [
              "9333823.0"
            ]
          },
          "execution_count": 29,
          "metadata": {},
          "output_type": "execute_result"
        }
      ],
      "source": [
        "28001469/3"
      ]
    },
    {
      "cell_type": "code",
      "execution_count": null,
      "metadata": {
        "colab": {
          "base_uri": "https://localhost:8080/"
        },
        "id": "8Ri8K4I8vQvw",
        "outputId": "166f85c5-b0f1-4354-918d-81ceba38d1e9"
      },
      "outputs": [
        {
          "data": {
            "text/plain": [
              "18667646"
            ]
          },
          "execution_count": 30,
          "metadata": {},
          "output_type": "execute_result"
        }
      ],
      "source": [
        "9333823 * 2"
      ]
    },
    {
      "cell_type": "code",
      "execution_count": null,
      "metadata": {
        "id": "yfbOVcdyugg6"
      },
      "outputs": [],
      "source": [
        "y_train1 = y_train[:9333823]\n",
        "y_train2 = y_train[9333823 : 18667646]\n",
        "y_train3 = y_train[18667646:]"
      ]
    },
    {
      "cell_type": "code",
      "execution_count": null,
      "metadata": {
        "colab": {
          "base_uri": "https://localhost:8080/"
        },
        "id": "b7nlA1rWvr5G",
        "outputId": "1f031c89-c651-4fd5-e631-cd0f5eb032fe"
      },
      "outputs": [
        {
          "data": {
            "text/plain": [
              "0    9203965\n",
              "1     129858\n",
              "Name: label, dtype: int64"
            ]
          },
          "execution_count": 32,
          "metadata": {},
          "output_type": "execute_result"
        }
      ],
      "source": [
        "y_train1.value_counts()"
      ]
    },
    {
      "cell_type": "code",
      "execution_count": null,
      "metadata": {
        "colab": {
          "base_uri": "https://localhost:8080/"
        },
        "id": "fbIqwXsWvuqu",
        "outputId": "eae66dbf-8f6e-440a-cb1d-d98cbe403dd1"
      },
      "outputs": [
        {
          "data": {
            "text/plain": [
              "0    9177359\n",
              "1     156464\n",
              "Name: label, dtype: int64"
            ]
          },
          "execution_count": 33,
          "metadata": {},
          "output_type": "execute_result"
        }
      ],
      "source": [
        "y_train2.value_counts()"
      ]
    },
    {
      "cell_type": "code",
      "execution_count": null,
      "metadata": {
        "colab": {
          "base_uri": "https://localhost:8080/"
        },
        "id": "x_qhaTGWvv6P",
        "outputId": "5823beaa-85cf-4cbf-9f22-e42017610f0a"
      },
      "outputs": [
        {
          "data": {
            "text/plain": [
              "0    9163798\n",
              "1     170025\n",
              "Name: label, dtype: int64"
            ]
          },
          "execution_count": 34,
          "metadata": {},
          "output_type": "execute_result"
        }
      ],
      "source": [
        "y_train3.value_counts()"
      ]
    }
  ],
  "metadata": {
    "colab": {
      "collapsed_sections": [
        "0zYDZe50fIiI",
        "2z9gb5iKKAu3",
        "9CwImxYwEPeI",
        "7kQ9wZ6zNoOW",
        "PpSgjHVyRTLr",
        "Z8Q-owRWGCsr",
        "8jw_HOWAGu8L",
        "kSgb4ZkBPxvl",
        "-fJ6OllRUKUS",
        "Me0nGpsCYasM"
      ],
      "provenance": [],
      "include_colab_link": true
    },
    "kernelspec": {
      "display_name": "Python 3",
      "name": "python3"
    },
    "language_info": {
      "name": "python"
    }
  },
  "nbformat": 4,
  "nbformat_minor": 0
}